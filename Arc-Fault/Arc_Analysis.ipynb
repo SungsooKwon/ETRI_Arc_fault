{
 "cells": [
  {
   "cell_type": "markdown",
   "metadata": {},
   "source": [
    "## Import"
   ]
  },
  {
   "cell_type": "code",
   "execution_count": 1,
   "metadata": {},
   "outputs": [],
   "source": [
    "import pandas as pd\n",
    "import numpy as np"
   ]
  },
  {
   "cell_type": "markdown",
   "metadata": {},
   "source": [
    "## Data preprocessing"
   ]
  },
  {
   "cell_type": "code",
   "execution_count": 2,
   "metadata": {},
   "outputs": [
    {
     "name": "stdout",
     "output_type": "stream",
     "text": [
      "Installed tensorflow version:  2.7.0\n"
     ]
    }
   ],
   "source": [
    "import os, shutil\n",
    "import time\n",
    "import math\n",
    "import numpy as np\n",
    "import pandas as pd\n",
    "import matplotlib.pyplot as plt\n",
    "%matplotlib inline\n",
    "from scipy import io, signal\n",
    "from scipy.fftpack import fft, fftshift\n",
    "\n",
    "import tensorflow as tf\n",
    "from tensorflow.keras import models, layers, regularizers, optimizers\n",
    "from tensorflow.keras.callbacks import LearningRateScheduler\n",
    "\n",
    "print(\"Installed tensorflow version: \", tf.__version__)"
   ]
  },
  {
   "cell_type": "code",
   "execution_count": 19,
   "metadata": {},
   "outputs": [],
   "source": [
    "## 수정 후 \n",
    "\n",
    "base_dir = \"/home/wkchoi/Arc-Fault/Fan\"\n",
    "\n",
    "file_path = os.path.join(base_dir, \"Fan_1_normal_humid_room_data.xlsx\")\n",
    "fan1_normal_raw = pd.read_excel(file_path, index_col=None, header=None, sheet_name='Sheet1')\n",
    "\n",
    "file_path = os.path.join(base_dir, \"Fan_2_arc_humid_45_data.xlsx\")\n",
    "fan1_arc_raw = pd.read_excel(file_path, index_col=None, header=None, sheet_name='Sheet1') "
   ]
  },
  {
   "cell_type": "code",
   "execution_count": 16,
   "metadata": {},
   "outputs": [
    {
     "name": "stdout",
     "output_type": "stream",
     "text": [
      "(90002, 50)\n",
      "(90002, 39)\n"
     ]
    }
   ],
   "source": [
    "print(fan1_normal_raw.shape)\n",
    "print(fan1_arc_raw.shape)"
   ]
  },
  {
   "cell_type": "code",
   "execution_count": 20,
   "metadata": {},
   "outputs": [],
   "source": [
    "##### measured data trimming\n",
    "fan1_normal = fan1_normal_raw.to_numpy()\n",
    "fan1_arc = fan1_arc_raw.to_numpy()[:,:39] #1~39 "
   ]
  },
  {
   "cell_type": "code",
   "execution_count": 21,
   "metadata": {},
   "outputs": [
    {
     "name": "stdout",
     "output_type": "stream",
     "text": [
      "(90002, 50)\n",
      "(90002, 39)\n"
     ]
    }
   ],
   "source": [
    "print(fan1_normal.shape)\n",
    "print(fan1_arc.shape)"
   ]
  },
  {
   "cell_type": "code",
   "execution_count": 22,
   "metadata": {},
   "outputs": [
    {
     "name": "stdout",
     "output_type": "stream",
     "text": [
      "[Info.] normal_n data shape:  (90002, 50)\n",
      "[Info.] arc_n data shape:  (90002, 39)\n"
     ]
    }
   ],
   "source": [
    "fan1_normal_n = np.zeros((fan1_normal.shape[0],fan1_normal.shape[1]))\n",
    "for i in range(fan1_normal.shape[1]):\n",
    "    fan1_normal_n[:,i] = fan1_normal[:,i]/max(abs(fan1_normal[:,i]))  \n",
    "    \n",
    "fan1_arc_n = np.zeros((fan1_arc.shape[0],fan1_arc.shape[1]))\n",
    "for i in range(fan1_arc.shape[1]):\n",
    "    fan1_arc_n[:,i] = fan1_arc[:,i]/max(abs(fan1_arc[:,i]))\n",
    "\n",
    "print(\"[Info.] normal_n data shape: \", fan1_normal_n.shape)  \n",
    "print(\"[Info.] arc_n data shape: \", fan1_arc_n.shape) "
   ]
  },
  {
   "cell_type": "code",
   "execution_count": 23,
   "metadata": {},
   "outputs": [
    {
     "name": "stdout",
     "output_type": "stream",
     "text": [
      "[[ 0.42786007  0.55435647  0.38933486 ...  0.35603366  0.39043718\n",
      "   0.69881834]\n",
      " [ 0.49701985  0.50617879  0.32758664 ...  0.31923559  0.3294809\n",
      "   0.73726707]\n",
      " [ 0.49701985  0.512201    0.42020896 ...  0.33150161  0.3721503\n",
      "   0.76289955]\n",
      " ...\n",
      " [-0.37690817 -0.66212993 -0.47514017 ... -0.41672594 -0.48733328\n",
      "  -0.62125444]\n",
      " [-0.44606794 -0.63804109 -0.43191641 ... -0.45965703 -0.50562016\n",
      "  -0.67251941]\n",
      " [-0.43349344 -0.69224098 -0.46896534 ... -0.46579005 -0.48733328\n",
      "  -0.67251941]]\n"
     ]
    }
   ],
   "source": [
    "print(fan1_normal_n)"
   ]
  },
  {
   "cell_type": "code",
   "execution_count": 24,
   "metadata": {},
   "outputs": [
    {
     "name": "stdout",
     "output_type": "stream",
     "text": [
      "40\n",
      "[Info.] Total normal data shape:  (18000, 2000)\n",
      "[Info.] Total arc data shape: (18000, 1560)\n"
     ]
    }
   ],
   "source": [
    "winT = 18000 # one priod\n",
    "dT = round(winT / 10)\n",
    "Num = round((fan1_normal_n.shape[0] - winT)/dT)\n",
    "print(Num)\n",
    "\n",
    "##### Normal data\n",
    "normal_tot = np.zeros((winT,Num*fan1_normal_n.shape[1]))\n",
    "index = 0\n",
    "for i in range(fan1_normal_n.shape[1]):\n",
    "    for j in range(Num):\n",
    "        index = Num*i+j\n",
    "        normal_tot[:,index] = fan1_normal_n[j*dT:winT+j*dT,i]\n",
    "        \n",
    "print(\"[Info.] Total normal data shape: \", normal_tot.shape)   \n",
    "\n",
    "##### Arc data\n",
    "arc_tot = np.zeros((winT,Num*fan1_arc_n.shape[1]))\n",
    "index = 0\n",
    "for i in range(fan1_arc_n.shape[1]):\n",
    "    for j in range(Num):\n",
    "        index = Num*i+j\n",
    "        arc_tot[:,index] = fan1_arc_n[j*dT:winT+j*dT,i]\n",
    "        \n",
    "print(\"[Info.] Total arc data shape:\", arc_tot.shape)  "
   ]
  },
  {
   "cell_type": "code",
   "execution_count": 25,
   "metadata": {},
   "outputs": [
    {
     "name": "stdout",
     "output_type": "stream",
     "text": [
      "(18000, 2000)\n",
      "(18000, 1560)\n"
     ]
    }
   ],
   "source": [
    "print(normal_tot.shape)\n",
    "print(arc_tot.shape)"
   ]
  },
  {
   "cell_type": "markdown",
   "metadata": {},
   "source": [
    "- Normal_Total 특성 추출"
   ]
  },
  {
   "cell_type": "code",
   "execution_count": 27,
   "metadata": {},
   "outputs": [],
   "source": [
    "feature_data = np.zeros(shape=(39,2000))\n",
    "mean_val = np.zeros((10, 2000))\n",
    "std_val = np.zeros((10, 2000))\n",
    "Pole_diff = np.zeros((10, 2000))\n",
    "Avg_diff = np.zeros((9, 2000))\n",
    "\n",
    "for i in range(2000):\n",
    "    sig = normal_tot[:, i]\n",
    "    win = round(normal_tot.shape[0]/10)\n",
    "    for j in range(10):\n",
    "        tmp = normal_tot[int(j * win) : int((j + 1) * win)]\n",
    "        mean_val[j] = np.mean(tmp[j],axis=0)\n",
    "        std_val[j] = np.std(tmp[j])\n",
    "        Pole_diff[j] = np.max(tmp[j]) - np.min(tmp[j])\n",
    "    for z in range(9):\n",
    "        Avg_diff[z] = np.mean(tmp[z], axis=0) - np.mean(tmp[z+1],axis=0)\n",
    "\n",
    "feature_data_n = np.concatenate((mean_val, std_val, Pole_diff, Avg_diff), axis =0)"
   ]
  },
  {
   "cell_type": "markdown",
   "metadata": {},
   "source": [
    "- Arc_Total 특성 추출"
   ]
  },
  {
   "cell_type": "code",
   "execution_count": 31,
   "metadata": {},
   "outputs": [],
   "source": [
    "feature_data = np.zeros(shape=(39,1560))\n",
    "mean_val = np.zeros((10, 1560))\n",
    "std_val = np.zeros((10, 1560))\n",
    "Pole_diff = np.zeros((10, 1560))\n",
    "Avg_diff = np.zeros((9, 1560))\n",
    "\n",
    "for i in range(1560):\n",
    "    sig = arc_tot[:, i]\n",
    "    win = round(arc_tot.shape[0]/10)\n",
    "    for j in range(10):\n",
    "        tmp = arc_tot[int(j * win) : int((j + 1) * win)]\n",
    "        mean_val[j] = np.mean(tmp[j],axis=0)\n",
    "        std_val[j] = np.std(tmp[j])\n",
    "        Pole_diff[j] = np.max(tmp[j]) - np.min(tmp[j])\n",
    "    for z in range(9):\n",
    "        Avg_diff[z] = np.mean(tmp[z], axis=0) - np.mean(tmp[z+1],axis=0)\n",
    "\n",
    "feature_data_a= np.concatenate((mean_val, std_val, Pole_diff, Avg_diff), axis =0)"
   ]
  },
  {
   "cell_type": "code",
   "execution_count": 29,
   "metadata": {},
   "outputs": [
    {
     "name": "stdout",
     "output_type": "stream",
     "text": [
      "(10, 1480)\n",
      "(10, 1480)\n",
      "(10, 1480)\n",
      "(9, 1480)\n",
      "(39, 1480)\n"
     ]
    }
   ],
   "source": [
    "print(mean_val.shape)\n",
    "print(std_val.shape)\n",
    "print(Pole_diff.shape)\n",
    "print(Avg_diff.shape)\n",
    "print(feature_data.shape)"
   ]
  },
  {
   "cell_type": "code",
   "execution_count": 32,
   "metadata": {},
   "outputs": [
    {
     "name": "stdout",
     "output_type": "stream",
     "text": [
      "(39, 2000)\n",
      "(39, 1560)\n"
     ]
    }
   ],
   "source": [
    "print(feature_data_n.shape)\n",
    "print(feature_data_a.shape)"
   ]
  },
  {
   "cell_type": "code",
   "execution_count": null,
   "metadata": {},
   "outputs": [],
   "source": []
  },
  {
   "cell_type": "code",
   "execution_count": null,
   "metadata": {},
   "outputs": [],
   "source": []
  },
  {
   "cell_type": "markdown",
   "metadata": {},
   "source": [
    "## Feature Extraction"
   ]
  },
  {
   "cell_type": "markdown",
   "metadata": {},
   "source": [
    "### PCA"
   ]
  },
  {
   "cell_type": "code",
   "execution_count": 26,
   "metadata": {
    "scrolled": true
   },
   "outputs": [
    {
     "ename": "NameError",
     "evalue": "name 'arc_corr' is not defined",
     "output_type": "error",
     "traceback": [
      "\u001b[0;31m---------------------------------------------------------------------------\u001b[0m",
      "\u001b[0;31mNameError\u001b[0m                                 Traceback (most recent call last)",
      "\u001b[0;32m<ipython-input-26-39c420d95239>\u001b[0m in \u001b[0;36m<module>\u001b[0;34m\u001b[0m\n\u001b[1;32m      2\u001b[0m \u001b[0;34m\u001b[0m\u001b[0m\n\u001b[1;32m      3\u001b[0m \u001b[0mscaler\u001b[0m \u001b[0;34m=\u001b[0m \u001b[0mMinMaxScaler\u001b[0m\u001b[0;34m(\u001b[0m\u001b[0;34m)\u001b[0m\u001b[0;34m\u001b[0m\u001b[0;34m\u001b[0m\u001b[0m\n\u001b[0;32m----> 4\u001b[0;31m \u001b[0marc_scale\u001b[0m \u001b[0;34m=\u001b[0m \u001b[0mpd\u001b[0m\u001b[0;34m.\u001b[0m\u001b[0mDataFrame\u001b[0m\u001b[0;34m(\u001b[0m\u001b[0mscaler\u001b[0m\u001b[0;34m.\u001b[0m\u001b[0mfit_transform\u001b[0m\u001b[0;34m(\u001b[0m\u001b[0marc_corr\u001b[0m\u001b[0;34m)\u001b[0m\u001b[0;34m,\u001b[0m \u001b[0mcolumns\u001b[0m\u001b[0;34m=\u001b[0m\u001b[0marc_corr\u001b[0m\u001b[0;34m.\u001b[0m\u001b[0mcolumns\u001b[0m\u001b[0;34m)\u001b[0m\u001b[0;34m\u001b[0m\u001b[0;34m\u001b[0m\u001b[0m\n\u001b[0m",
      "\u001b[0;31mNameError\u001b[0m: name 'arc_corr' is not defined"
     ]
    }
   ],
   "source": [
    "from sklearn.preprocessing import MinMaxScaler\n",
    "\n",
    "scaler = MinMaxScaler()\n",
    "arc_scale = pd.DataFrame(scaler.fit_transform(arc_corr), columns=arc_corr.columns)"
   ]
  },
  {
   "cell_type": "code",
   "execution_count": null,
   "metadata": {},
   "outputs": [],
   "source": [
    "from sklearn.decomposition import PCA\n",
    "\n",
    "pca = PCA(n_components = 3) # 주성분 개수: 2\n",
    "pca.fit(arc_scale)\n",
    "arc_pca = pca.transform(arc_scale)\n",
    "print(arc_pca.shape)"
   ]
  },
  {
   "cell_type": "code",
   "execution_count": null,
   "metadata": {},
   "outputs": [],
   "source": [
    "# PCA 주성분분석\n",
    "pd.Series(np.cumsum(pca.explained_variance_ratio_))"
   ]
  },
  {
   "cell_type": "code",
   "execution_count": null,
   "metadata": {},
   "outputs": [],
   "source": [
    "pca_columns=['PC1','PC2']\n",
    "arc_pca = pd.DataFrame(arc_pca, columns=pca_columns)\n",
    "arc_pca['label']=arc_df.label\n",
    "arc_pca"
   ]
  },
  {
   "cell_type": "markdown",
   "metadata": {},
   "source": [
    "## SVM"
   ]
  },
  {
   "cell_type": "code",
   "execution_count": null,
   "metadata": {},
   "outputs": [],
   "source": [
    "features = X_train_res\n",
    "target = y_train_res"
   ]
  },
  {
   "cell_type": "code",
   "execution_count": null,
   "metadata": {},
   "outputs": [],
   "source": [
    "from sklearn.svm import SVC\n",
    "from sklearn import svm, metrics\n",
    "import numpy as np\n",
    "import matplotlib.pyplot as plt\n",
    "\n",
    "svc = SVC(kernel = 'linear', class_weight = 'balanced', C = 1.0, random_state = 0)"
   ]
  },
  {
   "cell_type": "code",
   "execution_count": null,
   "metadata": {},
   "outputs": [],
   "source": [
    "model = svc.fit(features, target) # SVM 모델 학습"
   ]
  },
  {
   "cell_type": "code",
   "execution_count": null,
   "metadata": {},
   "outputs": [],
   "source": [
    "from sklearn.metrics import confusion_matrix\n",
    "y_pred = svc.predict(features)\n",
    "confusion_matrix(target, y_pred) # 혼동 행렬 출력"
   ]
  },
  {
   "cell_type": "code",
   "execution_count": null,
   "metadata": {},
   "outputs": [],
   "source": [
    "# 정확도 계산.\n",
    "print('학습용 데이터로 측정한 정확도 = %.2f' % svm.score(trainX, trainY))\n",
    "print('시험용 데이터로 측정한 정확도 = %.2f' % svm.score(testX, testY))\n"
   ]
  },
  {
   "cell_type": "markdown",
   "metadata": {},
   "source": [
    "## kernel SVM 적합 및 비교"
   ]
  },
  {
   "cell_type": "markdown",
   "metadata": {},
   "source": [
    "- LinearSVC"
   ]
  },
  {
   "cell_type": "code",
   "execution_count": null,
   "metadata": {},
   "outputs": [],
   "source": [
    "clf = svm.LinearSVC(C = 1.0, max_iter = 10000)\n",
    "clf.fit(features, target)\n",
    "y_pred = clf.predict(features)\n",
    "confusion_matrix(target, y_pred)"
   ]
  },
  {
   "cell_type": "code",
   "execution_count": null,
   "metadata": {},
   "outputs": [],
   "source": [
    "# 정확도 계산.\n",
    "print('학습용 데이터로 측정한 정확도 = %.2f' % svm.score(trainX, trainY))\n",
    "print('시험용 데이터로 측정한 정확도 = %.2f' % svm.score(testX, testY))"
   ]
  },
  {
   "cell_type": "markdown",
   "metadata": {},
   "source": [
    "- radial basis function"
   ]
  },
  {
   "cell_type": "code",
   "execution_count": null,
   "metadata": {},
   "outputs": [],
   "source": [
    "clf = svm.SVC(kernel = 'rbf', gamma = 0.7, max_iter = 10000)\n",
    "clf.fit(features, target)\n",
    "y_pred = clf.predict(features)\n",
    "confusion_matrix(target, y_pred)"
   ]
  },
  {
   "cell_type": "code",
   "execution_count": null,
   "metadata": {},
   "outputs": [],
   "source": [
    "# 정확도 계산.\n",
    "print('학습용 데이터로 측정한 정확도 = %.2f' % svm.score(trainX, trainY))\n",
    "print('시험용 데이터로 측정한 정확도 = %.2f' % svm.score(testX, testY))"
   ]
  },
  {
   "cell_type": "markdown",
   "metadata": {},
   "source": [
    "- polynomial kernel"
   ]
  },
  {
   "cell_type": "code",
   "execution_count": null,
   "metadata": {},
   "outputs": [],
   "source": [
    "clf = svm.SVC(kernel = 'rbf',degree = 3, C = 0.1,gamma = 'auto')\n",
    "clf.fit(features, target)\n",
    "y_pred = clf.predict(features)\n",
    "confusion_matrix(target, y_pred)"
   ]
  },
  {
   "cell_type": "code",
   "execution_count": null,
   "metadata": {},
   "outputs": [],
   "source": [
    "# 정확도 계산.\n",
    "print('학습용 데이터로 측정한 정확도 = %.2f' % svm.score(trainX, trainY))\n",
    "print('시험용 데이터로 측정한 정확도 = %.2f' % svm.score(testX, testY))"
   ]
  },
  {
   "cell_type": "markdown",
   "metadata": {},
   "source": [
    "## Visualization"
   ]
  },
  {
   "cell_type": "markdown",
   "metadata": {},
   "source": [
    "- 1"
   ]
  },
  {
   "cell_type": "code",
   "execution_count": null,
   "metadata": {},
   "outputs": [],
   "source": [
    "# create Function (시각화 함수 생성)\n",
    "def make_meshgrid(x, y, h = .02):\n",
    "    x_min, x_max = x.min()-1, x.max() + 1\n",
    "    y_min, y_max = y.min()-1, y.max() + 1\n",
    "    xx, yy = np.meshgrid(np.arange(x_min, x_max, h),\n",
    "                        np.arange(y_min, y_max, h))\n",
    "    return xx, yy\n",
    "\n",
    "def plot_contours(ax, clf, xx, yy, **params):\n",
    "    Z = clf.predict(np.c_[xx.ravel(), yy.ravel()])\n",
    "    Z = Z.reshape(xx.shape)\n",
    "    out = ax.contourf(xx, yy, Z, **params)\n",
    "    return out"
   ]
  },
  {
   "cell_type": "code",
   "execution_count": null,
   "metadata": {},
   "outputs": [],
   "source": [
    "# 모델 정의 및 피팅\n",
    "C = 1.0 # Regularization parameter\n",
    "models = (svm.SVC(kernel = 'linear', C=C),\n",
    "         svm.LinearSVC(C=C, max_iter = 10000),\n",
    "         svm.SVC(kernel = 'rbf', gamma = 0.7, C=C),\n",
    "         svm.SVC(kernel = 'poly', degree = 3, gamma = 'auto', C=C))\n",
    "models = (clf.fit(X, y) for clf in models)"
   ]
  },
  {
   "cell_type": "code",
   "execution_count": null,
   "metadata": {},
   "outputs": [],
   "source": [
    "titles = ('SVC with linear kernel',\n",
    "         'LinearSVC (linear kernel)',\n",
    "         'SVC with RBF kernel',\n",
    "         'SVC with polynomial (degree 3) kernel')"
   ]
  },
  {
   "cell_type": "code",
   "execution_count": null,
   "metadata": {},
   "outputs": [],
   "source": [
    "fig, sub = plt.subplots(2,2)\n",
    "plt.subplots_adjust(wspace = 0.4, hspace = 0.4)\n",
    "\n",
    "X0, X1 = X[:, 0], X[:, 1]\n",
    "xx, yy = make_meshgrid(X0, X1)\n",
    "\n",
    "for clf, title, ax in zip(models, titles, sub.flatten()):\n",
    "    plot_contours(ax, clf, xx, yy, cmap = plt.cm.coolwarm, alpha = 0.8)\n",
    "    ax.scatter(X0, X1, c = y, cmap=plt.cm.coolwarm, s = 20, edgecolors = 'k')\n",
    "    ax.set_xlim(xx.min(), xx.max())\n",
    "    #ax_set_ylim(yy.min(), yy.max())\n",
    "    ax.set_xlabel('Sepal length')\n",
    "    ax.set_ylabel('Sepal width')\n",
    "    ax.set_yticks(())\n",
    "    ax.set_xticks(())\n",
    "    ax.set_title(title)\n",
    "\n",
    "plt.show()"
   ]
  },
  {
   "cell_type": "markdown",
   "metadata": {},
   "source": [
    "- 2"
   ]
  },
  {
   "cell_type": "code",
   "execution_count": null,
   "metadata": {},
   "outputs": [],
   "source": [
    "# Visualization\n",
    "import matplotlib.pyplot as plt\n",
    "import mglearn\n",
    "%matplotlib inline\n",
    "\n",
    "plt.figure(figsize=(8,5))\n",
    "mglearn.plots.plot_2d_classification(svm, trainX, alpha=0.1)\n",
    "mglearn.discrete_scatter(trainX[:,0], trainX[:,1], trainY)\n",
    "plt.legend()\n",
    "plt.xlabel('')\n",
    "plt.ylabel('')\n",
    "plt.show()\n",
    "\n",
    "# 정확도 계산.\n",
    "print('학습용 데이터로 측정한 정확도 = %.2f' % svm.score(trainX, trainY))\n",
    "print('시험용 데이터로 측정한 정확도 = %.2f' % svm.score(testX, testY))"
   ]
  }
 ],
 "metadata": {
  "kernelspec": {
   "display_name": "Python 3",
   "language": "python",
   "name": "python3"
  },
  "language_info": {
   "codemirror_mode": {
    "name": "ipython",
    "version": 3
   },
   "file_extension": ".py",
   "mimetype": "text/x-python",
   "name": "python",
   "nbconvert_exporter": "python",
   "pygments_lexer": "ipython3",
   "version": "3.8.3"
  }
 },
 "nbformat": 4,
 "nbformat_minor": 4
}

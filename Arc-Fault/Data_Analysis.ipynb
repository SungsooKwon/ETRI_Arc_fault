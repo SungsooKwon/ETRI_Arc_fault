{
 "cells": [
  {
   "cell_type": "code",
   "execution_count": 1,
   "metadata": {},
   "outputs": [],
   "source": [
    "import pandas as pd\n",
    "import numpy as np"
   ]
  },
  {
   "cell_type": "code",
   "execution_count": 2,
   "metadata": {},
   "outputs": [],
   "source": [
    "# 지수 표현 제거\n",
    "pd.options.display.float_format = '{:.5f}'.format"
   ]
  },
  {
   "cell_type": "code",
   "execution_count": 3,
   "metadata": {},
   "outputs": [
    {
     "name": "stdout",
     "output_type": "stream",
     "text": [
      "/home/wkchoi/Arc-Fault\r\n"
     ]
    }
   ],
   "source": [
    "!pwd"
   ]
  },
  {
   "cell_type": "code",
   "execution_count": 4,
   "metadata": {
    "scrolled": false
   },
   "outputs": [
    {
     "data": {
      "text/html": [
       "<div>\n",
       "<style scoped>\n",
       "    .dataframe tbody tr th:only-of-type {\n",
       "        vertical-align: middle;\n",
       "    }\n",
       "\n",
       "    .dataframe tbody tr th {\n",
       "        vertical-align: top;\n",
       "    }\n",
       "\n",
       "    .dataframe thead th {\n",
       "        text-align: right;\n",
       "    }\n",
       "</style>\n",
       "<table border=\"1\" class=\"dataframe\">\n",
       "  <thead>\n",
       "    <tr style=\"text-align: right;\">\n",
       "      <th></th>\n",
       "      <th>Max</th>\n",
       "      <th>Mean</th>\n",
       "      <th>Std</th>\n",
       "      <th>Full_diff</th>\n",
       "      <th>FFT_Mag1</th>\n",
       "      <th>FFT_Hz1</th>\n",
       "      <th>FFT_Mag2</th>\n",
       "      <th>FFT_Hz2</th>\n",
       "      <th>STFT_Mag1</th>\n",
       "      <th>STFT_Hz1</th>\n",
       "      <th>STFT_Mag2</th>\n",
       "      <th>STFT_Hz2</th>\n",
       "      <th>STFT_diff</th>\n",
       "      <th>label</th>\n",
       "    </tr>\n",
       "  </thead>\n",
       "  <tbody>\n",
       "    <tr>\n",
       "      <th>0</th>\n",
       "      <td>0.25965</td>\n",
       "      <td>0.00527</td>\n",
       "      <td>0.14480</td>\n",
       "      <td>0.50830</td>\n",
       "      <td>0.02436</td>\n",
       "      <td>1000488.75855</td>\n",
       "      <td>0.01515</td>\n",
       "      <td>1000977.51711</td>\n",
       "      <td>0.04856</td>\n",
       "      <td>0.00000</td>\n",
       "      <td>0.02362</td>\n",
       "      <td>761718.75000</td>\n",
       "      <td>-761718.75000</td>\n",
       "      <td>0</td>\n",
       "    </tr>\n",
       "    <tr>\n",
       "      <th>1</th>\n",
       "      <td>0.26263</td>\n",
       "      <td>0.00334</td>\n",
       "      <td>0.14480</td>\n",
       "      <td>0.51157</td>\n",
       "      <td>0.03535</td>\n",
       "      <td>1000488.75855</td>\n",
       "      <td>0.01261</td>\n",
       "      <td>1334799.60899</td>\n",
       "      <td>0.05855</td>\n",
       "      <td>0.00000</td>\n",
       "      <td>0.02980</td>\n",
       "      <td>3515625.00000</td>\n",
       "      <td>-3515625.00000</td>\n",
       "      <td>0</td>\n",
       "    </tr>\n",
       "    <tr>\n",
       "      <th>2</th>\n",
       "      <td>0.25702</td>\n",
       "      <td>0.01063</td>\n",
       "      <td>0.14856</td>\n",
       "      <td>0.50467</td>\n",
       "      <td>0.02626</td>\n",
       "      <td>1000488.75855</td>\n",
       "      <td>0.01876</td>\n",
       "      <td>1000977.51711</td>\n",
       "      <td>0.06945</td>\n",
       "      <td>0.00000</td>\n",
       "      <td>0.02619</td>\n",
       "      <td>2714843.75000</td>\n",
       "      <td>-2714843.75000</td>\n",
       "      <td>0</td>\n",
       "    </tr>\n",
       "    <tr>\n",
       "      <th>3</th>\n",
       "      <td>0.26208</td>\n",
       "      <td>0.00340</td>\n",
       "      <td>0.14493</td>\n",
       "      <td>0.50842</td>\n",
       "      <td>0.02686</td>\n",
       "      <td>1000488.75855</td>\n",
       "      <td>0.01511</td>\n",
       "      <td>1001466.27566</td>\n",
       "      <td>0.05290</td>\n",
       "      <td>0.00000</td>\n",
       "      <td>0.02466</td>\n",
       "      <td>957031.25000</td>\n",
       "      <td>-957031.25000</td>\n",
       "      <td>0</td>\n",
       "    </tr>\n",
       "    <tr>\n",
       "      <th>4</th>\n",
       "      <td>0.26085</td>\n",
       "      <td>0.00035</td>\n",
       "      <td>0.14501</td>\n",
       "      <td>0.51083</td>\n",
       "      <td>0.02429</td>\n",
       "      <td>1000488.75855</td>\n",
       "      <td>0.01518</td>\n",
       "      <td>1001466.27566</td>\n",
       "      <td>0.05557</td>\n",
       "      <td>0.00000</td>\n",
       "      <td>0.02488</td>\n",
       "      <td>0.00000</td>\n",
       "      <td>0.00000</td>\n",
       "      <td>0</td>\n",
       "    </tr>\n",
       "    <tr>\n",
       "      <th>5</th>\n",
       "      <td>0.26219</td>\n",
       "      <td>0.00845</td>\n",
       "      <td>0.14112</td>\n",
       "      <td>0.50832</td>\n",
       "      <td>0.01860</td>\n",
       "      <td>1000488.75855</td>\n",
       "      <td>0.01557</td>\n",
       "      <td>1321114.36950</td>\n",
       "      <td>0.03502</td>\n",
       "      <td>0.00000</td>\n",
       "      <td>0.02325</td>\n",
       "      <td>2500000.00000</td>\n",
       "      <td>-2500000.00000</td>\n",
       "      <td>0</td>\n",
       "    </tr>\n",
       "    <tr>\n",
       "      <th>6</th>\n",
       "      <td>0.26255</td>\n",
       "      <td>0.01018</td>\n",
       "      <td>0.14235</td>\n",
       "      <td>0.51059</td>\n",
       "      <td>0.02065</td>\n",
       "      <td>1000488.75855</td>\n",
       "      <td>0.01492</td>\n",
       "      <td>1000000.00000</td>\n",
       "      <td>0.04690</td>\n",
       "      <td>0.00000</td>\n",
       "      <td>0.02319</td>\n",
       "      <td>0.00000</td>\n",
       "      <td>0.00000</td>\n",
       "      <td>0</td>\n",
       "    </tr>\n",
       "    <tr>\n",
       "      <th>7</th>\n",
       "      <td>0.26176</td>\n",
       "      <td>0.00619</td>\n",
       "      <td>0.14468</td>\n",
       "      <td>0.51047</td>\n",
       "      <td>0.02827</td>\n",
       "      <td>1000488.75855</td>\n",
       "      <td>0.01480</td>\n",
       "      <td>1000977.51711</td>\n",
       "      <td>0.05583</td>\n",
       "      <td>0.00000</td>\n",
       "      <td>0.02621</td>\n",
       "      <td>449218.75000</td>\n",
       "      <td>-449218.75000</td>\n",
       "      <td>0</td>\n",
       "    </tr>\n",
       "    <tr>\n",
       "      <th>8</th>\n",
       "      <td>0.26058</td>\n",
       "      <td>0.00054</td>\n",
       "      <td>0.14156</td>\n",
       "      <td>0.50759</td>\n",
       "      <td>0.02153</td>\n",
       "      <td>1000488.75855</td>\n",
       "      <td>0.01353</td>\n",
       "      <td>1454056.69599</td>\n",
       "      <td>0.05226</td>\n",
       "      <td>0.00000</td>\n",
       "      <td>0.02388</td>\n",
       "      <td>0.00000</td>\n",
       "      <td>0.00000</td>\n",
       "      <td>0</td>\n",
       "    </tr>\n",
       "    <tr>\n",
       "      <th>9</th>\n",
       "      <td>0.26101</td>\n",
       "      <td>0.00508</td>\n",
       "      <td>0.14566</td>\n",
       "      <td>0.50668</td>\n",
       "      <td>0.02750</td>\n",
       "      <td>1000488.75855</td>\n",
       "      <td>0.01427</td>\n",
       "      <td>1231671.55425</td>\n",
       "      <td>0.05590</td>\n",
       "      <td>0.00000</td>\n",
       "      <td>0.02715</td>\n",
       "      <td>4824218.75000</td>\n",
       "      <td>-4824218.75000</td>\n",
       "      <td>0</td>\n",
       "    </tr>\n",
       "  </tbody>\n",
       "</table>\n",
       "</div>"
      ],
      "text/plain": [
       "      Max    Mean     Std  Full_diff  FFT_Mag1       FFT_Hz1  FFT_Mag2  \\\n",
       "0 0.25965 0.00527 0.14480    0.50830   0.02436 1000488.75855   0.01515   \n",
       "1 0.26263 0.00334 0.14480    0.51157   0.03535 1000488.75855   0.01261   \n",
       "2 0.25702 0.01063 0.14856    0.50467   0.02626 1000488.75855   0.01876   \n",
       "3 0.26208 0.00340 0.14493    0.50842   0.02686 1000488.75855   0.01511   \n",
       "4 0.26085 0.00035 0.14501    0.51083   0.02429 1000488.75855   0.01518   \n",
       "5 0.26219 0.00845 0.14112    0.50832   0.01860 1000488.75855   0.01557   \n",
       "6 0.26255 0.01018 0.14235    0.51059   0.02065 1000488.75855   0.01492   \n",
       "7 0.26176 0.00619 0.14468    0.51047   0.02827 1000488.75855   0.01480   \n",
       "8 0.26058 0.00054 0.14156    0.50759   0.02153 1000488.75855   0.01353   \n",
       "9 0.26101 0.00508 0.14566    0.50668   0.02750 1000488.75855   0.01427   \n",
       "\n",
       "        FFT_Hz2  STFT_Mag1  STFT_Hz1  STFT_Mag2      STFT_Hz2      STFT_diff  \\\n",
       "0 1000977.51711    0.04856   0.00000    0.02362  761718.75000  -761718.75000   \n",
       "1 1334799.60899    0.05855   0.00000    0.02980 3515625.00000 -3515625.00000   \n",
       "2 1000977.51711    0.06945   0.00000    0.02619 2714843.75000 -2714843.75000   \n",
       "3 1001466.27566    0.05290   0.00000    0.02466  957031.25000  -957031.25000   \n",
       "4 1001466.27566    0.05557   0.00000    0.02488       0.00000        0.00000   \n",
       "5 1321114.36950    0.03502   0.00000    0.02325 2500000.00000 -2500000.00000   \n",
       "6 1000000.00000    0.04690   0.00000    0.02319       0.00000        0.00000   \n",
       "7 1000977.51711    0.05583   0.00000    0.02621  449218.75000  -449218.75000   \n",
       "8 1454056.69599    0.05226   0.00000    0.02388       0.00000        0.00000   \n",
       "9 1231671.55425    0.05590   0.00000    0.02715 4824218.75000 -4824218.75000   \n",
       "\n",
       "   label  \n",
       "0      0  \n",
       "1      0  \n",
       "2      0  \n",
       "3      0  \n",
       "4      0  \n",
       "5      0  \n",
       "6      0  \n",
       "7      0  \n",
       "8      0  \n",
       "9      0  "
      ]
     },
     "execution_count": 4,
     "metadata": {},
     "output_type": "execute_result"
    }
   ],
   "source": [
    "# 데이터 load\n",
    "arc_df = pd.read_csv('Arc_Data.csv')\n",
    "arc_df.head(10)"
   ]
  },
  {
   "cell_type": "code",
   "execution_count": 5,
   "metadata": {},
   "outputs": [
    {
     "data": {
      "text/plain": [
       "Max          False\n",
       "Mean         False\n",
       "Std          False\n",
       "Full_diff    False\n",
       "FFT_Mag1     False\n",
       "FFT_Hz1      False\n",
       "FFT_Mag2     False\n",
       "FFT_Hz2      False\n",
       "STFT_Mag1    False\n",
       "STFT_Hz1     False\n",
       "STFT_Mag2    False\n",
       "STFT_Hz2     False\n",
       "STFT_diff    False\n",
       "label        False\n",
       "dtype: bool"
      ]
     },
     "execution_count": 5,
     "metadata": {},
     "output_type": "execute_result"
    }
   ],
   "source": [
    "# 데이터 내 NA 값 여부 확인\n",
    "arc_df.isnull().any() # 만약 존재한다면 0으로 대체 혹은, 해당 열을 제외하고 진행"
   ]
  },
  {
   "cell_type": "markdown",
   "metadata": {},
   "source": [
    "# 데이터 상관분석"
   ]
  },
  {
   "cell_type": "code",
   "execution_count": 6,
   "metadata": {},
   "outputs": [],
   "source": [
    "# 독립변수만 따로 추출\n",
    "features = ['Max', 'Mean', 'Std', 'Full_diff', 'FFT_Mag1', 'FFT_Hz1', 'FFT_Mag2', 'FFT_Hz2',\n",
    "            'STFT_Mag1', 'STFT_Hz1', 'STFT_Mag2', 'STFT_Hz2', 'STFT_diff']\n",
    "\n",
    "arc_corr = arc_df[features]"
   ]
  },
  {
   "cell_type": "code",
   "execution_count": 7,
   "metadata": {
    "scrolled": true
   },
   "outputs": [
    {
     "data": {
      "text/html": [
       "<div>\n",
       "<style scoped>\n",
       "    .dataframe tbody tr th:only-of-type {\n",
       "        vertical-align: middle;\n",
       "    }\n",
       "\n",
       "    .dataframe tbody tr th {\n",
       "        vertical-align: top;\n",
       "    }\n",
       "\n",
       "    .dataframe thead th {\n",
       "        text-align: right;\n",
       "    }\n",
       "</style>\n",
       "<table border=\"1\" class=\"dataframe\">\n",
       "  <thead>\n",
       "    <tr style=\"text-align: right;\">\n",
       "      <th></th>\n",
       "      <th>Max</th>\n",
       "      <th>Mean</th>\n",
       "      <th>Std</th>\n",
       "      <th>Full_diff</th>\n",
       "      <th>FFT_Mag1</th>\n",
       "      <th>FFT_Hz1</th>\n",
       "      <th>FFT_Mag2</th>\n",
       "      <th>FFT_Hz2</th>\n",
       "      <th>STFT_Mag1</th>\n",
       "      <th>STFT_Hz1</th>\n",
       "      <th>STFT_Mag2</th>\n",
       "      <th>STFT_Hz2</th>\n",
       "      <th>STFT_diff</th>\n",
       "    </tr>\n",
       "  </thead>\n",
       "  <tbody>\n",
       "    <tr>\n",
       "      <th>Max</th>\n",
       "      <td>1.00000</td>\n",
       "      <td>-0.01118</td>\n",
       "      <td>0.99448</td>\n",
       "      <td>0.96050</td>\n",
       "      <td>0.99831</td>\n",
       "      <td>0.92553</td>\n",
       "      <td>0.72936</td>\n",
       "      <td>0.67642</td>\n",
       "      <td>0.99489</td>\n",
       "      <td>0.99880</td>\n",
       "      <td>0.99636</td>\n",
       "      <td>0.72192</td>\n",
       "      <td>0.58771</td>\n",
       "    </tr>\n",
       "    <tr>\n",
       "      <th>Mean</th>\n",
       "      <td>-0.01118</td>\n",
       "      <td>1.00000</td>\n",
       "      <td>-0.02138</td>\n",
       "      <td>-0.00589</td>\n",
       "      <td>-0.01982</td>\n",
       "      <td>-0.03387</td>\n",
       "      <td>-0.04246</td>\n",
       "      <td>-0.04827</td>\n",
       "      <td>-0.01654</td>\n",
       "      <td>-0.01545</td>\n",
       "      <td>-0.01753</td>\n",
       "      <td>0.09467</td>\n",
       "      <td>-0.13137</td>\n",
       "    </tr>\n",
       "    <tr>\n",
       "      <th>Std</th>\n",
       "      <td>0.99448</td>\n",
       "      <td>-0.02138</td>\n",
       "      <td>1.00000</td>\n",
       "      <td>0.92836</td>\n",
       "      <td>0.99862</td>\n",
       "      <td>0.95881</td>\n",
       "      <td>0.79406</td>\n",
       "      <td>0.74572</td>\n",
       "      <td>0.99943</td>\n",
       "      <td>0.99033</td>\n",
       "      <td>0.99944</td>\n",
       "      <td>0.72905</td>\n",
       "      <td>0.56741</td>\n",
       "    </tr>\n",
       "    <tr>\n",
       "      <th>Full_diff</th>\n",
       "      <td>0.96050</td>\n",
       "      <td>-0.00589</td>\n",
       "      <td>0.92836</td>\n",
       "      <td>1.00000</td>\n",
       "      <td>0.94639</td>\n",
       "      <td>0.78529</td>\n",
       "      <td>0.51221</td>\n",
       "      <td>0.44866</td>\n",
       "      <td>0.93208</td>\n",
       "      <td>0.97063</td>\n",
       "      <td>0.93729</td>\n",
       "      <td>0.66647</td>\n",
       "      <td>0.61168</td>\n",
       "    </tr>\n",
       "    <tr>\n",
       "      <th>FFT_Mag1</th>\n",
       "      <td>0.99831</td>\n",
       "      <td>-0.01982</td>\n",
       "      <td>0.99862</td>\n",
       "      <td>0.94639</td>\n",
       "      <td>1.00000</td>\n",
       "      <td>0.94274</td>\n",
       "      <td>0.76130</td>\n",
       "      <td>0.71056</td>\n",
       "      <td>0.99872</td>\n",
       "      <td>0.99618</td>\n",
       "      <td>0.99942</td>\n",
       "      <td>0.72767</td>\n",
       "      <td>0.57734</td>\n",
       "    </tr>\n",
       "    <tr>\n",
       "      <th>FFT_Hz1</th>\n",
       "      <td>0.92553</td>\n",
       "      <td>-0.03387</td>\n",
       "      <td>0.95881</td>\n",
       "      <td>0.78529</td>\n",
       "      <td>0.94274</td>\n",
       "      <td>1.00000</td>\n",
       "      <td>0.93380</td>\n",
       "      <td>0.90218</td>\n",
       "      <td>0.95489</td>\n",
       "      <td>0.91070</td>\n",
       "      <td>0.95096</td>\n",
       "      <td>0.70602</td>\n",
       "      <td>0.48067</td>\n",
       "    </tr>\n",
       "    <tr>\n",
       "      <th>FFT_Mag2</th>\n",
       "      <td>0.72936</td>\n",
       "      <td>-0.04246</td>\n",
       "      <td>0.79406</td>\n",
       "      <td>0.51221</td>\n",
       "      <td>0.76130</td>\n",
       "      <td>0.93380</td>\n",
       "      <td>1.00000</td>\n",
       "      <td>0.99248</td>\n",
       "      <td>0.78641</td>\n",
       "      <td>0.70270</td>\n",
       "      <td>0.77797</td>\n",
       "      <td>0.59537</td>\n",
       "      <td>0.31243</td>\n",
       "    </tr>\n",
       "    <tr>\n",
       "      <th>FFT_Hz2</th>\n",
       "      <td>0.67642</td>\n",
       "      <td>-0.04827</td>\n",
       "      <td>0.74572</td>\n",
       "      <td>0.44866</td>\n",
       "      <td>0.71056</td>\n",
       "      <td>0.90218</td>\n",
       "      <td>0.99248</td>\n",
       "      <td>1.00000</td>\n",
       "      <td>0.73682</td>\n",
       "      <td>0.64809</td>\n",
       "      <td>0.72877</td>\n",
       "      <td>0.54587</td>\n",
       "      <td>0.29188</td>\n",
       "    </tr>\n",
       "    <tr>\n",
       "      <th>STFT_Mag1</th>\n",
       "      <td>0.99489</td>\n",
       "      <td>-0.01654</td>\n",
       "      <td>0.99943</td>\n",
       "      <td>0.93208</td>\n",
       "      <td>0.99872</td>\n",
       "      <td>0.95489</td>\n",
       "      <td>0.78641</td>\n",
       "      <td>0.73682</td>\n",
       "      <td>1.00000</td>\n",
       "      <td>0.99136</td>\n",
       "      <td>0.99918</td>\n",
       "      <td>0.73737</td>\n",
       "      <td>0.55927</td>\n",
       "    </tr>\n",
       "    <tr>\n",
       "      <th>STFT_Hz1</th>\n",
       "      <td>0.99880</td>\n",
       "      <td>-0.01545</td>\n",
       "      <td>0.99033</td>\n",
       "      <td>0.97063</td>\n",
       "      <td>0.99618</td>\n",
       "      <td>0.91070</td>\n",
       "      <td>0.70270</td>\n",
       "      <td>0.64809</td>\n",
       "      <td>0.99136</td>\n",
       "      <td>1.00000</td>\n",
       "      <td>0.99330</td>\n",
       "      <td>0.71786</td>\n",
       "      <td>0.59411</td>\n",
       "    </tr>\n",
       "    <tr>\n",
       "      <th>STFT_Mag2</th>\n",
       "      <td>0.99636</td>\n",
       "      <td>-0.01753</td>\n",
       "      <td>0.99944</td>\n",
       "      <td>0.93729</td>\n",
       "      <td>0.99942</td>\n",
       "      <td>0.95096</td>\n",
       "      <td>0.77797</td>\n",
       "      <td>0.72877</td>\n",
       "      <td>0.99918</td>\n",
       "      <td>0.99330</td>\n",
       "      <td>1.00000</td>\n",
       "      <td>0.72841</td>\n",
       "      <td>0.57238</td>\n",
       "    </tr>\n",
       "    <tr>\n",
       "      <th>STFT_Hz2</th>\n",
       "      <td>0.72192</td>\n",
       "      <td>0.09467</td>\n",
       "      <td>0.72905</td>\n",
       "      <td>0.66647</td>\n",
       "      <td>0.72767</td>\n",
       "      <td>0.70602</td>\n",
       "      <td>0.59537</td>\n",
       "      <td>0.54587</td>\n",
       "      <td>0.73737</td>\n",
       "      <td>0.71786</td>\n",
       "      <td>0.72841</td>\n",
       "      <td>1.00000</td>\n",
       "      <td>-0.13351</td>\n",
       "    </tr>\n",
       "    <tr>\n",
       "      <th>STFT_diff</th>\n",
       "      <td>0.58771</td>\n",
       "      <td>-0.13137</td>\n",
       "      <td>0.56741</td>\n",
       "      <td>0.61168</td>\n",
       "      <td>0.57734</td>\n",
       "      <td>0.48067</td>\n",
       "      <td>0.31243</td>\n",
       "      <td>0.29188</td>\n",
       "      <td>0.55927</td>\n",
       "      <td>0.59411</td>\n",
       "      <td>0.57238</td>\n",
       "      <td>-0.13351</td>\n",
       "      <td>1.00000</td>\n",
       "    </tr>\n",
       "  </tbody>\n",
       "</table>\n",
       "</div>"
      ],
      "text/plain": [
       "               Max     Mean      Std  Full_diff  FFT_Mag1  FFT_Hz1  FFT_Mag2  \\\n",
       "Max        1.00000 -0.01118  0.99448    0.96050   0.99831  0.92553   0.72936   \n",
       "Mean      -0.01118  1.00000 -0.02138   -0.00589  -0.01982 -0.03387  -0.04246   \n",
       "Std        0.99448 -0.02138  1.00000    0.92836   0.99862  0.95881   0.79406   \n",
       "Full_diff  0.96050 -0.00589  0.92836    1.00000   0.94639  0.78529   0.51221   \n",
       "FFT_Mag1   0.99831 -0.01982  0.99862    0.94639   1.00000  0.94274   0.76130   \n",
       "FFT_Hz1    0.92553 -0.03387  0.95881    0.78529   0.94274  1.00000   0.93380   \n",
       "FFT_Mag2   0.72936 -0.04246  0.79406    0.51221   0.76130  0.93380   1.00000   \n",
       "FFT_Hz2    0.67642 -0.04827  0.74572    0.44866   0.71056  0.90218   0.99248   \n",
       "STFT_Mag1  0.99489 -0.01654  0.99943    0.93208   0.99872  0.95489   0.78641   \n",
       "STFT_Hz1   0.99880 -0.01545  0.99033    0.97063   0.99618  0.91070   0.70270   \n",
       "STFT_Mag2  0.99636 -0.01753  0.99944    0.93729   0.99942  0.95096   0.77797   \n",
       "STFT_Hz2   0.72192  0.09467  0.72905    0.66647   0.72767  0.70602   0.59537   \n",
       "STFT_diff  0.58771 -0.13137  0.56741    0.61168   0.57734  0.48067   0.31243   \n",
       "\n",
       "           FFT_Hz2  STFT_Mag1  STFT_Hz1  STFT_Mag2  STFT_Hz2  STFT_diff  \n",
       "Max        0.67642    0.99489   0.99880    0.99636   0.72192    0.58771  \n",
       "Mean      -0.04827   -0.01654  -0.01545   -0.01753   0.09467   -0.13137  \n",
       "Std        0.74572    0.99943   0.99033    0.99944   0.72905    0.56741  \n",
       "Full_diff  0.44866    0.93208   0.97063    0.93729   0.66647    0.61168  \n",
       "FFT_Mag1   0.71056    0.99872   0.99618    0.99942   0.72767    0.57734  \n",
       "FFT_Hz1    0.90218    0.95489   0.91070    0.95096   0.70602    0.48067  \n",
       "FFT_Mag2   0.99248    0.78641   0.70270    0.77797   0.59537    0.31243  \n",
       "FFT_Hz2    1.00000    0.73682   0.64809    0.72877   0.54587    0.29188  \n",
       "STFT_Mag1  0.73682    1.00000   0.99136    0.99918   0.73737    0.55927  \n",
       "STFT_Hz1   0.64809    0.99136   1.00000    0.99330   0.71786    0.59411  \n",
       "STFT_Mag2  0.72877    0.99918   0.99330    1.00000   0.72841    0.57238  \n",
       "STFT_Hz2   0.54587    0.73737   0.71786    0.72841   1.00000   -0.13351  \n",
       "STFT_diff  0.29188    0.55927   0.59411    0.57238  -0.13351    1.00000  "
      ]
     },
     "execution_count": 7,
     "metadata": {},
     "output_type": "execute_result"
    }
   ],
   "source": [
    "# 상관계수 출력(method : 'Pearson')\n",
    "arc_corr.corr()"
   ]
  },
  {
   "cell_type": "markdown",
   "metadata": {},
   "source": [
    "## Feature Select"
   ]
  },
  {
   "cell_type": "markdown",
   "metadata": {},
   "source": [
    "### VIF\n",
    "- 제거 순서\n",
    "1. VIF 계수가 높은 feature제거\n",
    "\n",
    "2. 단 유사한 feature의 경우, 둘 중 1개만 제거\n",
    "\n",
    "3. 제거 후 VIF계수 재출력\n",
    "\n",
    "4. (1, 2, 3)의 과정 반복"
   ]
  },
  {
   "cell_type": "code",
   "execution_count": 8,
   "metadata": {
    "scrolled": false
   },
   "outputs": [
    {
     "name": "stderr",
     "output_type": "stream",
     "text": [
      "/home/wkchoi/anaconda3/envs/etri/lib/python3.7/site-packages/statsmodels/stats/outliers_influence.py:193: RuntimeWarning: divide by zero encountered in double_scalars\n",
      "  vif = 1. / (1. - r_squared_i)\n"
     ]
    },
    {
     "data": {
      "text/html": [
       "<div>\n",
       "<style scoped>\n",
       "    .dataframe tbody tr th:only-of-type {\n",
       "        vertical-align: middle;\n",
       "    }\n",
       "\n",
       "    .dataframe tbody tr th {\n",
       "        vertical-align: top;\n",
       "    }\n",
       "\n",
       "    .dataframe thead th {\n",
       "        text-align: right;\n",
       "    }\n",
       "</style>\n",
       "<table border=\"1\" class=\"dataframe\">\n",
       "  <thead>\n",
       "    <tr style=\"text-align: right;\">\n",
       "      <th></th>\n",
       "      <th>VIF Factor</th>\n",
       "      <th>features</th>\n",
       "    </tr>\n",
       "  </thead>\n",
       "  <tbody>\n",
       "    <tr>\n",
       "      <th>0</th>\n",
       "      <td>6696.72557</td>\n",
       "      <td>Max</td>\n",
       "    </tr>\n",
       "    <tr>\n",
       "      <th>1</th>\n",
       "      <td>4.16515</td>\n",
       "      <td>Mean</td>\n",
       "    </tr>\n",
       "    <tr>\n",
       "      <th>2</th>\n",
       "      <td>87784.28626</td>\n",
       "      <td>Std</td>\n",
       "    </tr>\n",
       "    <tr>\n",
       "      <th>3</th>\n",
       "      <td>7119.48496</td>\n",
       "      <td>Full_diff</td>\n",
       "    </tr>\n",
       "    <tr>\n",
       "      <th>4</th>\n",
       "      <td>84061.59503</td>\n",
       "      <td>FFT_Mag1</td>\n",
       "    </tr>\n",
       "    <tr>\n",
       "      <th>5</th>\n",
       "      <td>31657.76970</td>\n",
       "      <td>FFT_Hz1</td>\n",
       "    </tr>\n",
       "    <tr>\n",
       "      <th>6</th>\n",
       "      <td>2006.87119</td>\n",
       "      <td>FFT_Mag2</td>\n",
       "    </tr>\n",
       "    <tr>\n",
       "      <th>7</th>\n",
       "      <td>499.98421</td>\n",
       "      <td>FFT_Hz2</td>\n",
       "    </tr>\n",
       "    <tr>\n",
       "      <th>8</th>\n",
       "      <td>5156.32115</td>\n",
       "      <td>STFT_Mag1</td>\n",
       "    </tr>\n",
       "    <tr>\n",
       "      <th>9</th>\n",
       "      <td>inf</td>\n",
       "      <td>STFT_Hz1</td>\n",
       "    </tr>\n",
       "    <tr>\n",
       "      <th>10</th>\n",
       "      <td>7875.23742</td>\n",
       "      <td>STFT_Mag2</td>\n",
       "    </tr>\n",
       "    <tr>\n",
       "      <th>11</th>\n",
       "      <td>inf</td>\n",
       "      <td>STFT_Hz2</td>\n",
       "    </tr>\n",
       "    <tr>\n",
       "      <th>12</th>\n",
       "      <td>inf</td>\n",
       "      <td>STFT_diff</td>\n",
       "    </tr>\n",
       "  </tbody>\n",
       "</table>\n",
       "</div>"
      ],
      "text/plain": [
       "    VIF Factor   features\n",
       "0   6696.72557        Max\n",
       "1      4.16515       Mean\n",
       "2  87784.28626        Std\n",
       "3   7119.48496  Full_diff\n",
       "4  84061.59503   FFT_Mag1\n",
       "5  31657.76970    FFT_Hz1\n",
       "6   2006.87119   FFT_Mag2\n",
       "7    499.98421    FFT_Hz2\n",
       "8   5156.32115  STFT_Mag1\n",
       "9          inf   STFT_Hz1\n",
       "10  7875.23742  STFT_Mag2\n",
       "11         inf   STFT_Hz2\n",
       "12         inf  STFT_diff"
      ]
     },
     "execution_count": 8,
     "metadata": {},
     "output_type": "execute_result"
    }
   ],
   "source": [
    "from statsmodels.stats.outliers_influence import variance_inflation_factor\n",
    "# 피처마다의 VIF 계수를 출력합니다.\n",
    "vif = pd.DataFrame()\n",
    "vif[\"VIF Factor\"] = [variance_inflation_factor(arc_corr.values, i) for i in range(arc_corr.shape[1])]\n",
    "vif[\"features\"] = arc_corr.columns\n",
    "vif"
   ]
  },
  {
   "cell_type": "code",
   "execution_count": 9,
   "metadata": {
    "scrolled": false
   },
   "outputs": [
    {
     "data": {
      "text/html": [
       "<div>\n",
       "<style scoped>\n",
       "    .dataframe tbody tr th:only-of-type {\n",
       "        vertical-align: middle;\n",
       "    }\n",
       "\n",
       "    .dataframe tbody tr th {\n",
       "        vertical-align: top;\n",
       "    }\n",
       "\n",
       "    .dataframe thead th {\n",
       "        text-align: right;\n",
       "    }\n",
       "</style>\n",
       "<table border=\"1\" class=\"dataframe\">\n",
       "  <thead>\n",
       "    <tr style=\"text-align: right;\">\n",
       "      <th></th>\n",
       "      <th>VIF Factor</th>\n",
       "      <th>features</th>\n",
       "    </tr>\n",
       "  </thead>\n",
       "  <tbody>\n",
       "    <tr>\n",
       "      <th>0</th>\n",
       "      <td>6219.07514</td>\n",
       "      <td>Max</td>\n",
       "    </tr>\n",
       "    <tr>\n",
       "      <th>1</th>\n",
       "      <td>3.82044</td>\n",
       "      <td>Mean</td>\n",
       "    </tr>\n",
       "    <tr>\n",
       "      <th>2</th>\n",
       "      <td>1296.83322</td>\n",
       "      <td>Full_diff</td>\n",
       "    </tr>\n",
       "    <tr>\n",
       "      <th>3</th>\n",
       "      <td>3758.44446</td>\n",
       "      <td>FFT_Mag1</td>\n",
       "    </tr>\n",
       "    <tr>\n",
       "      <th>4</th>\n",
       "      <td>778.72362</td>\n",
       "      <td>FFT_Hz1</td>\n",
       "    </tr>\n",
       "    <tr>\n",
       "      <th>5</th>\n",
       "      <td>4577.64634</td>\n",
       "      <td>STFT_Mag1</td>\n",
       "    </tr>\n",
       "    <tr>\n",
       "      <th>6</th>\n",
       "      <td>2.25642</td>\n",
       "      <td>STFT_diff</td>\n",
       "    </tr>\n",
       "  </tbody>\n",
       "</table>\n",
       "</div>"
      ],
      "text/plain": [
       "   VIF Factor   features\n",
       "0  6219.07514        Max\n",
       "1     3.82044       Mean\n",
       "2  1296.83322  Full_diff\n",
       "3  3758.44446   FFT_Mag1\n",
       "4   778.72362    FFT_Hz1\n",
       "5  4577.64634  STFT_Mag1\n",
       "6     2.25642  STFT_diff"
      ]
     },
     "execution_count": 9,
     "metadata": {},
     "output_type": "execute_result"
    }
   ],
   "source": [
    "# VIF 계수 높은 feature 제거\n",
    "\n",
    "arc_corr = arc_corr.drop(['Std', 'FFT_Mag2', 'FFT_Hz2', 'STFT_Mag2', 'STFT_Hz2', 'STFT_Hz1'], axis = 1)\n",
    "vif = pd.DataFrame()\n",
    "vif['VIF Factor']  = [variance_inflation_factor(arc_corr.values, i) for i in range(arc_corr.shape[1])]\n",
    "vif['features'] = arc_corr.columns\n",
    "vif"
   ]
  },
  {
   "cell_type": "markdown",
   "metadata": {},
   "source": [
    "feature을 제거해도 여전히 다중공선성이 높기때문에 다른 방법을 모색"
   ]
  },
  {
   "cell_type": "markdown",
   "metadata": {},
   "source": [
    "## Feature Extraction"
   ]
  },
  {
   "cell_type": "markdown",
   "metadata": {},
   "source": [
    "### PCA"
   ]
  },
  {
   "cell_type": "code",
   "execution_count": 10,
   "metadata": {},
   "outputs": [],
   "source": [
    "from sklearn.preprocessing import MinMaxScaler\n",
    "\n",
    "\n",
    "scaler = MinMaxScaler()\n",
    "arc_scale = pd.DataFrame(scaler.fit_transform(arc_corr), columns=arc_corr.columns)"
   ]
  },
  {
   "cell_type": "code",
   "execution_count": 11,
   "metadata": {},
   "outputs": [
    {
     "name": "stdout",
     "output_type": "stream",
     "text": [
      "(60, 2)\n"
     ]
    }
   ],
   "source": [
    "from sklearn.decomposition import PCA\n",
    "\n",
    "pca = PCA(n_components = 2) # 주성분 개수: 2\n",
    "pca.fit(arc_scale)\n",
    "arc_pca = pca.transform(arc_scale)\n",
    "print(arc_pca.shape)"
   ]
  },
  {
   "cell_type": "code",
   "execution_count": 12,
   "metadata": {},
   "outputs": [
    {
     "data": {
      "text/plain": [
       "0   0.86267\n",
       "1   0.92197\n",
       "dtype: float64"
      ]
     },
     "execution_count": 12,
     "metadata": {},
     "output_type": "execute_result"
    }
   ],
   "source": [
    "# PCA 주성분분석\n",
    "pd.Series(np.cumsum(pca.explained_variance_ratio_))"
   ]
  },
  {
   "cell_type": "code",
   "execution_count": 13,
   "metadata": {
    "scrolled": true
   },
   "outputs": [
    {
     "data": {
      "text/html": [
       "<div>\n",
       "<style scoped>\n",
       "    .dataframe tbody tr th:only-of-type {\n",
       "        vertical-align: middle;\n",
       "    }\n",
       "\n",
       "    .dataframe tbody tr th {\n",
       "        vertical-align: top;\n",
       "    }\n",
       "\n",
       "    .dataframe thead th {\n",
       "        text-align: right;\n",
       "    }\n",
       "</style>\n",
       "<table border=\"1\" class=\"dataframe\">\n",
       "  <thead>\n",
       "    <tr style=\"text-align: right;\">\n",
       "      <th></th>\n",
       "      <th>PC1</th>\n",
       "      <th>PC2</th>\n",
       "      <th>label</th>\n",
       "    </tr>\n",
       "  </thead>\n",
       "  <tbody>\n",
       "    <tr>\n",
       "      <th>0</th>\n",
       "      <td>1.21634</td>\n",
       "      <td>-0.09372</td>\n",
       "      <td>0</td>\n",
       "    </tr>\n",
       "    <tr>\n",
       "      <th>1</th>\n",
       "      <td>1.28405</td>\n",
       "      <td>-0.02129</td>\n",
       "      <td>0</td>\n",
       "    </tr>\n",
       "    <tr>\n",
       "      <th>2</th>\n",
       "      <td>1.26165</td>\n",
       "      <td>0.34076</td>\n",
       "      <td>0</td>\n",
       "    </tr>\n",
       "    <tr>\n",
       "      <th>3</th>\n",
       "      <td>1.21509</td>\n",
       "      <td>-0.18641</td>\n",
       "      <td>0</td>\n",
       "    </tr>\n",
       "    <tr>\n",
       "      <th>4</th>\n",
       "      <td>1.18260</td>\n",
       "      <td>-0.42213</td>\n",
       "      <td>0</td>\n",
       "    </tr>\n",
       "    <tr>\n",
       "      <th>5</th>\n",
       "      <td>1.28777</td>\n",
       "      <td>0.19974</td>\n",
       "      <td>0</td>\n",
       "    </tr>\n",
       "    <tr>\n",
       "      <th>6</th>\n",
       "      <td>1.19603</td>\n",
       "      <td>0.13515</td>\n",
       "      <td>0</td>\n",
       "    </tr>\n",
       "    <tr>\n",
       "      <th>7</th>\n",
       "      <td>1.19589</td>\n",
       "      <td>-0.06112</td>\n",
       "      <td>0</td>\n",
       "    </tr>\n",
       "    <tr>\n",
       "      <th>8</th>\n",
       "      <td>1.18868</td>\n",
       "      <td>-0.41180</td>\n",
       "      <td>0</td>\n",
       "    </tr>\n",
       "    <tr>\n",
       "      <th>9</th>\n",
       "      <td>1.33587</td>\n",
       "      <td>0.16292</td>\n",
       "      <td>0</td>\n",
       "    </tr>\n",
       "    <tr>\n",
       "      <th>10</th>\n",
       "      <td>1.20108</td>\n",
       "      <td>-0.36086</td>\n",
       "      <td>0</td>\n",
       "    </tr>\n",
       "    <tr>\n",
       "      <th>11</th>\n",
       "      <td>1.25171</td>\n",
       "      <td>-0.17274</td>\n",
       "      <td>0</td>\n",
       "    </tr>\n",
       "    <tr>\n",
       "      <th>12</th>\n",
       "      <td>1.20440</td>\n",
       "      <td>-0.06248</td>\n",
       "      <td>0</td>\n",
       "    </tr>\n",
       "    <tr>\n",
       "      <th>13</th>\n",
       "      <td>1.25537</td>\n",
       "      <td>0.09838</td>\n",
       "      <td>0</td>\n",
       "    </tr>\n",
       "    <tr>\n",
       "      <th>14</th>\n",
       "      <td>1.29365</td>\n",
       "      <td>0.59986</td>\n",
       "      <td>0</td>\n",
       "    </tr>\n",
       "    <tr>\n",
       "      <th>15</th>\n",
       "      <td>1.18807</td>\n",
       "      <td>-0.15664</td>\n",
       "      <td>0</td>\n",
       "    </tr>\n",
       "    <tr>\n",
       "      <th>16</th>\n",
       "      <td>1.26135</td>\n",
       "      <td>-0.15350</td>\n",
       "      <td>0</td>\n",
       "    </tr>\n",
       "    <tr>\n",
       "      <th>17</th>\n",
       "      <td>1.19580</td>\n",
       "      <td>0.16539</td>\n",
       "      <td>0</td>\n",
       "    </tr>\n",
       "    <tr>\n",
       "      <th>18</th>\n",
       "      <td>1.19954</td>\n",
       "      <td>-0.00082</td>\n",
       "      <td>0</td>\n",
       "    </tr>\n",
       "    <tr>\n",
       "      <th>19</th>\n",
       "      <td>1.33365</td>\n",
       "      <td>0.46730</td>\n",
       "      <td>0</td>\n",
       "    </tr>\n",
       "    <tr>\n",
       "      <th>20</th>\n",
       "      <td>-0.29882</td>\n",
       "      <td>-0.14579</td>\n",
       "      <td>1</td>\n",
       "    </tr>\n",
       "    <tr>\n",
       "      <th>21</th>\n",
       "      <td>-0.28838</td>\n",
       "      <td>0.05619</td>\n",
       "      <td>1</td>\n",
       "    </tr>\n",
       "    <tr>\n",
       "      <th>22</th>\n",
       "      <td>-0.28610</td>\n",
       "      <td>0.22729</td>\n",
       "      <td>1</td>\n",
       "    </tr>\n",
       "    <tr>\n",
       "      <th>23</th>\n",
       "      <td>-0.31045</td>\n",
       "      <td>-0.00601</td>\n",
       "      <td>1</td>\n",
       "    </tr>\n",
       "    <tr>\n",
       "      <th>24</th>\n",
       "      <td>-0.25779</td>\n",
       "      <td>-0.17416</td>\n",
       "      <td>1</td>\n",
       "    </tr>\n",
       "    <tr>\n",
       "      <th>25</th>\n",
       "      <td>-0.27788</td>\n",
       "      <td>0.06009</td>\n",
       "      <td>1</td>\n",
       "    </tr>\n",
       "    <tr>\n",
       "      <th>26</th>\n",
       "      <td>-0.27501</td>\n",
       "      <td>-0.07796</td>\n",
       "      <td>1</td>\n",
       "    </tr>\n",
       "    <tr>\n",
       "      <th>27</th>\n",
       "      <td>-0.27064</td>\n",
       "      <td>-0.26792</td>\n",
       "      <td>1</td>\n",
       "    </tr>\n",
       "    <tr>\n",
       "      <th>28</th>\n",
       "      <td>-0.29289</td>\n",
       "      <td>-0.48217</td>\n",
       "      <td>1</td>\n",
       "    </tr>\n",
       "    <tr>\n",
       "      <th>29</th>\n",
       "      <td>-0.28512</td>\n",
       "      <td>0.32174</td>\n",
       "      <td>1</td>\n",
       "    </tr>\n",
       "    <tr>\n",
       "      <th>30</th>\n",
       "      <td>-0.28210</td>\n",
       "      <td>-0.30449</td>\n",
       "      <td>1</td>\n",
       "    </tr>\n",
       "    <tr>\n",
       "      <th>31</th>\n",
       "      <td>-0.29659</td>\n",
       "      <td>0.04967</td>\n",
       "      <td>1</td>\n",
       "    </tr>\n",
       "    <tr>\n",
       "      <th>32</th>\n",
       "      <td>-0.27294</td>\n",
       "      <td>0.46051</td>\n",
       "      <td>1</td>\n",
       "    </tr>\n",
       "    <tr>\n",
       "      <th>33</th>\n",
       "      <td>-0.27661</td>\n",
       "      <td>-0.06637</td>\n",
       "      <td>1</td>\n",
       "    </tr>\n",
       "    <tr>\n",
       "      <th>34</th>\n",
       "      <td>-0.27397</td>\n",
       "      <td>-0.03714</td>\n",
       "      <td>1</td>\n",
       "    </tr>\n",
       "    <tr>\n",
       "      <th>35</th>\n",
       "      <td>-0.28728</td>\n",
       "      <td>0.35069</td>\n",
       "      <td>1</td>\n",
       "    </tr>\n",
       "    <tr>\n",
       "      <th>36</th>\n",
       "      <td>-0.26454</td>\n",
       "      <td>-0.33338</td>\n",
       "      <td>1</td>\n",
       "    </tr>\n",
       "    <tr>\n",
       "      <th>37</th>\n",
       "      <td>-0.27222</td>\n",
       "      <td>-0.08411</td>\n",
       "      <td>1</td>\n",
       "    </tr>\n",
       "    <tr>\n",
       "      <th>38</th>\n",
       "      <td>-0.29639</td>\n",
       "      <td>0.10523</td>\n",
       "      <td>1</td>\n",
       "    </tr>\n",
       "    <tr>\n",
       "      <th>39</th>\n",
       "      <td>-0.28183</td>\n",
       "      <td>-0.11748</td>\n",
       "      <td>1</td>\n",
       "    </tr>\n",
       "    <tr>\n",
       "      <th>40</th>\n",
       "      <td>-0.97210</td>\n",
       "      <td>-0.22154</td>\n",
       "      <td>1</td>\n",
       "    </tr>\n",
       "    <tr>\n",
       "      <th>41</th>\n",
       "      <td>-0.94861</td>\n",
       "      <td>-0.03085</td>\n",
       "      <td>1</td>\n",
       "    </tr>\n",
       "    <tr>\n",
       "      <th>42</th>\n",
       "      <td>-0.96455</td>\n",
       "      <td>0.02445</td>\n",
       "      <td>1</td>\n",
       "    </tr>\n",
       "    <tr>\n",
       "      <th>43</th>\n",
       "      <td>-0.97751</td>\n",
       "      <td>0.19486</td>\n",
       "      <td>1</td>\n",
       "    </tr>\n",
       "    <tr>\n",
       "      <th>44</th>\n",
       "      <td>-0.94707</td>\n",
       "      <td>0.06255</td>\n",
       "      <td>1</td>\n",
       "    </tr>\n",
       "    <tr>\n",
       "      <th>45</th>\n",
       "      <td>-0.95095</td>\n",
       "      <td>0.27994</td>\n",
       "      <td>1</td>\n",
       "    </tr>\n",
       "    <tr>\n",
       "      <th>46</th>\n",
       "      <td>-0.96677</td>\n",
       "      <td>0.05725</td>\n",
       "      <td>1</td>\n",
       "    </tr>\n",
       "    <tr>\n",
       "      <th>47</th>\n",
       "      <td>-0.92452</td>\n",
       "      <td>-0.22875</td>\n",
       "      <td>1</td>\n",
       "    </tr>\n",
       "    <tr>\n",
       "      <th>48</th>\n",
       "      <td>-0.95519</td>\n",
       "      <td>-0.32458</td>\n",
       "      <td>1</td>\n",
       "    </tr>\n",
       "    <tr>\n",
       "      <th>49</th>\n",
       "      <td>-0.96353</td>\n",
       "      <td>0.26988</td>\n",
       "      <td>1</td>\n",
       "    </tr>\n",
       "    <tr>\n",
       "      <th>50</th>\n",
       "      <td>-0.96941</td>\n",
       "      <td>-0.19391</td>\n",
       "      <td>1</td>\n",
       "    </tr>\n",
       "    <tr>\n",
       "      <th>51</th>\n",
       "      <td>-0.94608</td>\n",
       "      <td>0.26173</td>\n",
       "      <td>1</td>\n",
       "    </tr>\n",
       "    <tr>\n",
       "      <th>52</th>\n",
       "      <td>-0.93572</td>\n",
       "      <td>0.51079</td>\n",
       "      <td>1</td>\n",
       "    </tr>\n",
       "    <tr>\n",
       "      <th>53</th>\n",
       "      <td>-0.95544</td>\n",
       "      <td>-0.08582</td>\n",
       "      <td>1</td>\n",
       "    </tr>\n",
       "    <tr>\n",
       "      <th>54</th>\n",
       "      <td>-0.93606</td>\n",
       "      <td>0.13413</td>\n",
       "      <td>1</td>\n",
       "    </tr>\n",
       "    <tr>\n",
       "      <th>55</th>\n",
       "      <td>-0.95510</td>\n",
       "      <td>0.18496</td>\n",
       "      <td>1</td>\n",
       "    </tr>\n",
       "    <tr>\n",
       "      <th>56</th>\n",
       "      <td>-0.95301</td>\n",
       "      <td>-0.31649</td>\n",
       "      <td>1</td>\n",
       "    </tr>\n",
       "    <tr>\n",
       "      <th>57</th>\n",
       "      <td>-0.96385</td>\n",
       "      <td>-0.08519</td>\n",
       "      <td>1</td>\n",
       "    </tr>\n",
       "    <tr>\n",
       "      <th>58</th>\n",
       "      <td>-0.97022</td>\n",
       "      <td>-0.01144</td>\n",
       "      <td>1</td>\n",
       "    </tr>\n",
       "    <tr>\n",
       "      <th>59</th>\n",
       "      <td>-0.94535</td>\n",
       "      <td>-0.08244</td>\n",
       "      <td>1</td>\n",
       "    </tr>\n",
       "  </tbody>\n",
       "</table>\n",
       "</div>"
      ],
      "text/plain": [
       "        PC1      PC2  label\n",
       "0   1.21634 -0.09372      0\n",
       "1   1.28405 -0.02129      0\n",
       "2   1.26165  0.34076      0\n",
       "3   1.21509 -0.18641      0\n",
       "4   1.18260 -0.42213      0\n",
       "5   1.28777  0.19974      0\n",
       "6   1.19603  0.13515      0\n",
       "7   1.19589 -0.06112      0\n",
       "8   1.18868 -0.41180      0\n",
       "9   1.33587  0.16292      0\n",
       "10  1.20108 -0.36086      0\n",
       "11  1.25171 -0.17274      0\n",
       "12  1.20440 -0.06248      0\n",
       "13  1.25537  0.09838      0\n",
       "14  1.29365  0.59986      0\n",
       "15  1.18807 -0.15664      0\n",
       "16  1.26135 -0.15350      0\n",
       "17  1.19580  0.16539      0\n",
       "18  1.19954 -0.00082      0\n",
       "19  1.33365  0.46730      0\n",
       "20 -0.29882 -0.14579      1\n",
       "21 -0.28838  0.05619      1\n",
       "22 -0.28610  0.22729      1\n",
       "23 -0.31045 -0.00601      1\n",
       "24 -0.25779 -0.17416      1\n",
       "25 -0.27788  0.06009      1\n",
       "26 -0.27501 -0.07796      1\n",
       "27 -0.27064 -0.26792      1\n",
       "28 -0.29289 -0.48217      1\n",
       "29 -0.28512  0.32174      1\n",
       "30 -0.28210 -0.30449      1\n",
       "31 -0.29659  0.04967      1\n",
       "32 -0.27294  0.46051      1\n",
       "33 -0.27661 -0.06637      1\n",
       "34 -0.27397 -0.03714      1\n",
       "35 -0.28728  0.35069      1\n",
       "36 -0.26454 -0.33338      1\n",
       "37 -0.27222 -0.08411      1\n",
       "38 -0.29639  0.10523      1\n",
       "39 -0.28183 -0.11748      1\n",
       "40 -0.97210 -0.22154      1\n",
       "41 -0.94861 -0.03085      1\n",
       "42 -0.96455  0.02445      1\n",
       "43 -0.97751  0.19486      1\n",
       "44 -0.94707  0.06255      1\n",
       "45 -0.95095  0.27994      1\n",
       "46 -0.96677  0.05725      1\n",
       "47 -0.92452 -0.22875      1\n",
       "48 -0.95519 -0.32458      1\n",
       "49 -0.96353  0.26988      1\n",
       "50 -0.96941 -0.19391      1\n",
       "51 -0.94608  0.26173      1\n",
       "52 -0.93572  0.51079      1\n",
       "53 -0.95544 -0.08582      1\n",
       "54 -0.93606  0.13413      1\n",
       "55 -0.95510  0.18496      1\n",
       "56 -0.95301 -0.31649      1\n",
       "57 -0.96385 -0.08519      1\n",
       "58 -0.97022 -0.01144      1\n",
       "59 -0.94535 -0.08244      1"
      ]
     },
     "execution_count": 13,
     "metadata": {},
     "output_type": "execute_result"
    }
   ],
   "source": [
    "pca_columns=['PC1','PC2']\n",
    "arc_pca = pd.DataFrame(arc_pca, columns=pca_columns)\n",
    "arc_pca['label']=arc_df.label\n",
    "arc_pca"
   ]
  },
  {
   "cell_type": "markdown",
   "metadata": {},
   "source": [
    "#  imbalanced Classes"
   ]
  },
  {
   "cell_type": "code",
   "execution_count": 14,
   "metadata": {},
   "outputs": [
    {
     "name": "stdout",
     "output_type": "stream",
     "text": [
      "Arc Detection data - rows:  60 columns: 3\n"
     ]
    }
   ],
   "source": [
    "print('Arc Detection data - rows: ',arc_pca.shape[0], 'columns:',arc_pca.shape[1])"
   ]
  },
  {
   "cell_type": "code",
   "execution_count": 15,
   "metadata": {},
   "outputs": [
    {
     "data": {
      "text/plain": [
       "Counter({0: 20, 1: 40})"
      ]
     },
     "execution_count": 15,
     "metadata": {},
     "output_type": "execute_result"
    }
   ],
   "source": [
    "# target variable 분포 확인\n",
    "from collections import Counter\n",
    "\n",
    "Counter(arc_pca.label)"
   ]
  },
  {
   "cell_type": "code",
   "execution_count": 16,
   "metadata": {
    "scrolled": true
   },
   "outputs": [
    {
     "name": "stdout",
     "output_type": "stream",
     "text": [
      "Shape of X: (60, 2)\n",
      "Shape of y: (60, 1)\n"
     ]
    }
   ],
   "source": [
    "X = np.array(arc_pca.iloc[:, arc_pca.columns != 'label'])\n",
    "y = np.array(arc_pca.iloc[:, arc_pca.columns == 'label'])\n",
    "print('Shape of X: {}'.format(X.shape))\n",
    "print('Shape of y: {}'.format(y.shape))"
   ]
  },
  {
   "cell_type": "markdown",
   "metadata": {},
   "source": [
    "## SMOTE를 이용한 Oversampling"
   ]
  },
  {
   "cell_type": "code",
   "execution_count": 17,
   "metadata": {
    "scrolled": true
   },
   "outputs": [
    {
     "name": "stdout",
     "output_type": "stream",
     "text": [
      "Number transactions X_train dataset:  (54, 2)\n",
      "Number transactions y_train dataset:  (54, 1)\n",
      "Number transactions X_test dataset:  (6, 2)\n",
      "Number transactions y_test dataset:  (6, 1)\n"
     ]
    }
   ],
   "source": [
    "from sklearn.model_selection import train_test_split\n",
    "\n",
    "X_train, X_test, y_train, y_test = train_test_split(X, y, test_size = 0.1, random_state = 0)\n",
    "\n",
    "# 기존의 X_train, y_train, X_test, y_test의 형태확인\n",
    "print(\"Number transactions X_train dataset: \", X_train.shape)\n",
    "print(\"Number transactions y_train dataset: \", y_train.shape)\n",
    "print(\"Number transactions X_test dataset: \", X_test.shape)\n",
    "print(\"Number transactions y_test dataset: \", y_test.shape)"
   ]
  },
  {
   "cell_type": "code",
   "execution_count": 18,
   "metadata": {},
   "outputs": [
    {
     "name": "stdout",
     "output_type": "stream",
     "text": [
      "Before OverSampling, counts of label '1': [36]\n",
      "Before OverSampling, counts of label '0': [18]\n",
      "After OverSampling, counts of label '1': 36\n",
      "After OverSampling, counts of label '0': 36\n"
     ]
    }
   ],
   "source": [
    "from imblearn.over_sampling import SMOTE\n",
    "print(\"Before OverSampling, counts of label '1': {}\".format(sum(y_train == 1)))\n",
    "print(\"Before OverSampling, counts of label '0': {}\".format(sum(y_train == 0)))\n",
    "\n",
    "sm = SMOTE(random_state = 42, sampling_strategy = 'auto') # SMOTE 알고리즘, 비율 증가\n",
    "X_train_res, y_train_res = sm.fit_sample(X_train, y_train.ravel()) # Over Sampling 진행\n",
    "\n",
    "print(\"After OverSampling, counts of label '1': {}\".format(sum(y_train_res == 1)))\n",
    "print(\"After OverSampling, counts of label '0': {}\".format(sum(y_train_res == 0)))"
   ]
  },
  {
   "cell_type": "code",
   "execution_count": 19,
   "metadata": {
    "scrolled": false
   },
   "outputs": [
    {
     "name": "stdout",
     "output_type": "stream",
     "text": [
      "Before OverSampling, the shape of X_train: (54, 2)\n",
      "Before OverSampling, the shape of y_train: (54, 1)\n",
      "After OverSampling, the shape of X_train: (72, 2)\n",
      "After OverSampling, the shape of y_train: (72,)\n"
     ]
    }
   ],
   "source": [
    "print(\"Before OverSampling, the shape of X_train: {}\".format(X_train.shape)) # SMOTE 적용 이전 데이터 형태\n",
    "print(\"Before OverSampling, the shape of y_train: {}\".format(y_train.shape)) # SMOTE 적용 이전 데이터 형태\n",
    "print(\"After OverSampling, the shape of X_train: {}\".format(X_train_res.shape)) # SMOTE 적용 결과 확인\n",
    "print(\"After OverSampling, the shape of y_train: {}\".format(y_train_res.shape)) # SMOTE 적용 결과 확인"
   ]
  },
  {
   "cell_type": "markdown",
   "metadata": {},
   "source": [
    "# SVM"
   ]
  },
  {
   "cell_type": "code",
   "execution_count": 20,
   "metadata": {},
   "outputs": [],
   "source": [
    "features = X_train_res\n",
    "target = y_train_res"
   ]
  },
  {
   "cell_type": "code",
   "execution_count": 21,
   "metadata": {},
   "outputs": [],
   "source": [
    "from sklearn.svm import SVC\n",
    "from sklearn import svm, metrics\n",
    "import numpy as np\n",
    "import matplotlib.pyplot as plt\n",
    "\n",
    "svc = SVC(kernel = 'linear', class_weight = 'balanced', C = 1.0, random_state = 0)"
   ]
  },
  {
   "cell_type": "code",
   "execution_count": 22,
   "metadata": {},
   "outputs": [],
   "source": [
    "model = svc.fit(features, target) # SVM 모델 학습"
   ]
  },
  {
   "cell_type": "code",
   "execution_count": 23,
   "metadata": {
    "scrolled": true
   },
   "outputs": [
    {
     "data": {
      "text/plain": [
       "array([[36,  0],\n",
       "       [ 0, 36]])"
      ]
     },
     "execution_count": 23,
     "metadata": {},
     "output_type": "execute_result"
    }
   ],
   "source": [
    "from sklearn.metrics import confusion_matrix\n",
    "y_pred = svc.predict(features)\n",
    "confusion_matrix(target, y_pred) # 혼동 행렬 출력"
   ]
  },
  {
   "cell_type": "markdown",
   "metadata": {},
   "source": [
    "## kernel SVM 적합 및 비교"
   ]
  },
  {
   "cell_type": "markdown",
   "metadata": {},
   "source": [
    "- LinearSVC"
   ]
  },
  {
   "cell_type": "code",
   "execution_count": 24,
   "metadata": {},
   "outputs": [
    {
     "data": {
      "text/plain": [
       "array([[36,  0],\n",
       "       [ 0, 36]])"
      ]
     },
     "execution_count": 24,
     "metadata": {},
     "output_type": "execute_result"
    }
   ],
   "source": [
    "clf = svm.LinearSVC(C = 1.0, max_iter = 10000)\n",
    "clf.fit(features, target)\n",
    "y_pred = clf.predict(features)\n",
    "confusion_matrix(target, y_pred)"
   ]
  },
  {
   "cell_type": "markdown",
   "metadata": {},
   "source": [
    "- radial basis function"
   ]
  },
  {
   "cell_type": "code",
   "execution_count": 25,
   "metadata": {},
   "outputs": [
    {
     "data": {
      "text/plain": [
       "array([[36,  0],\n",
       "       [ 0, 36]])"
      ]
     },
     "execution_count": 25,
     "metadata": {},
     "output_type": "execute_result"
    }
   ],
   "source": [
    "clf = svm.SVC(kernel = 'rbf', gamma = 0.7, max_iter = 10000)\n",
    "clf.fit(features, target)\n",
    "y_pred = clf.predict(features)\n",
    "confusion_matrix(target, y_pred)"
   ]
  },
  {
   "cell_type": "markdown",
   "metadata": {},
   "source": [
    "- polynomial kernel"
   ]
  },
  {
   "cell_type": "code",
   "execution_count": 26,
   "metadata": {},
   "outputs": [
    {
     "data": {
      "text/plain": [
       "array([[36,  0],\n",
       "       [ 0, 36]])"
      ]
     },
     "execution_count": 26,
     "metadata": {},
     "output_type": "execute_result"
    }
   ],
   "source": [
    "clf = svm.SVC(kernel = 'rbf',degree = 3, C = 0.1,gamma = 'auto')\n",
    "clf.fit(features, target)\n",
    "y_pred = clf.predict(features)\n",
    "confusion_matrix(target, y_pred)"
   ]
  },
  {
   "cell_type": "markdown",
   "metadata": {},
   "source": [
    "### 시각화"
   ]
  },
  {
   "cell_type": "code",
   "execution_count": 27,
   "metadata": {},
   "outputs": [],
   "source": [
    "# create Function (시각화 함수 생성)\n",
    "def make_meshgrid(x, y, h = .02):\n",
    "    x_min, x_max = x.min()-1, x.max() + 1\n",
    "    y_min, y_max = y.min()-1, y.max() + 1\n",
    "    xx, yy = np.meshgrid(np.arange(x_min, x_max, h),\n",
    "                        np.arange(y_min, y_max, h))\n",
    "    return xx, yy\n",
    "\n",
    "def plot_contours(ax, clf, xx, yy, **params):\n",
    "    Z = clf.predict(np.c_[xx.ravel(), yy.ravel()])\n",
    "    Z = Z.reshape(xx.shape)\n",
    "    out = ax.contourf(xx, yy, Z, **params)\n",
    "    return out"
   ]
  },
  {
   "cell_type": "code",
   "execution_count": 28,
   "metadata": {},
   "outputs": [],
   "source": [
    "# 모델 정의 및 피팅\n",
    "C = 1.0 # Regularization parameter\n",
    "models = (svm.SVC(kernel = 'linear', C=C),\n",
    "         svm.LinearSVC(C=C, max_iter = 10000),\n",
    "         svm.SVC(kernel = 'rbf', gamma = 0.7, C=C),\n",
    "         svm.SVC(kernel = 'poly', degree = 3, gamma = 'auto', C=C))\n",
    "models = (clf.fit(X, y) for clf in models)"
   ]
  },
  {
   "cell_type": "code",
   "execution_count": 29,
   "metadata": {},
   "outputs": [],
   "source": [
    "titles = ('SVC with linear kernel',\n",
    "         'LinearSVC (linear kernel)',\n",
    "         'SVC with RBF kernel',\n",
    "         'SVC with polynomial (degree 3) kernel')"
   ]
  },
  {
   "cell_type": "code",
   "execution_count": 30,
   "metadata": {},
   "outputs": [
    {
     "name": "stderr",
     "output_type": "stream",
     "text": [
      "/home/wkchoi/anaconda3/envs/etri/lib/python3.7/site-packages/sklearn/utils/validation.py:63: DataConversionWarning: A column-vector y was passed when a 1d array was expected. Please change the shape of y to (n_samples, ), for example using ravel().\n",
      "  return f(*args, **kwargs)\n",
      "/home/wkchoi/anaconda3/envs/etri/lib/python3.7/site-packages/sklearn/utils/validation.py:63: DataConversionWarning: A column-vector y was passed when a 1d array was expected. Please change the shape of y to (n_samples, ), for example using ravel().\n",
      "  return f(*args, **kwargs)\n",
      "/home/wkchoi/anaconda3/envs/etri/lib/python3.7/site-packages/sklearn/utils/validation.py:63: DataConversionWarning: A column-vector y was passed when a 1d array was expected. Please change the shape of y to (n_samples, ), for example using ravel().\n",
      "  return f(*args, **kwargs)\n",
      "/home/wkchoi/anaconda3/envs/etri/lib/python3.7/site-packages/sklearn/utils/validation.py:63: DataConversionWarning: A column-vector y was passed when a 1d array was expected. Please change the shape of y to (n_samples, ), for example using ravel().\n",
      "  return f(*args, **kwargs)\n"
     ]
    },
    {
     "data": {
      "image/png": "[encoded data removed]",
      "text/plain": [
       "<Figure size 432x288 with 4 Axes>"
      ]
     },
     "metadata": {},
     "output_type": "display_data"
    }
   ],
   "source": [
    "fig, sub = plt.subplots(2,2)\n",
    "plt.subplots_adjust(wspace = 0.4, hspace = 0.4)\n",
    "\n",
    "X0, X1 = X[:, 0], X[:, 1]\n",
    "xx, yy = make_meshgrid(X0, X1)\n",
    "\n",
    "for clf, title, ax in zip(models, titles, sub.flatten()):\n",
    "    plot_contours(ax, clf, xx, yy, cmap = plt.cm.coolwarm, alpha = 0.8)\n",
    "    ax.scatter(X0, X1, c = y, cmap=plt.cm.coolwarm, s = 20, edgecolors = 'k')\n",
    "    ax.set_xlim(xx.min(), xx.max())\n",
    "    #ax_set_ylim(yy.min(), yy.max())\n",
    "    ax.set_xlabel('Sepal length')\n",
    "    ax.set_ylabel('Sepal width')\n",
    "    ax.set_yticks(())\n",
    "    ax.set_xticks(())\n",
    "    ax.set_title(title)\n",
    "\n",
    "plt.show()"
   ]
  },
  {
   "cell_type": "markdown",
   "metadata": {},
   "source": [
    "## GridSearch"
   ]
  },
  {
   "cell_type": "code",
   "execution_count": 31,
   "metadata": {},
   "outputs": [
    {
     "name": "stdout",
     "output_type": "stream",
     "text": [
      "학습 데이터의 수 = 72\n",
      "학습기 = SVC(C=1, kernel='linear')\n",
      "정답률 = 1.0\n"
     ]
    }
   ],
   "source": [
    "from sklearn import svm, metrics, model_selection\n",
    "from sklearn.model_selection import GridSearchCV\n",
    "\n",
    "print(\"학습 데이터의 수 =\", len(target))\n",
    "\n",
    "# 그리드 서치 매개변수 설정\n",
    "params = [\n",
    "    {\"C\" : [1, 10, 100, 1000], \"kernel\" : [\"linear\"]},\n",
    "    {\"C\" : [1, 10, 100, 1000], \"kernel\" : [\"rbf\"], \"gamma\":[0.001, 0.0001]}\n",
    "]\n",
    "\n",
    "# 그리드 서치 수행\n",
    "clf = GridSearchCV(svm.SVC(), params, n_jobs = -1)\n",
    "clf.fit(features, target)\n",
    "print(\"학습기 =\", clf.best_estimator_)\n",
    "\n",
    "# 테스트 데이터 확인하기\n",
    "pre = clf.predict(X_test)\n",
    "ac_score = metrics.accuracy_score(pre, y_test)\n",
    "print(\"정답률 =\", ac_score)"
   ]
  },
  {
   "cell_type": "code",
   "execution_count": 32,
   "metadata": {},
   "outputs": [
    {
     "name": "stdout",
     "output_type": "stream",
     "text": [
      "정답률 =  1.0\n",
      "리포트 =\n",
      "               precision    recall  f1-score   support\n",
      "\n",
      "           0       1.00      1.00      1.00         2\n",
      "           1       1.00      1.00      1.00         4\n",
      "\n",
      "    accuracy                           1.00         6\n",
      "   macro avg       1.00      1.00      1.00         6\n",
      "weighted avg       1.00      1.00      1.00         6\n",
      "\n"
     ]
    }
   ],
   "source": [
    "# 모델 성능\n",
    "\n",
    "svc = SVC(kernel = 'linear', class_weight = 'balanced', C = 1.0, random_state = 0)\n",
    "model = svc.fit(features, target)\n",
    "\n",
    "pre = clf.predict(X_test)\n",
    "\n",
    "ac_score = metrics.accuracy_score(y_test, pre)\n",
    "cl_report = metrics.classification_report(y_test, pre)\n",
    "print(\"정답률 = \",ac_score)\n",
    "print(\"리포트 =\\n\", cl_report)"
   ]
  },
  {
   "cell_type": "code",
   "execution_count": 33,
   "metadata": {
    "scrolled": false
   },
   "outputs": [
    {
     "data": {
      "text/plain": [
       "array([0])"
      ]
     },
     "execution_count": 33,
     "metadata": {},
     "output_type": "execute_result"
    }
   ],
   "source": [
    "# Class 예측\n",
    "\n",
    "new_observation = [[1, -0.2]]\n",
    "svc.predict(new_observation)"
   ]
  }
 ],
 "metadata": {
  "kernelspec": {
   "display_name": "Python 3",
   "language": "python",
   "name": "python3"
  },
  "language_info": {
   "codemirror_mode": {
    "name": "ipython",
    "version": 3
   },
   "file_extension": ".py",
   "mimetype": "text/x-python",
   "name": "python",
   "nbconvert_exporter": "python",
   "pygments_lexer": "ipython3",
   "version": "3.8.3"
  }
 },
 "nbformat": 4,
 "nbformat_minor": 4
}

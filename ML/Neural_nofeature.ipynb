{
 "cells": [
  {
   "cell_type": "markdown",
   "metadata": {},
   "source": [
    "# Import python library"
   ]
  },
  {
   "cell_type": "code",
   "execution_count": 1,
   "metadata": {},
   "outputs": [
    {
     "name": "stdout",
     "output_type": "stream",
     "text": [
      "Installed tensorflow version:  2.7.0\n"
     ]
    }
   ],
   "source": [
    "import os, shutil\n",
    "import time\n",
    "import math\n",
    "import numpy as np\n",
    "import pandas as pd\n",
    "import matplotlib.pyplot as plt\n",
    "%matplotlib inline\n",
    "from scipy import io, signal\n",
    "from scipy.fftpack import fft, fftshift\n",
    "\n",
    "import tensorflow as tf\n",
    "from tensorflow.keras import models, layers, regularizers, optimizers\n",
    "from tensorflow.keras.callbacks import LearningRateScheduler\n",
    "\n",
    "print(\"Installed tensorflow version: \", tf.__version__)"
   ]
  },
  {
   "cell_type": "markdown",
   "metadata": {},
   "source": [
    "# GPU setting"
   ]
  },
  {
   "cell_type": "code",
   "execution_count": 2,
   "metadata": {},
   "outputs": [
    {
     "data": {
      "text/plain": [
       "'float32'"
      ]
     },
     "execution_count": 2,
     "metadata": {},
     "output_type": "execute_result"
    }
   ],
   "source": [
    "os.environ[\"CUDA_DEVICE_ORDER\"] = \"PCI_BUS_ID\"\n",
    "os.environ[\"CUDA_VISIBLE_DEVICES\"] = \"0\" # GPU unit setting\n",
    "tf.keras.backend.floatx()"
   ]
  },
  {
   "cell_type": "markdown",
   "metadata": {},
   "source": [
    "# Parameters Setting for training"
   ]
  },
  {
   "cell_type": "code",
   "execution_count": 3,
   "metadata": {},
   "outputs": [],
   "source": [
    "### data parameters\n",
    "winT = 18000 # one priod\n",
    "\n",
    "\n",
    "### RMSprop optimizer parameters\n",
    "lr_begin = 1e-3\n",
    "RHO = 0.8\n",
    "\n",
    "### Training parameters \n",
    "MAX_EPOCHS = 80\n",
    "BATCH_SIZE = 128\n",
    "EPOCH_1 = math.ceil(MAX_EPOCHS/2)\n",
    "EPOCH_2 = math.ceil(MAX_EPOCHS*3/4)"
   ]
  },
  {
   "cell_type": "markdown",
   "metadata": {},
   "source": [
    "# Load measured datasets"
   ]
  },
  {
   "cell_type": "code",
   "execution_count": 4,
   "metadata": {},
   "outputs": [
    {
     "name": "stdout",
     "output_type": "stream",
     "text": [
      "[Info.] where am I?\n"
     ]
    },
    {
     "data": {
      "text/plain": [
       "'/home/wkchoi/Arc-Fault/pro'"
      ]
     },
     "execution_count": 4,
     "metadata": {},
     "output_type": "execute_result"
    }
   ],
   "source": [
    "print(\"[Info.] where am I?\")\n",
    "%pwd"
   ]
  },
  {
   "cell_type": "code",
   "execution_count": 5,
   "metadata": {},
   "outputs": [],
   "source": [
    "# Define signal plot function\n",
    "def show_signal_subplot(n_show, data, label, YRNG_MIN=-1, YRNG_MAX=1):\n",
    "    plt.figure(2, figsize=(12, 8))\n",
    "    plt.subplots_adjust(wspace=0.5)\n",
    "    for i in range(n_show):\n",
    "        plt.subplot(5, 10, i + 1)\n",
    "        plt.plot(data[i], color='cornflowerblue')\n",
    "        plt.text(int(data.shape[1]/2), 0, \"%d\" % label[i], fontsize=12, color='r')\n",
    "        plt.xlim(0, data.shape[1])\n",
    "        plt.ylim(YRNG_MIN, YRNG_MAX)\n",
    "        \n",
    "def data_shuffle(data):\n",
    "    s = np.arange(data.shape[0])\n",
    "    np.random.shuffle(s)\n",
    "    \n",
    "    return data[s]\n",
    "    \n",
    "    \n",
    "\n",
    "def gen_one_period_data(file_path, winT):\n",
    "    \n",
    "    ##### load raw data\n",
    "    data_raw = pd.read_excel(file_path, index_col=None, header=None, sheet_name='Sheet1')\n",
    "    data = data_raw.to_numpy() # numpy array\n",
    "    \n",
    "    ##### Data Normalization\n",
    "    data_n = np.zeros((data.shape[0],data.shape[1]))\n",
    "    for i in range(data.shape[1]):\n",
    "        data_n[:,i] = data[:,i]/max(abs(data[:,i]))  \n",
    "    \n",
    "    ##### expand one-period dataset\n",
    "    dT = round(winT / 10)\n",
    "    Num = round((data_n.shape[0] - winT)/dT)\n",
    "    \n",
    "    data_tot = np.zeros((winT,Num*data_n.shape[1]))\n",
    "    index = 0\n",
    "    for i in range(data_n.shape[1]):\n",
    "        for j in range(Num):\n",
    "            index = Num*i+j\n",
    "            data_tot[:,index] = data_n[j*dT:winT+j*dT,i]\n",
    "            \n",
    "    print(\"[Info.] Total re-arranged one-period data shape: \", data_tot.shape)\n",
    "    \n",
    "    return data_tot\n",
    "\n",
    "def merge_one_period_data(winT, *file_paths):\n",
    "    \n",
    "    subArrays = []\n",
    "    for file_path in file_paths:\n",
    "        data = gen_one_period_data(file_path, winT)\n",
    "        subArrays.append(data)\n",
    "                \n",
    "    allArrays = np.concatenate(subArrays, axis=1)\n",
    "    \n",
    "    print(\"[Info.] ==========> Total merged one-period data shape: \", allArrays.shape, \"\\n\")\n",
    "        \n",
    "    return allArrays"
   ]
  },
  {
   "cell_type": "code",
   "execution_count": 6,
   "metadata": {},
   "outputs": [],
   "source": [
    "base_dir = \"/home/wkchoi/Arc-Fault\""
   ]
  },
  {
   "cell_type": "markdown",
   "metadata": {},
   "source": [
    "## 1. Fan dataset"
   ]
  },
  {
   "cell_type": "code",
   "execution_count": 7,
   "metadata": {},
   "outputs": [
    {
     "name": "stdout",
     "output_type": "stream",
     "text": [
      "[Info.] Total re-arranged one-period data shape:  (18000, 1480)\n",
      "[Info.] Total re-arranged one-period data shape:  (18000, 1560)\n",
      "[Info.] Total re-arranged one-period data shape:  (18000, 80)\n",
      "[Info.] Total re-arranged one-period data shape:  (18000, 600)\n",
      "[Info.] Total re-arranged one-period data shape:  (18000, 2000)\n",
      "[Info.] Total re-arranged one-period data shape:  (18000, 1880)\n",
      "[Info.] ==========> Total merged one-period data shape:  (18000, 7600) \n",
      "\n",
      "[Info.] Total re-arranged one-period data shape:  (18000, 2000)\n",
      "[Info.] Total re-arranged one-period data shape:  (18000, 2000)\n",
      "[Info.] Total re-arranged one-period data shape:  (18000, 2000)\n",
      "[Info.] Total re-arranged one-period data shape:  (18000, 2160)\n",
      "[Info.] ==========> Total merged one-period data shape:  (18000, 8160) \n",
      "\n"
     ]
    }
   ],
   "source": [
    "### Fan arc raw dataset\n",
    "file_path1 = os.path.join(base_dir, \"Fan/arc/Fan_1_arc_humid_44(c61)_data.xlsx\")\n",
    "file_path2 = os.path.join(base_dir, \"Fan/arc/Fan_2_arc_humid_45_data.xlsx\")\n",
    "file_path3 = os.path.join(base_dir, \"Fan/arc/Fan_1_arc_humid_34(c14)_c2_data.xlsx\")\n",
    "file_path4 = os.path.join(base_dir, \"Fan/arc/Fan_2_arc_humid_34(c23)_c15_data.xlsx\")\n",
    "file_path5 = os.path.join(base_dir, \"Fan/arc/fan_1_arc_data.xlsx\")\n",
    "file_path6 = os.path.join(base_dir, \"Fan/arc/fan_2_arc(c57)_data.xlsx\")\n",
    "file_paths = [file_path1, file_path2, file_path3, file_path4, file_path5, file_path6]\n",
    "fan_arc = merge_one_period_data(winT, *file_paths)\n",
    "\n",
    "##### Fan normal raw dataset\n",
    "file_path1 = os.path.join(base_dir, \"Fan/normal/Fan_1_normal_humid_room_data.xlsx\")\n",
    "file_path2 = os.path.join(base_dir, \"Fan/normal/Fan_2_normal_humid_50_data.xlsx\")\n",
    "file_path3 = os.path.join(base_dir, \"Fan/normal/fan_1_normal_data.xlsx\")\n",
    "file_path4 = os.path.join(base_dir, \"Fan/normal/fan_2_normal(c54)_data.xlsx\")\n",
    "file_paths = [file_path1, file_path2, file_path3, file_path4]\n",
    "fan_normal = merge_one_period_data(winT, *file_paths)\n",
    "\n",
    "#### Fan Data shuffle\n",
    "fan_arc_1 = data_shuffle(fan_arc.T)\n",
    "fan_arc_2 = fan_arc_1.T[:,:]\n",
    "\n",
    "fan_normal_1 = data_shuffle(fan_normal.T)\n",
    "fan_normal_2 = fan_normal_1.T[:,:]"
   ]
  },
  {
   "cell_type": "markdown",
   "metadata": {},
   "source": [
    "## 2. Fluor dataset"
   ]
  },
  {
   "cell_type": "code",
   "execution_count": 8,
   "metadata": {},
   "outputs": [
    {
     "name": "stdout",
     "output_type": "stream",
     "text": [
      "[Info.] Total re-arranged one-period data shape:  (18000, 3160)\n",
      "[Info.] Total re-arranged one-period data shape:  (18000, 360)\n",
      "[Info.] Total re-arranged one-period data shape:  (18000, 2600)\n",
      "[Info.] Total re-arranged one-period data shape:  (18000, 1800)\n",
      "[Info.] ==========> Total merged one-period data shape:  (18000, 7920) \n",
      "\n",
      "[Info.] Total re-arranged one-period data shape:  (18000, 2000)\n",
      "[Info.] Total re-arranged one-period data shape:  (18000, 2000)\n",
      "[Info.] Total re-arranged one-period data shape:  (18000, 1480)\n",
      "[Info.] ==========> Total merged one-period data shape:  (18000, 5480) \n",
      "\n"
     ]
    }
   ],
   "source": [
    "### Fluor arc raw dataset\n",
    "file_path1 = os.path.join(base_dir, \"Fluor/arc/Fluor_1_arc_humid_40(c79)_data.xlsx\")\n",
    "file_path2 = os.path.join(base_dir, \"Fluor/arc/Fluor_1_arc_humid_50(weird)_data.xlsx\")\n",
    "file_path3 = os.path.join(base_dir, \"Fluor/arc/Fluor_2_arc_humid_40(c65)_data.xlsx\")\n",
    "file_path4 = os.path.join(base_dir, \"Fluor/arc/Fluor_2_arc_humid_23(c51)_data(c45).xlsx\")\n",
    "file_paths = [file_path1, file_path2, file_path3, file_path4]\n",
    "fluor_arc = merge_one_period_data(winT, *file_paths)\n",
    "\n",
    "##### Fluor normal raw dataset\n",
    "file_path1 = os.path.join(base_dir, \"Fluor/normal/Fluor_1_normal_humid_room_data.xlsx\")\n",
    "file_path2 = os.path.join(base_dir, \"Fluor/normal/Fluor_2_normal_humid_34_data.xlsx\")\n",
    "file_path3 = os.path.join(base_dir, \"Fluor/normal/Fluor_2_normal(c37)_data.xlsx\")\n",
    "file_paths = [file_path1, file_path2, file_path3]\n",
    "fluor_normal = merge_one_period_data(winT, *file_paths)\n",
    "\n",
    "#### Fluor Data shuffle\n",
    "fluor_arc_1 = data_shuffle(fluor_arc.T)\n",
    "fluor_arc_2 = fluor_arc_1.T[:,:]\n",
    "\n",
    "fluor_normal_1 = data_shuffle(fluor_normal.T)\n",
    "fluor_normal_2 = fluor_normal_1.T[:,:]"
   ]
  },
  {
   "cell_type": "markdown",
   "metadata": {},
   "source": [
    "## 3. Heat dataset\n"
   ]
  },
  {
   "cell_type": "code",
   "execution_count": 9,
   "metadata": {},
   "outputs": [
    {
     "name": "stdout",
     "output_type": "stream",
     "text": [
      "[Info.] Total re-arranged one-period data shape:  (18000, 2240)\n",
      "[Info.] Total re-arranged one-period data shape:  (18000, 2000)\n",
      "[Info.] Total re-arranged one-period data shape:  (18000, 2000)\n",
      "[Info.] Total re-arranged one-period data shape:  (18000, 1080)\n",
      "[Info.] ==========> Total merged one-period data shape:  (18000, 7320) \n",
      "\n",
      "[Info.] Total re-arranged one-period data shape:  (18000, 2000)\n",
      "[Info.] Total re-arranged one-period data shape:  (18000, 2000)\n",
      "[Info.] ==========> Total merged one-period data shape:  (18000, 4000) \n",
      "\n"
     ]
    }
   ],
   "source": [
    "### Heat arc raw dataset\n",
    "file_path1 = os.path.join(base_dir, \"Heat/arc/Heat_1_arc_humid_40(c56)_data.xlsx\")\n",
    "file_path2 = os.path.join(base_dir, \"Heat/arc/Heat_1_arc_humid_50_data.xlsx\")\n",
    "file_path3 = os.path.join(base_dir, \"Heat/arc/Heat_2_arc_humid_40_data.xlsx\")\n",
    "file_path4 = os.path.join(base_dir, \"Heat/arc/Heater_2_arc_humid_34(c27)_data.xlsx\")\n",
    "file_paths = [file_path1, file_path2, file_path3, file_path4]\n",
    "heat_arc = merge_one_period_data(winT, *file_paths)\n",
    "\n",
    "##### Heat normal raw dataset\n",
    "file_path1 = os.path.join(base_dir, \"Heat/normal/Heat_1_normal_humid_room_data.xlsx\")\n",
    "file_path2 = os.path.join(base_dir, \"Heat/normal/Heat_2_normal_humid_40_data.xlsx\")\n",
    "file_paths = [file_path1, file_path2]\n",
    "heat_normal = merge_one_period_data(winT, *file_paths)\n",
    "\n",
    "### Heat Data Shuffle\n",
    "heat_arc_1 = data_shuffle(heat_arc.T)\n",
    "heat_arc_2 = heat_arc_1.T[:,:]\n",
    "\n",
    "heat_normal_1 = data_shuffle(heat_normal.T)\n",
    "heat_normal_2 = heat_normal_1.T[:,:]"
   ]
  },
  {
   "cell_type": "markdown",
   "metadata": {},
   "source": [
    "## 4. Incan dataset"
   ]
  },
  {
   "cell_type": "code",
   "execution_count": 10,
   "metadata": {},
   "outputs": [
    {
     "name": "stdout",
     "output_type": "stream",
     "text": [
      "[Info.] Total re-arranged one-period data shape:  (18000, 1880)\n",
      "[Info.] Total re-arranged one-period data shape:  (18000, 2000)\n",
      "[Info.] Total re-arranged one-period data shape:  (18000, 2400)\n",
      "[Info.] Total re-arranged one-period data shape:  (18000, 2400)\n",
      "[Info.] Total re-arranged one-period data shape:  (18000, 1640)\n",
      "[Info.] Total re-arranged one-period data shape:  (18000, 2400)\n",
      "[Info.] Total re-arranged one-period data shape:  (18000, 880)\n",
      "[Info.] Total re-arranged one-period data shape:  (18000, 2120)\n",
      "[Info.] ==========> Total merged one-period data shape:  (18000, 15720) \n",
      "\n",
      "[Info.] Total re-arranged one-period data shape:  (18000, 2000)\n",
      "[Info.] Total re-arranged one-period data shape:  (18000, 2000)\n",
      "[Info.] ==========> Total merged one-period data shape:  (18000, 4000) \n",
      "\n"
     ]
    }
   ],
   "source": [
    "### Incan arc raw dataset\n",
    "file_path1 = os.path.join(base_dir, \"incan/arc/incan_1_arc_humid_room_data.xlsx\")\n",
    "file_path2 = os.path.join(base_dir, \"incan/arc/incan_2_arc_44_data.xlsx\")\n",
    "file_path3 = os.path.join(base_dir, \"incan/arc/Incan_2_arc_humid_40(c60)_data.xlsx\")\n",
    "file_path4 = os.path.join(base_dir, \"incan/arc/Incan_2_arc_humid_40(c61-c120)_data.xlsx\")\n",
    "file_path5 = os.path.join(base_dir, \"incan/arc/Incan_2_arc_humid_40(c121-c161)_data.xlsx\")\n",
    "file_path6 = os.path.join(base_dir, \"incan/arc/Incan_2_arc_humid_95(c60)_data.xlsx\")\n",
    "file_path7 = os.path.join(base_dir, \"incan/arc/Incan_2_arc_humid_95(c61-c82)_data.xlsx\")\n",
    "file_path8 = os.path.join(base_dir, \"incan/arc/Incan_2_arc_humid_room(after humid95)(c53)_data.xlsx\")\n",
    "file_paths = [file_path1, file_path2, file_path3, file_path4, file_path5, file_path6,\n",
    "             file_path7, file_path8]\n",
    "incan_arc = merge_one_period_data(winT, *file_paths)\n",
    "\n",
    "##### Incan normal raw dataset\n",
    "file_path1 = os.path.join(base_dir, \"incan/normal/incan_1_normal_humid_room_data.xlsx\")\n",
    "file_path2 = os.path.join(base_dir, \"incan/normal/incan_2_normal_humid_room_data.xlsx\")\n",
    "file_paths = [file_path1, file_path2]\n",
    "incan_normal = merge_one_period_data(winT, *file_paths)\n",
    "\n",
    "### Incan Data Shuffle\n",
    "incan_arc_1 = data_shuffle(incan_arc.T)\n",
    "incan_arc_2 = incan_arc_1.T[:,:]\n",
    "\n",
    "incan_normal_1 = data_shuffle(incan_normal.T)\n",
    "incan_normal_2 = incan_normal_1.T[:,:]"
   ]
  },
  {
   "cell_type": "markdown",
   "metadata": {},
   "source": [
    "## 5. Led dataset"
   ]
  },
  {
   "cell_type": "code",
   "execution_count": 11,
   "metadata": {},
   "outputs": [
    {
     "name": "stdout",
     "output_type": "stream",
     "text": [
      "[Info.] Total re-arranged one-period data shape:  (18000, 1160)\n",
      "[Info.] Total re-arranged one-period data shape:  (18000, 760)\n",
      "[Info.] Total re-arranged one-period data shape:  (18000, 1360)\n",
      "[Info.] Total re-arranged one-period data shape:  (18000, 1600)\n",
      "[Info.] Total re-arranged one-period data shape:  (18000, 1800)\n",
      "[Info.] Total re-arranged one-period data shape:  (18000, 1920)\n",
      "[Info.] ==========> Total merged one-period data shape:  (18000, 8600) \n",
      "\n",
      "[Info.] Total re-arranged one-period data shape:  (18000, 1440)\n",
      "[Info.] Total re-arranged one-period data shape:  (18000, 2000)\n",
      "[Info.] Total re-arranged one-period data shape:  (18000, 1280)\n",
      "[Info.] Total re-arranged one-period data shape:  (18000, 1600)\n",
      "[Info.] Total re-arranged one-period data shape:  (18000, 120)\n",
      "[Info.] ==========> Total merged one-period data shape:  (18000, 6440) \n",
      "\n"
     ]
    }
   ],
   "source": [
    "### LED arc raw dataset\n",
    "file_path1 = os.path.join(base_dir, \"Led/arc/led_1_arc_humid_23_c(30)_data(c29).xlsx\")\n",
    "file_path2 = os.path.join(base_dir, \"Led/arc/LED_1_arc(c19)_data.xlsx\")\n",
    "file_path3 = os.path.join(base_dir, \"Led/arc/LED_2_arc(c34)_data.xlsx\")\n",
    "file_path4 = os.path.join(base_dir, \"Led/arc/led_1_arc(c43)_data.xlsx\")\n",
    "file_path5 = os.path.join(base_dir, \"Led/arc/led_1_arc(c50)_data.xlsx\")\n",
    "file_path6 = os.path.join(base_dir, \"Led/arc/led_2_arc(c56)_data.xlsx\")\n",
    "file_paths = [file_path1, file_path2, file_path3, file_path4, file_path5, file_path6]\n",
    "led_arc = merge_one_period_data(winT, *file_paths)\n",
    "\n",
    "##### LED normal raw dataset\n",
    "file_path1 = os.path.join(base_dir, \"Led/normal/led_1_normal_c(36)_data.xlsx\")\n",
    "file_path2 = os.path.join(base_dir, \"Led/normal/led_1_normal_humid_room_data.xlsx\")\n",
    "file_path3 = os.path.join(base_dir, \"Led/normal/led_2_normal_c(32)_data.xlsx\")\n",
    "file_path4 = os.path.join(base_dir, \"Led/normal/LED_2_normal(c40)_data.xlsx\")\n",
    "file_path5 = os.path.join(base_dir, \"Led/normal/led_1_normal(c3)_data.xlsx\")\n",
    "file_paths = [file_path1, file_path2, file_path3, file_path4, file_path5]\n",
    "led_normal = merge_one_period_data(winT, *file_paths)\n",
    "\n",
    "### LED Data Shuffle\n",
    "led_arc_1 = data_shuffle(led_arc.T)\n",
    "led_arc_2 = led_arc_1.T[:,:]\n",
    "\n",
    "led_normal_1 = data_shuffle(led_normal.T)\n",
    "led_normal_2 = led_normal_1.T[:,:]"
   ]
  },
  {
   "cell_type": "code",
   "execution_count": 12,
   "metadata": {},
   "outputs": [
    {
     "name": "stdout",
     "output_type": "stream",
     "text": [
      "------Fan------\n",
      "(18000, 7600)\n",
      "(18000, 8160)\n",
      "(18000, 7600)\n",
      "(18000, 7600)\n",
      "------Fluor------\n",
      "(18000, 7920)\n",
      "(18000, 5480)\n",
      "(18000, 5480)\n",
      "(18000, 5480)\n",
      "------Heat------\n",
      "(18000, 7320)\n",
      "(18000, 4000)\n",
      "(18000, 4000)\n",
      "(18000, 4000)\n",
      "------Incan------\n",
      "(18000, 15720)\n",
      "(18000, 4000)\n",
      "(18000, 4000)\n",
      "(18000, 4000)\n",
      "------Led------\n",
      "(18000, 8600)\n",
      "(18000, 6440)\n",
      "(18000, 6440)\n",
      "(18000, 6440)\n"
     ]
    }
   ],
   "source": [
    "# 데이터 불균형으로 데이터를 자름 (oversampling 또는 다른 방법 필요)\n",
    "print('------Fan------')\n",
    "print(fan_arc_2.shape)\n",
    "print(fan_normal_2.shape)\n",
    "fan_normal_2 = fan_normal_1.T[:,:7600]\n",
    "print(fan_arc_2.shape)\n",
    "print(fan_normal_2.shape)\n",
    "\n",
    "print('------Fluor------')\n",
    "print(fluor_arc_2.shape)\n",
    "print(fluor_normal_2.shape)\n",
    "fluor_arc_2 = fluor_arc_1.T[:,:5480]\n",
    "print(fluor_arc_2.shape)\n",
    "print(fluor_normal_2.shape)\n",
    "\n",
    "print('------Heat------')\n",
    "print(heat_arc_2.shape)\n",
    "print(heat_normal_2.shape)\n",
    "heat_arc_2 = heat_arc_1.T[:,:4000]\n",
    "print(heat_arc_2.shape)\n",
    "print(heat_normal_2.shape)\n",
    "\n",
    "print('------Incan------')\n",
    "print(incan_arc_2.shape)\n",
    "print(incan_normal_2.shape)\n",
    "incan_arc_2 = incan_arc_1.T[:,:4000]\n",
    "print(incan_arc_2.shape)\n",
    "print(incan_normal_2.shape)\n",
    "\n",
    "print('------Led------')\n",
    "print(led_arc_2.shape)\n",
    "print(led_normal_2.shape)\n",
    "led_arc_2 = led_arc_1.T[:,:6440]\n",
    "print(led_arc_2.shape)\n",
    "print(led_normal_2.shape)"
   ]
  },
  {
   "cell_type": "markdown",
   "metadata": {},
   "source": [
    "# Data Labeling"
   ]
  },
  {
   "cell_type": "code",
   "execution_count": 13,
   "metadata": {},
   "outputs": [],
   "source": [
    "##### Fan Labeling\n",
    "norm_fan_label = np.zeros(fan_normal_2.shape[1]) # label 0\n",
    "arc_fan_label = np.ones(fan_arc_2.shape[1])  # label 1\n",
    "\n",
    "##### Fluor Labeling\n",
    "norm_fluor_label = 2*np.ones(fluor_normal_2.shape[1]) # label 2\n",
    "arc_fluor_label = 3*np.ones(fluor_arc_2.shape[1])  # label 3\n",
    "\n",
    "##### Heat Labeling\n",
    "norm_heat_label = 4*np.ones(heat_normal_2.shape[1]) # label 4\n",
    "arc_heat_label = 5*np.ones(heat_arc_2.shape[1])  # label 5\n",
    "\n",
    "##### Incan Labeling\n",
    "norm_incan_label = 6*np.ones(incan_normal_2.shape[1]) # label 6\n",
    "arc_incan_label = 7*np.ones(incan_arc_2.shape[1])  # label 7\n",
    "\n",
    "##### LED Labeling\n",
    "norm_led_label = 8*np.ones(led_normal_2.shape[1]) # label 8\n",
    "arc_led_label = 9*np.ones(led_arc_2.shape[1])  # label 9"
   ]
  },
  {
   "cell_type": "markdown",
   "metadata": {},
   "source": [
    "# Data Shuffling"
   ]
  },
  {
   "cell_type": "code",
   "execution_count": 14,
   "metadata": {
    "scrolled": true
   },
   "outputs": [
    {
     "name": "stdout",
     "output_type": "stream",
     "text": [
      "[Info.] Total dataset shape:  (55040, 18000)\n"
     ]
    }
   ],
   "source": [
    "##### Prepare full datasets for training\n",
    "Train_raw = np.concatenate((fan_normal_2.T, fan_arc_2.T, fluor_normal_2.T, fluor_arc_2.T,\n",
    "                           heat_normal_2.T, heat_arc_2.T, incan_normal_2.T, incan_arc_2.T, \n",
    "                           led_normal_2.T, led_arc_2.T), axis=0)\n",
    "Train_label = np.concatenate((norm_fan_label, arc_fan_label, norm_fluor_label, arc_fluor_label,\n",
    "                             norm_heat_label, arc_heat_label, norm_incan_label, arc_incan_label,\n",
    "                             norm_led_label, arc_led_label))\n",
    "print('[Info.] Total dataset shape: ', Train_raw.shape)"
   ]
  },
  {
   "cell_type": "code",
   "execution_count": 15,
   "metadata": {
    "scrolled": true
   },
   "outputs": [
    {
     "name": "stdout",
     "output_type": "stream",
     "text": [
      "===> Display label numbers after data shuffling: \n",
      " [2. 4. 4. 5. 2. 3. 3. 2. 0. 7. 8. 1. 4. 0. 1. 1. 3. 3. 0. 9. 7. 1. 2. 3.\n",
      " 4. 3. 5. 3. 7. 0. 3. 6. 9. 9. 8. 0. 8. 0. 9. 9. 6. 0. 1. 2. 3. 0. 9. 2.\n",
      " 3. 8. 3. 2. 0. 6. 0. 2. 9. 1. 8. 9. 4. 6. 0. 5. 9. 3. 0. 3. 8. 1. 9. 3.\n",
      " 7. 8. 3. 4. 1. 9. 3. 8. 9. 7. 9. 2. 0. 4. 0. 3. 1. 9. 7. 7. 3. 2. 3. 3.\n",
      " 0. 6. 8. 1.]\n"
     ]
    }
   ],
   "source": [
    "# s라는 배열에 data의 인덱스를 넣고 섞은 뒤 data와 data_label 배열에 대입.(train)\n",
    "s = np.arange(Train_raw.shape[0])\n",
    "np.random.shuffle(s)\n",
    "\n",
    "data_tr = Train_raw[s]\n",
    "data_tr_label = Train_label[s]\n",
    "print(\"===> Display label numbers after data shuffling:\", \"\\n\", data_tr_label[0:100])"
   ]
  },
  {
   "cell_type": "code",
   "execution_count": 16,
   "metadata": {
    "scrolled": true
   },
   "outputs": [
    {
     "data": {
      "image/png": "[encoded data removed]",
      "text/plain": [
       "<Figure size 864x576 with 50 Axes>"
      ]
     },
     "metadata": {
      "needs_background": "light"
     },
     "output_type": "display_data"
    }
   ],
   "source": [
    "show_signal_subplot(50, data_tr, data_tr_label, -2, 2)"
   ]
  },
  {
   "cell_type": "markdown",
   "metadata": {},
   "source": [
    "# Construct Train and Testing dataset\n"
   ]
  },
  {
   "cell_type": "code",
   "execution_count": 21,
   "metadata": {},
   "outputs": [
    {
     "name": "stdout",
     "output_type": "stream",
     "text": [
      "[Info.] Number of training dataset:  44032\n",
      "[Info.] Number of test dataset:  11008\n",
      "(44032, 18000)\n",
      "(11008, 18000)\n",
      "(44032,)\n",
      "(11008,)\n"
     ]
    }
   ],
   "source": [
    "SPL_RATIO = 0.8 \n",
    "index = round(data_tr.shape[0]*SPL_RATIO)\n",
    "\n",
    "### train 데이터와 test 데이터로 분리\n",
    "train_X, train_Y = data_tr[:index], data_tr_label[:index]\n",
    "test_X, test_Y = data_tr[index:], data_tr_label[index:]\n",
    "print('[Info.] Number of training dataset: ', len(train_X))\n",
    "print('[Info.] Number of test dataset: ', len(test_X))\n",
    "\n",
    "### Save trainind and test datasets and labels\n",
    "dataset_dir = './TrTedata'\n",
    "if os.path.exists(dataset_dir):  # 반복적인 실행을 위해 디렉토리를 삭제\n",
    "    shutil.rmtree(dataset_dir)   \n",
    "os.mkdir(dataset_dir)\n",
    "\n",
    "# training\n",
    "train_X_dir = os.path.join(dataset_dir, 'train_X.npy')\n",
    "np.save(train_X_dir, train_X)\n",
    "\n",
    "train_Y_dir = os.path.join(dataset_dir, 'train_Y.npy')\n",
    "np.save(train_Y_dir, train_Y)\n",
    "\n",
    "# test\n",
    "test_X_dir = os.path.join(dataset_dir, 'test_X.npy')\n",
    "np.save(test_X_dir, test_X)\n",
    "\n",
    "test_Y_dir = os.path.join(dataset_dir, 'test_Y.npy')\n",
    "np.save(test_Y_dir, test_Y)\n",
    "\n",
    "print(train_X.shape)\n",
    "print(test_X.shape)\n",
    "print(train_Y.shape)\n",
    "print(test_Y.shape)"
   ]
  },
  {
   "cell_type": "code",
   "execution_count": 22,
   "metadata": {},
   "outputs": [
    {
     "name": "stdout",
     "output_type": "stream",
     "text": [
      "[Info.] x_train numpy shape:  (44032, 18000, 1)\n",
      "[Info.] x_test numpy shape:  (11008, 18000, 1)\n",
      "[Info.] y_train numpy shape:  (44032,)\n",
      "[Info.] y_test numpy shape:  (11008,)\n"
     ]
    }
   ],
   "source": [
    "### Training and test datasets\n",
    "x_train = np.reshape(train_X, (len(train_X),train_X.shape[1],1))\n",
    "x_test = np.reshape(test_X, (len(test_X),train_X.shape[1],1))\n",
    "\n",
    "### Training and test labeling\n",
    "y_train = np.asarray(train_Y).astype('float32')\n",
    "y_test = np.asarray(test_Y).astype('float32')\n",
    "\n",
    "print('[Info.] x_train numpy shape: ', x_train.shape)\n",
    "print('[Info.] x_test numpy shape: ', x_test.shape)\n",
    "print('[Info.] y_train numpy shape: ', y_train.shape)\n",
    "print('[Info.] y_test numpy shape: ', y_test.shape)"
   ]
  },
  {
   "cell_type": "code",
   "execution_count": 23,
   "metadata": {
    "scrolled": false
   },
   "outputs": [
    {
     "name": "stdout",
     "output_type": "stream",
     "text": [
      "(44032, 18000, 1)\n",
      "(11008, 18000, 1)\n",
      "(44032,)\n",
      "(11008,)\n"
     ]
    }
   ],
   "source": [
    "\n",
    "print(x_train.shape)\n",
    "print(x_test.shape)\n",
    "print(y_train.shape)\n",
    "print(y_test.shape)"
   ]
  },
  {
   "cell_type": "code",
   "execution_count": 24,
   "metadata": {},
   "outputs": [
    {
     "name": "stdout",
     "output_type": "stream",
     "text": [
      "(44032, 18000, 1)\n",
      "(11008, 18000, 1)\n",
      "(44032,)\n",
      "(11008,)\n"
     ]
    }
   ],
   "source": [
    "print(x_train.shape)\n",
    "print(x_test.shape)\n",
    "print(y_train.shape)\n",
    "print(y_test.shape)"
   ]
  },
  {
   "cell_type": "markdown",
   "metadata": {},
   "source": [
    "#  Model"
   ]
  },
  {
   "cell_type": "code",
   "execution_count": 40,
   "metadata": {},
   "outputs": [
    {
     "name": "stdout",
     "output_type": "stream",
     "text": [
      "Model: \"sequential_2\"\n",
      "_________________________________________________________________\n",
      " Layer (type)                Output Shape              Param #   \n",
      "=================================================================\n",
      " dense_4 (Dense)             (None, 36)                648036    \n",
      "                                                                 \n",
      " dense_5 (Dense)             (None, 24)                888       \n",
      "                                                                 \n",
      " dense_6 (Dense)             (None, 18)                450       \n",
      "                                                                 \n",
      "=================================================================\n",
      "Total params: 649,374\n",
      "Trainable params: 649,374\n",
      "Non-trainable params: 0\n",
      "_________________________________________________________________\n"
     ]
    }
   ],
   "source": [
    "model = models.Sequential()\n",
    "model.add(layers.Dense(36,  input_shape=(x_train.shape[1],), activation='relu'))\n",
    "model.add(layers.Dense(24, activation='relu'))\n",
    "model.add(layers.Dense(18, activation='softmax'))\n",
    "model.summary()"
   ]
  },
  {
   "cell_type": "code",
   "execution_count": 41,
   "metadata": {},
   "outputs": [],
   "source": [
    "model.compile(loss='sparse_categorical_crossentropy',\n",
    "              optimizer='adam',\n",
    "              metrics=['accuracy']) "
   ]
  },
  {
   "cell_type": "code",
   "execution_count": 42,
   "metadata": {},
   "outputs": [
    {
     "name": "stdout",
     "output_type": "stream",
     "text": [
      "Epoch 1/50\n",
      "1101/1101 [==============================] - 3s 3ms/step - loss: 1.4408 - accuracy: 0.5192 - val_loss: 0.9817 - val_accuracy: 0.6326\n",
      "Epoch 2/50\n",
      "1101/1101 [==============================] - 2s 2ms/step - loss: 0.8516 - accuracy: 0.6876 - val_loss: 0.7863 - val_accuracy: 0.7200\n",
      "Epoch 3/50\n",
      "1101/1101 [==============================] - 3s 2ms/step - loss: 0.6942 - accuracy: 0.7500 - val_loss: 0.6086 - val_accuracy: 0.7901\n",
      "Epoch 4/50\n",
      "1101/1101 [==============================] - 2s 2ms/step - loss: 0.5944 - accuracy: 0.7859 - val_loss: 0.5747 - val_accuracy: 0.7984\n",
      "Epoch 5/50\n",
      "1101/1101 [==============================] - 3s 2ms/step - loss: 0.5396 - accuracy: 0.8053 - val_loss: 0.5338 - val_accuracy: 0.8139\n",
      "Epoch 6/50\n",
      "1101/1101 [==============================] - 3s 3ms/step - loss: 0.4985 - accuracy: 0.8189 - val_loss: 0.4708 - val_accuracy: 0.8366\n",
      "Epoch 7/50\n",
      "1101/1101 [==============================] - 3s 3ms/step - loss: 0.4705 - accuracy: 0.8253 - val_loss: 0.4321 - val_accuracy: 0.8460\n",
      "Epoch 8/50\n",
      "1101/1101 [==============================] - 3s 3ms/step - loss: 0.4457 - accuracy: 0.8373 - val_loss: 0.5220 - val_accuracy: 0.8105\n",
      "Epoch 9/50\n",
      "1101/1101 [==============================] - 2s 2ms/step - loss: 0.4154 - accuracy: 0.8481 - val_loss: 0.4846 - val_accuracy: 0.8243\n",
      "Epoch 10/50\n",
      "1101/1101 [==============================] - 3s 3ms/step - loss: 0.3900 - accuracy: 0.8580 - val_loss: 0.4053 - val_accuracy: 0.8584\n",
      "Epoch 11/50\n",
      "1101/1101 [==============================] - 3s 2ms/step - loss: 0.3881 - accuracy: 0.8564 - val_loss: 0.3770 - val_accuracy: 0.8727\n",
      "Epoch 12/50\n",
      "1101/1101 [==============================] - 3s 3ms/step - loss: 0.3553 - accuracy: 0.8725 - val_loss: 0.3915 - val_accuracy: 0.8677\n",
      "Epoch 13/50\n",
      "1101/1101 [==============================] - 3s 2ms/step - loss: 0.3484 - accuracy: 0.8740 - val_loss: 0.4424 - val_accuracy: 0.8411\n",
      "Epoch 14/50\n",
      "1101/1101 [==============================] - 2s 2ms/step - loss: 0.3331 - accuracy: 0.8814 - val_loss: 0.3703 - val_accuracy: 0.8707\n",
      "Epoch 15/50\n",
      "1101/1101 [==============================] - 2s 2ms/step - loss: 0.3164 - accuracy: 0.8845 - val_loss: 0.3490 - val_accuracy: 0.8720\n",
      "Epoch 16/50\n",
      "1101/1101 [==============================] - 3s 2ms/step - loss: 0.3063 - accuracy: 0.8922 - val_loss: 0.4406 - val_accuracy: 0.8541\n",
      "Epoch 17/50\n",
      "1101/1101 [==============================] - 3s 3ms/step - loss: 0.2932 - accuracy: 0.8941 - val_loss: 0.3363 - val_accuracy: 0.8947\n",
      "Epoch 18/50\n",
      "1101/1101 [==============================] - 2s 2ms/step - loss: 0.2907 - accuracy: 0.8948 - val_loss: 0.3369 - val_accuracy: 0.8831\n",
      "Epoch 19/50\n",
      "1101/1101 [==============================] - 3s 3ms/step - loss: 0.2767 - accuracy: 0.9003 - val_loss: 0.3570 - val_accuracy: 0.8790\n",
      "Epoch 20/50\n",
      "1101/1101 [==============================] - 2s 2ms/step - loss: 0.2670 - accuracy: 0.9040 - val_loss: 0.3536 - val_accuracy: 0.8816\n",
      "Epoch 21/50\n",
      "1101/1101 [==============================] - 2s 2ms/step - loss: 0.2661 - accuracy: 0.9044 - val_loss: 0.3082 - val_accuracy: 0.9020\n",
      "Epoch 22/50\n",
      "1101/1101 [==============================] - 2s 2ms/step - loss: 0.2569 - accuracy: 0.9080 - val_loss: 0.3266 - val_accuracy: 0.8932\n",
      "Epoch 23/50\n",
      "1101/1101 [==============================] - 2s 2ms/step - loss: 0.2451 - accuracy: 0.9109 - val_loss: 0.3098 - val_accuracy: 0.8950\n",
      "Epoch 24/50\n",
      "1101/1101 [==============================] - 3s 2ms/step - loss: 0.2543 - accuracy: 0.9090 - val_loss: 0.3440 - val_accuracy: 0.8868\n",
      "Epoch 25/50\n",
      "1101/1101 [==============================] - 2s 2ms/step - loss: 0.2376 - accuracy: 0.9156 - val_loss: 0.3094 - val_accuracy: 0.9023\n",
      "Epoch 26/50\n",
      "1101/1101 [==============================] - 2s 2ms/step - loss: 0.2397 - accuracy: 0.9142 - val_loss: 0.3248 - val_accuracy: 0.8981\n",
      "Epoch 27/50\n",
      "1101/1101 [==============================] - 3s 3ms/step - loss: 0.2320 - accuracy: 0.9159 - val_loss: 0.3304 - val_accuracy: 0.8974\n",
      "Epoch 28/50\n",
      "1101/1101 [==============================] - 3s 3ms/step - loss: 0.2362 - accuracy: 0.9158 - val_loss: 0.2867 - val_accuracy: 0.9018\n",
      "Epoch 29/50\n",
      "1101/1101 [==============================] - 2s 2ms/step - loss: 0.2249 - accuracy: 0.9199 - val_loss: 0.3249 - val_accuracy: 0.8993\n",
      "Epoch 30/50\n",
      "1101/1101 [==============================] - 3s 2ms/step - loss: 0.2195 - accuracy: 0.9219 - val_loss: 0.2931 - val_accuracy: 0.9132\n",
      "Epoch 31/50\n",
      "1101/1101 [==============================] - 2s 2ms/step - loss: 0.2123 - accuracy: 0.9237 - val_loss: 0.2850 - val_accuracy: 0.9072\n",
      "Epoch 32/50\n",
      "1101/1101 [==============================] - 3s 3ms/step - loss: 0.2167 - accuracy: 0.9231 - val_loss: 0.3452 - val_accuracy: 0.8962\n",
      "Epoch 33/50\n",
      "1101/1101 [==============================] - 2s 2ms/step - loss: 0.2150 - accuracy: 0.9225 - val_loss: 0.3868 - val_accuracy: 0.8909\n",
      "Epoch 34/50\n",
      "1101/1101 [==============================] - 2s 2ms/step - loss: 0.2068 - accuracy: 0.9252 - val_loss: 0.2738 - val_accuracy: 0.9131\n",
      "Epoch 35/50\n",
      "1101/1101 [==============================] - 3s 2ms/step - loss: 0.2025 - accuracy: 0.9270 - val_loss: 0.2856 - val_accuracy: 0.9093\n",
      "Epoch 36/50\n",
      "1101/1101 [==============================] - 3s 3ms/step - loss: 0.2030 - accuracy: 0.9275 - val_loss: 0.2944 - val_accuracy: 0.9048\n",
      "Epoch 37/50\n",
      "1101/1101 [==============================] - 2s 2ms/step - loss: 0.1920 - accuracy: 0.9318 - val_loss: 0.3177 - val_accuracy: 0.9127\n",
      "Epoch 38/50\n",
      "1101/1101 [==============================] - 3s 2ms/step - loss: 0.1894 - accuracy: 0.9341 - val_loss: 0.3062 - val_accuracy: 0.9144\n",
      "Epoch 39/50\n",
      "1101/1101 [==============================] - 2s 2ms/step - loss: 0.1965 - accuracy: 0.9312 - val_loss: 0.2723 - val_accuracy: 0.9197\n",
      "Epoch 40/50\n",
      "1101/1101 [==============================] - 2s 2ms/step - loss: 0.1838 - accuracy: 0.9338 - val_loss: 0.3027 - val_accuracy: 0.9089\n",
      "Epoch 41/50\n",
      "1101/1101 [==============================] - 2s 2ms/step - loss: 0.1840 - accuracy: 0.9348 - val_loss: 0.3240 - val_accuracy: 0.9054\n",
      "Epoch 42/50\n",
      "1101/1101 [==============================] - 3s 3ms/step - loss: 0.1772 - accuracy: 0.9381 - val_loss: 0.2707 - val_accuracy: 0.9221\n",
      "Epoch 43/50\n",
      "1101/1101 [==============================] - 2s 2ms/step - loss: 0.1779 - accuracy: 0.9374 - val_loss: 0.3142 - val_accuracy: 0.8943\n",
      "Epoch 44/50\n",
      "1101/1101 [==============================] - 2s 2ms/step - loss: 0.1785 - accuracy: 0.9375 - val_loss: 0.3172 - val_accuracy: 0.9056\n",
      "Epoch 45/50\n",
      "1101/1101 [==============================] - 2s 2ms/step - loss: 0.1764 - accuracy: 0.9383 - val_loss: 0.3274 - val_accuracy: 0.9129\n",
      "Epoch 46/50\n",
      "1101/1101 [==============================] - 3s 2ms/step - loss: 0.1691 - accuracy: 0.9410 - val_loss: 0.3025 - val_accuracy: 0.9112\n",
      "Epoch 47/50\n",
      "1101/1101 [==============================] - 2s 2ms/step - loss: 0.1648 - accuracy: 0.9407 - val_loss: 0.3220 - val_accuracy: 0.9109\n",
      "Epoch 48/50\n",
      "1101/1101 [==============================] - 2s 2ms/step - loss: 0.1696 - accuracy: 0.9393 - val_loss: 0.3239 - val_accuracy: 0.9221\n",
      "Epoch 49/50\n",
      "1101/1101 [==============================] - 3s 2ms/step - loss: 0.1636 - accuracy: 0.9426 - val_loss: 0.2857 - val_accuracy: 0.9163\n",
      "Epoch 50/50\n",
      "1101/1101 [==============================] - 3s 2ms/step - loss: 0.1661 - accuracy: 0.9422 - val_loss: 0.3116 - val_accuracy: 0.9235\n"
     ]
    }
   ],
   "source": [
    "history = model.fit(x_train,\n",
    "                    y_train,\n",
    "                    epochs = 50,\n",
    "                    batch_size = 40,\n",
    "                    validation_data = (x_test, y_test))"
   ]
  },
  {
   "cell_type": "code",
   "execution_count": 43,
   "metadata": {},
   "outputs": [
    {
     "name": "stdout",
     "output_type": "stream",
     "text": [
      "[Info.]Test loss: 0.3116311728954315\n",
      "[Info.]Test accuracy: 0.9235101938247681\n"
     ]
    }
   ],
   "source": [
    "score = model.evaluate(x_test, y_test, verbose=0)\n",
    "print('[Info.]Test loss:', score[0])\n",
    "print('[Info.]Test accuracy:', score[1])"
   ]
  },
  {
   "cell_type": "code",
   "execution_count": 44,
   "metadata": {},
   "outputs": [
    {
     "data": {
      "image/png": "[encoded data removed]",
      "text/plain": [
       "<Figure size 720x288 with 2 Axes>"
      ]
     },
     "metadata": {
      "needs_background": "light"
     },
     "output_type": "display_data"
    }
   ],
   "source": [
    "plt.figure(1, figsize=(10, 4))\n",
    "plt.subplots_adjust(wspace=0.5)\n",
    "# 학습 및 테스트 데이터에 대한 손실 비교\n",
    "plt.subplot(1, 2, 1)\n",
    "plt.plot(history.history['loss'], label='training', color='black')\n",
    "plt.plot(history.history['val_loss'], label='test',\n",
    "         color='cornflowerblue')\n",
    "plt.ylim(0, 1.5)\n",
    "plt.legend()\n",
    "plt.grid()\n",
    "plt.xlabel('epoch')\n",
    "plt.ylabel('loss')\n",
    "\n",
    "# 학습 및 테스트 데이터에 대한 정확도 비교\n",
    "plt.subplot(1, 2, 2)\n",
    "plt.plot(history.history['accuracy'], label='training', color='black')\n",
    "plt.plot(history.history['val_accuracy'],label='test', color='cornflowerblue')\n",
    "plt.ylim(0.4, 1)\n",
    "plt.legend()\n",
    "plt.grid()\n",
    "plt.xlabel('epoch')\n",
    "plt.ylabel('acc')\n",
    "plt.show()"
   ]
  },
  {
   "cell_type": "code",
   "execution_count": null,
   "metadata": {},
   "outputs": [],
   "source": []
  }
 ],
 "metadata": {
  "kernelspec": {
   "display_name": "Python 3",
   "language": "python",
   "name": "python3"
  },
  "language_info": {
   "codemirror_mode": {
    "name": "ipython",
    "version": 3
   },
   "file_extension": ".py",
   "mimetype": "text/x-python",
   "name": "python",
   "nbconvert_exporter": "python",
   "pygments_lexer": "ipython3",
   "version": "3.8.3"
  }
 },
 "nbformat": 4,
 "nbformat_minor": 4
}

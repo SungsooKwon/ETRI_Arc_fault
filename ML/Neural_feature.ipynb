{
 "cells": [
  {
   "cell_type": "markdown",
   "metadata": {},
   "source": [
    "# Import python library"
   ]
  },
  {
   "cell_type": "code",
   "execution_count": 1,
   "metadata": {},
   "outputs": [
    {
     "name": "stdout",
     "output_type": "stream",
     "text": [
      "Installed tensorflow version:  2.7.0\n"
     ]
    }
   ],
   "source": [
    "import os, shutil\n",
    "import time\n",
    "import math\n",
    "import numpy as np\n",
    "import pandas as pd\n",
    "import matplotlib.pyplot as plt\n",
    "%matplotlib inline\n",
    "from scipy import io, signal\n",
    "from scipy.fftpack import fft, fftshift\n",
    "\n",
    "import tensorflow as tf\n",
    "from tensorflow.keras import models, layers, regularizers, optimizers\n",
    "from tensorflow.keras.callbacks import LearningRateScheduler\n",
    "\n",
    "print(\"Installed tensorflow version: \", tf.__version__)"
   ]
  },
  {
   "cell_type": "markdown",
   "metadata": {},
   "source": [
    "# GPU setting"
   ]
  },
  {
   "cell_type": "code",
   "execution_count": 2,
   "metadata": {},
   "outputs": [
    {
     "data": {
      "text/plain": [
       "'float32'"
      ]
     },
     "execution_count": 2,
     "metadata": {},
     "output_type": "execute_result"
    }
   ],
   "source": [
    "os.environ[\"CUDA_DEVICE_ORDER\"] = \"PCI_BUS_ID\"\n",
    "os.environ[\"CUDA_VISIBLE_DEVICES\"] = \"0\" # GPU unit setting\n",
    "tf.keras.backend.floatx()"
   ]
  },
  {
   "cell_type": "markdown",
   "metadata": {},
   "source": [
    "# Parameters Setting for training"
   ]
  },
  {
   "cell_type": "code",
   "execution_count": 3,
   "metadata": {},
   "outputs": [],
   "source": [
    "### data parameters\n",
    "winT = 18000 # one priod\n",
    "\n",
    "\n",
    "### RMSprop optimizer parameters\n",
    "lr_begin = 1e-3\n",
    "RHO = 0.8\n",
    "\n",
    "### Training parameters \n",
    "MAX_EPOCHS = 80\n",
    "BATCH_SIZE = 128\n",
    "EPOCH_1 = math.ceil(MAX_EPOCHS/2)\n",
    "EPOCH_2 = math.ceil(MAX_EPOCHS*3/4)"
   ]
  },
  {
   "cell_type": "markdown",
   "metadata": {},
   "source": [
    "# Load measured datasets"
   ]
  },
  {
   "cell_type": "code",
   "execution_count": 4,
   "metadata": {},
   "outputs": [
    {
     "name": "stdout",
     "output_type": "stream",
     "text": [
      "[Info.] where am I?\n"
     ]
    },
    {
     "data": {
      "text/plain": [
       "'/home/wkchoi/Arc-Fault'"
      ]
     },
     "execution_count": 4,
     "metadata": {},
     "output_type": "execute_result"
    }
   ],
   "source": [
    "print(\"[Info.] where am I?\")\n",
    "%pwd"
   ]
  },
  {
   "cell_type": "code",
   "execution_count": 5,
   "metadata": {},
   "outputs": [],
   "source": [
    "# Define signal plot function\n",
    "def show_signal_subplot(n_show, data, label, YRNG_MIN=-1, YRNG_MAX=1):\n",
    "    plt.figure(2, figsize=(12, 8))\n",
    "    plt.subplots_adjust(wspace=0.5)\n",
    "    for i in range(n_show):\n",
    "        plt.subplot(5, 10, i + 1)\n",
    "        plt.plot(data[i], color='cornflowerblue')\n",
    "        plt.text(int(data.shape[1]/2), 0, \"%d\" % label[i], fontsize=12, color='r')\n",
    "        plt.xlim(0, data.shape[1])\n",
    "        plt.ylim(YRNG_MIN, YRNG_MAX)\n",
    "        \n",
    "def data_shuffle(data):\n",
    "    s = np.arange(data.shape[0])\n",
    "    np.random.shuffle(s)\n",
    "    \n",
    "    return data[s]\n",
    "    \n",
    "    \n",
    "\n",
    "def gen_one_period_data(file_path, winT):\n",
    "    \n",
    "    ##### load raw data\n",
    "    data_raw = pd.read_excel(file_path, index_col=None, header=None, sheet_name='Sheet1')\n",
    "    data = data_raw.to_numpy() # numpy array\n",
    "    \n",
    "    ##### Data Normalization\n",
    "    data_n = np.zeros((data.shape[0],data.shape[1]))\n",
    "    for i in range(data.shape[1]):\n",
    "        data_n[:,i] = data[:,i]/max(abs(data[:,i]))  \n",
    "    \n",
    "    ##### expand one-period dataset\n",
    "    dT = round(winT / 10)\n",
    "    Num = round((data_n.shape[0] - winT)/dT)\n",
    "    \n",
    "    data_tot = np.zeros((winT,Num*data_n.shape[1]))\n",
    "    index = 0\n",
    "    for i in range(data_n.shape[1]):\n",
    "        for j in range(Num):\n",
    "            index = Num*i+j\n",
    "            data_tot[:,index] = data_n[j*dT:winT+j*dT,i]\n",
    "            \n",
    "    print(\"[Info.] Total re-arranged one-period data shape: \", data_tot.shape)\n",
    "    \n",
    "    return data_tot\n",
    "\n",
    "def merge_one_period_data(winT, *file_paths):\n",
    "    \n",
    "    subArrays = []\n",
    "    for file_path in file_paths:\n",
    "        data = gen_one_period_data(file_path, winT)\n",
    "        subArrays.append(data)\n",
    "                \n",
    "    allArrays = np.concatenate(subArrays, axis=1)\n",
    "    \n",
    "    print(\"[Info.] ==========> Total merged one-period data shape: \", allArrays.shape, \"\\n\")\n",
    "        \n",
    "    return allArrays"
   ]
  },
  {
   "cell_type": "code",
   "execution_count": 6,
   "metadata": {},
   "outputs": [],
   "source": [
    "base_dir = \"/home/wkchoi/Arc-Fault\""
   ]
  },
  {
   "cell_type": "markdown",
   "metadata": {},
   "source": [
    "## 1. Fan dataset"
   ]
  },
  {
   "cell_type": "code",
   "execution_count": 7,
   "metadata": {},
   "outputs": [
    {
     "name": "stdout",
     "output_type": "stream",
     "text": [
      "[Info.] Total re-arranged one-period data shape:  (18000, 1480)\n",
      "[Info.] Total re-arranged one-period data shape:  (18000, 1560)\n",
      "[Info.] Total re-arranged one-period data shape:  (18000, 80)\n",
      "[Info.] Total re-arranged one-period data shape:  (18000, 600)\n",
      "[Info.] Total re-arranged one-period data shape:  (18000, 2000)\n",
      "[Info.] Total re-arranged one-period data shape:  (18000, 1880)\n",
      "[Info.] ==========> Total merged one-period data shape:  (18000, 7600) \n",
      "\n",
      "[Info.] Total re-arranged one-period data shape:  (18000, 2000)\n",
      "[Info.] Total re-arranged one-period data shape:  (18000, 2000)\n",
      "[Info.] Total re-arranged one-period data shape:  (18000, 2000)\n",
      "[Info.] Total re-arranged one-period data shape:  (18000, 2160)\n",
      "[Info.] ==========> Total merged one-period data shape:  (18000, 8160) \n",
      "\n"
     ]
    }
   ],
   "source": [
    "### Fan arc raw dataset\n",
    "file_path1 = os.path.join(base_dir, \"Fan/arc/Fan_1_arc_humid_44(c61)_data.xlsx\")\n",
    "file_path2 = os.path.join(base_dir, \"Fan/arc/Fan_2_arc_humid_45_data.xlsx\")\n",
    "file_path3 = os.path.join(base_dir, \"Fan/arc/Fan_1_arc_humid_34(c14)_c2_data.xlsx\")\n",
    "file_path4 = os.path.join(base_dir, \"Fan/arc/Fan_2_arc_humid_34(c23)_c15_data.xlsx\")\n",
    "file_path5 = os.path.join(base_dir, \"Fan/arc/fan_1_arc_data.xlsx\")\n",
    "file_path6 = os.path.join(base_dir, \"Fan/arc/fan_2_arc(c57)_data.xlsx\")\n",
    "file_paths = [file_path1, file_path2, file_path3, file_path4, file_path5, file_path6]\n",
    "fan_arc = merge_one_period_data(winT, *file_paths)\n",
    "\n",
    "##### Fan normal raw dataset\n",
    "file_path1 = os.path.join(base_dir, \"Fan/normal/Fan_1_normal_humid_room_data.xlsx\")\n",
    "file_path2 = os.path.join(base_dir, \"Fan/normal/Fan_2_normal_humid_50_data.xlsx\")\n",
    "file_path3 = os.path.join(base_dir, \"Fan/normal/fan_1_normal_data.xlsx\")\n",
    "file_path4 = os.path.join(base_dir, \"Fan/normal/fan_2_normal(c54)_data.xlsx\")\n",
    "file_paths = [file_path1, file_path2, file_path3, file_path4]\n",
    "fan_normal = merge_one_period_data(winT, *file_paths)\n",
    "\n",
    "#### Fan Data shuffle\n",
    "fan_arc_1 = data_shuffle(fan_arc.T)\n",
    "fan_arc_2 = fan_arc_1.T[:,:]\n",
    "\n",
    "fan_normal_1 = data_shuffle(fan_normal.T)\n",
    "fan_normal_2 = fan_normal_1.T[:,:]"
   ]
  },
  {
   "cell_type": "markdown",
   "metadata": {},
   "source": [
    "## 2. Fluor dataset"
   ]
  },
  {
   "cell_type": "code",
   "execution_count": 8,
   "metadata": {},
   "outputs": [
    {
     "name": "stdout",
     "output_type": "stream",
     "text": [
      "[Info.] Total re-arranged one-period data shape:  (18000, 3160)\n",
      "[Info.] Total re-arranged one-period data shape:  (18000, 360)\n",
      "[Info.] Total re-arranged one-period data shape:  (18000, 2600)\n",
      "[Info.] Total re-arranged one-period data shape:  (18000, 1800)\n",
      "[Info.] ==========> Total merged one-period data shape:  (18000, 7920) \n",
      "\n",
      "[Info.] Total re-arranged one-period data shape:  (18000, 2000)\n",
      "[Info.] Total re-arranged one-period data shape:  (18000, 2000)\n",
      "[Info.] Total re-arranged one-period data shape:  (18000, 1480)\n",
      "[Info.] ==========> Total merged one-period data shape:  (18000, 5480) \n",
      "\n"
     ]
    }
   ],
   "source": [
    "### Fluor arc raw dataset\n",
    "file_path1 = os.path.join(base_dir, \"Fluor/arc/Fluor_1_arc_humid_40(c79)_data.xlsx\")\n",
    "file_path2 = os.path.join(base_dir, \"Fluor/arc/Fluor_1_arc_humid_50(weird)_data.xlsx\")\n",
    "file_path3 = os.path.join(base_dir, \"Fluor/arc/Fluor_2_arc_humid_40(c65)_data.xlsx\")\n",
    "file_path4 = os.path.join(base_dir, \"Fluor/arc/Fluor_2_arc_humid_23(c51)_data(c45).xlsx\")\n",
    "file_paths = [file_path1, file_path2, file_path3, file_path4]\n",
    "fluor_arc = merge_one_period_data(winT, *file_paths)\n",
    "\n",
    "##### Fluor normal raw dataset\n",
    "file_path1 = os.path.join(base_dir, \"Fluor/normal/Fluor_1_normal_humid_room_data.xlsx\")\n",
    "file_path2 = os.path.join(base_dir, \"Fluor/normal/Fluor_2_normal_humid_34_data.xlsx\")\n",
    "file_path3 = os.path.join(base_dir, \"Fluor/normal/Fluor_2_normal(c37)_data.xlsx\")\n",
    "file_paths = [file_path1, file_path2, file_path3]\n",
    "fluor_normal = merge_one_period_data(winT, *file_paths)\n",
    "\n",
    "#### Fluor Data shuffle\n",
    "fluor_arc_1 = data_shuffle(fluor_arc.T)\n",
    "fluor_arc_2 = fluor_arc_1.T[:,:]\n",
    "\n",
    "fluor_normal_1 = data_shuffle(fluor_normal.T)\n",
    "fluor_normal_2 = fluor_normal_1.T[:,:]"
   ]
  },
  {
   "cell_type": "markdown",
   "metadata": {},
   "source": [
    "## 3. Heat dataset\n"
   ]
  },
  {
   "cell_type": "code",
   "execution_count": 9,
   "metadata": {},
   "outputs": [
    {
     "name": "stdout",
     "output_type": "stream",
     "text": [
      "[Info.] Total re-arranged one-period data shape:  (18000, 2240)\n",
      "[Info.] Total re-arranged one-period data shape:  (18000, 2000)\n",
      "[Info.] Total re-arranged one-period data shape:  (18000, 2000)\n",
      "[Info.] Total re-arranged one-period data shape:  (18000, 1080)\n",
      "[Info.] ==========> Total merged one-period data shape:  (18000, 7320) \n",
      "\n",
      "[Info.] Total re-arranged one-period data shape:  (18000, 2000)\n",
      "[Info.] Total re-arranged one-period data shape:  (18000, 2000)\n",
      "[Info.] ==========> Total merged one-period data shape:  (18000, 4000) \n",
      "\n"
     ]
    }
   ],
   "source": [
    "### Heat arc raw dataset\n",
    "file_path1 = os.path.join(base_dir, \"Heat/arc/Heat_1_arc_humid_40(c56)_data.xlsx\")\n",
    "file_path2 = os.path.join(base_dir, \"Heat/arc/Heat_1_arc_humid_50_data.xlsx\")\n",
    "file_path3 = os.path.join(base_dir, \"Heat/arc/Heat_2_arc_humid_40_data.xlsx\")\n",
    "file_path4 = os.path.join(base_dir, \"Heat/arc/Heater_2_arc_humid_34(c27)_data.xlsx\")\n",
    "file_paths = [file_path1, file_path2, file_path3, file_path4]\n",
    "heat_arc = merge_one_period_data(winT, *file_paths)\n",
    "\n",
    "##### Heat normal raw dataset\n",
    "file_path1 = os.path.join(base_dir, \"Heat/normal/Heat_1_normal_humid_room_data.xlsx\")\n",
    "file_path2 = os.path.join(base_dir, \"Heat/normal/Heat_2_normal_humid_40_data.xlsx\")\n",
    "file_paths = [file_path1, file_path2]\n",
    "heat_normal = merge_one_period_data(winT, *file_paths)\n",
    "\n",
    "### Heat Data Shuffle\n",
    "heat_arc_1 = data_shuffle(heat_arc.T)\n",
    "heat_arc_2 = heat_arc_1.T[:,:]\n",
    "\n",
    "heat_normal_1 = data_shuffle(heat_normal.T)\n",
    "heat_normal_2 = heat_normal_1.T[:,:]"
   ]
  },
  {
   "cell_type": "markdown",
   "metadata": {},
   "source": [
    "## 4. Incan dataset"
   ]
  },
  {
   "cell_type": "code",
   "execution_count": 10,
   "metadata": {},
   "outputs": [
    {
     "name": "stdout",
     "output_type": "stream",
     "text": [
      "[Info.] Total re-arranged one-period data shape:  (18000, 1880)\n",
      "[Info.] Total re-arranged one-period data shape:  (18000, 2000)\n",
      "[Info.] Total re-arranged one-period data shape:  (18000, 2400)\n",
      "[Info.] Total re-arranged one-period data shape:  (18000, 2400)\n",
      "[Info.] Total re-arranged one-period data shape:  (18000, 1640)\n",
      "[Info.] Total re-arranged one-period data shape:  (18000, 2400)\n",
      "[Info.] Total re-arranged one-period data shape:  (18000, 880)\n",
      "[Info.] Total re-arranged one-period data shape:  (18000, 2120)\n",
      "[Info.] ==========> Total merged one-period data shape:  (18000, 15720) \n",
      "\n",
      "[Info.] Total re-arranged one-period data shape:  (18000, 2000)\n",
      "[Info.] Total re-arranged one-period data shape:  (18000, 2000)\n",
      "[Info.] ==========> Total merged one-period data shape:  (18000, 4000) \n",
      "\n"
     ]
    }
   ],
   "source": [
    "### Incan arc raw dataset\n",
    "file_path1 = os.path.join(base_dir, \"incan/arc/incan_1_arc_humid_room_data.xlsx\")\n",
    "file_path2 = os.path.join(base_dir, \"incan/arc/incan_2_arc_44_data.xlsx\")\n",
    "file_path3 = os.path.join(base_dir, \"incan/arc/Incan_2_arc_humid_40(c60)_data.xlsx\")\n",
    "file_path4 = os.path.join(base_dir, \"incan/arc/Incan_2_arc_humid_40(c61-c120)_data.xlsx\")\n",
    "file_path5 = os.path.join(base_dir, \"incan/arc/Incan_2_arc_humid_40(c121-c161)_data.xlsx\")\n",
    "file_path6 = os.path.join(base_dir, \"incan/arc/Incan_2_arc_humid_95(c60)_data.xlsx\")\n",
    "file_path7 = os.path.join(base_dir, \"incan/arc/Incan_2_arc_humid_95(c61-c82)_data.xlsx\")\n",
    "file_path8 = os.path.join(base_dir, \"incan/arc/Incan_2_arc_humid_room(after humid95)(c53)_data.xlsx\")\n",
    "file_paths = [file_path1, file_path2, file_path3, file_path4, file_path5, file_path6,\n",
    "             file_path7, file_path8]\n",
    "incan_arc = merge_one_period_data(winT, *file_paths)\n",
    "\n",
    "##### Incan normal raw dataset\n",
    "file_path1 = os.path.join(base_dir, \"incan/normal/incan_1_normal_humid_room_data.xlsx\")\n",
    "file_path2 = os.path.join(base_dir, \"incan/normal/incan_2_normal_humid_room_data.xlsx\")\n",
    "file_paths = [file_path1, file_path2]\n",
    "incan_normal = merge_one_period_data(winT, *file_paths)\n",
    "\n",
    "### Incan Data Shuffle\n",
    "incan_arc_1 = data_shuffle(incan_arc.T)\n",
    "incan_arc_2 = incan_arc_1.T[:,:]\n",
    "\n",
    "incan_normal_1 = data_shuffle(incan_normal.T)\n",
    "incan_normal_2 = incan_normal_1.T[:,:]"
   ]
  },
  {
   "cell_type": "markdown",
   "metadata": {},
   "source": [
    "## 5. Led dataset"
   ]
  },
  {
   "cell_type": "code",
   "execution_count": 11,
   "metadata": {},
   "outputs": [
    {
     "name": "stdout",
     "output_type": "stream",
     "text": [
      "[Info.] Total re-arranged one-period data shape:  (18000, 1160)\n",
      "[Info.] Total re-arranged one-period data shape:  (18000, 760)\n",
      "[Info.] Total re-arranged one-period data shape:  (18000, 1360)\n",
      "[Info.] Total re-arranged one-period data shape:  (18000, 1600)\n",
      "[Info.] Total re-arranged one-period data shape:  (18000, 1800)\n",
      "[Info.] Total re-arranged one-period data shape:  (18000, 1920)\n",
      "[Info.] ==========> Total merged one-period data shape:  (18000, 8600) \n",
      "\n",
      "[Info.] Total re-arranged one-period data shape:  (18000, 1440)\n",
      "[Info.] Total re-arranged one-period data shape:  (18000, 2000)\n",
      "[Info.] Total re-arranged one-period data shape:  (18000, 1280)\n",
      "[Info.] Total re-arranged one-period data shape:  (18000, 1600)\n",
      "[Info.] Total re-arranged one-period data shape:  (18000, 120)\n",
      "[Info.] ==========> Total merged one-period data shape:  (18000, 6440) \n",
      "\n"
     ]
    }
   ],
   "source": [
    "### LED arc raw dataset\n",
    "file_path1 = os.path.join(base_dir, \"Led/arc/led_1_arc_humid_23_c(30)_data(c29).xlsx\")\n",
    "file_path2 = os.path.join(base_dir, \"Led/arc/LED_1_arc(c19)_data.xlsx\")\n",
    "file_path3 = os.path.join(base_dir, \"Led/arc/LED_2_arc(c34)_data.xlsx\")\n",
    "file_path4 = os.path.join(base_dir, \"Led/arc/led_1_arc(c43)_data.xlsx\")\n",
    "file_path5 = os.path.join(base_dir, \"Led/arc/led_1_arc(c50)_data.xlsx\")\n",
    "file_path6 = os.path.join(base_dir, \"Led/arc/led_2_arc(c56)_data.xlsx\")\n",
    "file_paths = [file_path1, file_path2, file_path3, file_path4, file_path5, file_path6]\n",
    "led_arc = merge_one_period_data(winT, *file_paths)\n",
    "\n",
    "##### LED normal raw dataset\n",
    "file_path1 = os.path.join(base_dir, \"Led/normal/led_1_normal_c(36)_data.xlsx\")\n",
    "file_path2 = os.path.join(base_dir, \"Led/normal/led_1_normal_humid_room_data.xlsx\")\n",
    "file_path3 = os.path.join(base_dir, \"Led/normal/led_2_normal_c(32)_data.xlsx\")\n",
    "file_path4 = os.path.join(base_dir, \"Led/normal/LED_2_normal(c40)_data.xlsx\")\n",
    "file_path5 = os.path.join(base_dir, \"Led/normal/led_1_normal(c3)_data.xlsx\")\n",
    "file_paths = [file_path1, file_path2, file_path3, file_path4, file_path5]\n",
    "led_normal = merge_one_period_data(winT, *file_paths)\n",
    "\n",
    "### LED Data Shuffle\n",
    "led_arc_1 = data_shuffle(led_arc.T)\n",
    "led_arc_2 = led_arc_1.T[:,:]\n",
    "\n",
    "led_normal_1 = data_shuffle(led_normal.T)\n",
    "led_normal_2 = led_normal_1.T[:,:]"
   ]
  },
  {
   "cell_type": "code",
   "execution_count": 12,
   "metadata": {},
   "outputs": [
    {
     "name": "stdout",
     "output_type": "stream",
     "text": [
      "------Fan------\n",
      "(18000, 7600)\n",
      "(18000, 8160)\n",
      "(18000, 7600)\n",
      "(18000, 7600)\n",
      "------Fluor------\n",
      "(18000, 7920)\n",
      "(18000, 5480)\n",
      "(18000, 5480)\n",
      "(18000, 5480)\n",
      "------Heat------\n",
      "(18000, 7320)\n",
      "(18000, 4000)\n",
      "(18000, 4000)\n",
      "(18000, 4000)\n",
      "------Incan------\n",
      "(18000, 15720)\n",
      "(18000, 4000)\n",
      "(18000, 4000)\n",
      "(18000, 4000)\n",
      "------Led------\n",
      "(18000, 8600)\n",
      "(18000, 6440)\n",
      "(18000, 6440)\n",
      "(18000, 6440)\n"
     ]
    }
   ],
   "source": [
    "# 데이터 불균형으로 데이터를 자름 (oversampling 또는 다른 방법 필요)\n",
    "print('------Fan------')\n",
    "print(fan_arc_2.shape)\n",
    "print(fan_normal_2.shape)\n",
    "fan_normal_2 = fan_normal_1.T[:,:7600]\n",
    "print(fan_arc_2.shape)\n",
    "print(fan_normal_2.shape)\n",
    "\n",
    "print('------Fluor------')\n",
    "print(fluor_arc_2.shape)\n",
    "print(fluor_normal_2.shape)\n",
    "fluor_arc_2 = fluor_arc_1.T[:,:5480]\n",
    "print(fluor_arc_2.shape)\n",
    "print(fluor_normal_2.shape)\n",
    "\n",
    "print('------Heat------')\n",
    "print(heat_arc_2.shape)\n",
    "print(heat_normal_2.shape)\n",
    "heat_arc_2 = heat_arc_1.T[:,:4000]\n",
    "print(heat_arc_2.shape)\n",
    "print(heat_normal_2.shape)\n",
    "\n",
    "print('------Incan------')\n",
    "print(incan_arc_2.shape)\n",
    "print(incan_normal_2.shape)\n",
    "incan_arc_2 = incan_arc_1.T[:,:4000]\n",
    "print(incan_arc_2.shape)\n",
    "print(incan_normal_2.shape)\n",
    "\n",
    "print('------Led------')\n",
    "print(led_arc_2.shape)\n",
    "print(led_normal_2.shape)\n",
    "led_arc_2 = led_arc_1.T[:,:6440]\n",
    "print(led_arc_2.shape)\n",
    "print(led_normal_2.shape)"
   ]
  },
  {
   "cell_type": "markdown",
   "metadata": {},
   "source": [
    "# Feature Extraction"
   ]
  },
  {
   "cell_type": "code",
   "execution_count": 13,
   "metadata": {},
   "outputs": [],
   "source": [
    "# 특성추출을 위한 함수 작성 ( 변수이름, 데이터 크기)\n",
    "def create_feature(x, y):\n",
    "    feature = np.zeros(shape=(39,y))\n",
    "    mean_val = np.zeros((10, y))\n",
    "    std_val = np.zeros((10, y))\n",
    "    Pole_diff = np.zeros((10, y))\n",
    "    Avg_diff = np.zeros((9, y))\n",
    "\n",
    "    for i in range(y):\n",
    "        sig = x[:, i]\n",
    "        win = round(x.shape[0]/10)\n",
    "        for j in range(10):\n",
    "            tmp = x[int(j * win) : int((j + 1) * win)]\n",
    "            mean_val[j] = np.mean(tmp[j],axis=0)\n",
    "            std_val[j] = np.std(tmp[j])\n",
    "            Pole_diff[j] = np.max(tmp[j]) - np.min(tmp[j])\n",
    "        for z in range(9):\n",
    "            Avg_diff[z] = np.mean(tmp[z], axis=0) - np.mean(tmp[z+1],axis=0)\n",
    "        \n",
    "    feature = np.concatenate((mean_val, std_val, Pole_diff, Avg_diff), axis =0)\n",
    "    return feature"
   ]
  },
  {
   "cell_type": "code",
   "execution_count": 14,
   "metadata": {},
   "outputs": [],
   "source": [
    "# 5종류 Arc / Normal 특성추출\n",
    "fan_arc = create_feature(fan_arc_2, 7600)\n",
    "fan_normal = create_feature(fan_normal_2, 7600)\n",
    "fluor_arc = create_feature(fluor_arc_2, 5480)\n",
    "fluor_normal = create_feature(fluor_normal_2, 5480)\n",
    "heat_arc = create_feature(heat_arc_2, 4000)\n",
    "heat_normal = create_feature(heat_normal_2, 4000)\n",
    "incan_arc = create_feature(incan_arc_2, 4000)\n",
    "incan_normal = create_feature(incan_normal_2, 4000)\n",
    "led_arc = create_feature(led_arc_2, 6440)\n",
    "led_normal = create_feature(led_normal_2, 6440)\n"
   ]
  },
  {
   "cell_type": "code",
   "execution_count": 15,
   "metadata": {},
   "outputs": [
    {
     "name": "stdout",
     "output_type": "stream",
     "text": [
      "------Fan------\n",
      "(39, 7600)\n",
      "(39, 7600)\n",
      "------Fluor------\n",
      "(39, 5480)\n",
      "(39, 5480)\n",
      "------Heat------\n",
      "(39, 4000)\n",
      "(39, 4000)\n",
      "------Incan------\n",
      "(39, 4000)\n",
      "(39, 4000)\n",
      "------Led------\n",
      "(39, 6440)\n",
      "(39, 6440)\n"
     ]
    }
   ],
   "source": [
    "# 특성추출한 데이터 크기 확인\n",
    "print('------Fan------')\n",
    "print(fan_arc.shape)\n",
    "print(fan_normal.shape)\n",
    "\n",
    "print('------Fluor------')\n",
    "print(fluor_arc.shape)\n",
    "print(fluor_normal.shape)\n",
    "\n",
    "print('------Heat------')\n",
    "print(heat_arc.shape)\n",
    "print(heat_normal.shape)\n",
    "\n",
    "\n",
    "print('------Incan------')\n",
    "print(incan_arc.shape)\n",
    "print(incan_normal.shape)\n",
    "\n",
    "print('------Led------')\n",
    "print(led_arc.shape)\n",
    "print(led_normal.shape)"
   ]
  },
  {
   "cell_type": "markdown",
   "metadata": {},
   "source": [
    "# Data Labeling"
   ]
  },
  {
   "cell_type": "code",
   "execution_count": 16,
   "metadata": {},
   "outputs": [],
   "source": [
    "##### Fan Labeling\n",
    "norm_fan_label = np.zeros(fan_normal.shape[1]) # label 0\n",
    "arc_fan_label = np.ones(fan_arc.shape[1])  # label 1\n",
    "\n",
    "##### Fluor Labeling\n",
    "norm_fluor_label = 2*np.ones(fluor_normal.shape[1]) # label 2\n",
    "arc_fluor_label = 3*np.ones(fluor_arc.shape[1])  # label 3\n",
    "\n",
    "##### Heat Labeling\n",
    "norm_heat_label = 4*np.ones(heat_normal.shape[1]) # label 4\n",
    "arc_heat_label = 5*np.ones(heat_arc.shape[1])  # label 5\n",
    "\n",
    "##### Incan Labeling\n",
    "norm_incan_label = 6*np.ones(incan_normal.shape[1]) # label 6\n",
    "arc_incan_label = 7*np.ones(incan_arc.shape[1])  # label 7\n",
    "\n",
    "##### LED Labeling\n",
    "norm_led_label = 8*np.ones(led_normal.shape[1]) # label 8\n",
    "arc_led_label = 9*np.ones(led_arc.shape[1])  # label 9"
   ]
  },
  {
   "cell_type": "markdown",
   "metadata": {},
   "source": [
    "# Data Shuffling"
   ]
  },
  {
   "cell_type": "code",
   "execution_count": 17,
   "metadata": {
    "scrolled": true
   },
   "outputs": [
    {
     "name": "stdout",
     "output_type": "stream",
     "text": [
      "[Info.] Total dataset shape:  (55040, 39)\n"
     ]
    }
   ],
   "source": [
    "##### Prepare full datasets for training\n",
    "Train_raw = np.concatenate((fan_normal.T, fan_arc.T, fluor_normal.T, fluor_arc.T,\n",
    "                           heat_normal.T, heat_arc.T, incan_normal.T, incan_arc.T, \n",
    "                           led_normal.T, led_arc.T), axis=0)\n",
    "Train_label = np.concatenate((norm_fan_label, arc_fan_label, norm_fluor_label, arc_fluor_label,\n",
    "                             norm_heat_label, arc_heat_label, norm_incan_label, arc_incan_label,\n",
    "                             norm_led_label, arc_led_label))\n",
    "print('[Info.] Total dataset shape: ', Train_raw.shape)"
   ]
  },
  {
   "cell_type": "code",
   "execution_count": 18,
   "metadata": {
    "scrolled": true
   },
   "outputs": [
    {
     "data": {
      "text/plain": [
       "55040"
      ]
     },
     "execution_count": 18,
     "metadata": {},
     "output_type": "execute_result"
    }
   ],
   "source": [
    "len(Train_raw)"
   ]
  },
  {
   "cell_type": "code",
   "execution_count": 19,
   "metadata": {},
   "outputs": [
    {
     "data": {
      "text/plain": [
       "array([[-1.09684897e-02,  8.70759770e-03,  2.16881818e-02, ...,\n",
       "        -1.99582217e-04,  2.33139855e-06,  5.02625853e-05],\n",
       "       [-1.09684897e-02,  8.70759770e-03,  2.16881818e-02, ...,\n",
       "        -1.99582217e-04,  2.33139855e-06,  5.02625853e-05],\n",
       "       [-1.09684897e-02,  8.70759770e-03,  2.16881818e-02, ...,\n",
       "        -1.99582217e-04,  2.33139855e-06,  5.02625853e-05],\n",
       "       ...,\n",
       "       [-1.99263007e-02, -2.04961538e-02, -1.87894740e-02, ...,\n",
       "         2.98052348e-04,  2.95769635e-04,  5.08737901e-04],\n",
       "       [-1.99263007e-02, -2.04961538e-02, -1.87894740e-02, ...,\n",
       "         2.98052348e-04,  2.95769635e-04,  5.08737901e-04],\n",
       "       [-1.99263007e-02, -2.04961538e-02, -1.87894740e-02, ...,\n",
       "         2.98052348e-04,  2.95769635e-04,  5.08737901e-04]])"
      ]
     },
     "execution_count": 19,
     "metadata": {},
     "output_type": "execute_result"
    }
   ],
   "source": [
    "Train_raw"
   ]
  },
  {
   "cell_type": "code",
   "execution_count": 20,
   "metadata": {},
   "outputs": [
    {
     "name": "stdout",
     "output_type": "stream",
     "text": [
      "===> Display label numbers after data shuffling: \n",
      " [1. 4. 9. 5. 2. 4. 9. 7. 4. 3. 0. 7. 0. 5. 0. 1. 1. 1. 7. 4. 9. 9. 4. 3.\n",
      " 9. 8. 5. 0. 5. 6. 3. 7. 1. 9. 1. 9. 0. 7. 7. 7. 4. 9. 9. 8. 0. 0. 4. 1.\n",
      " 9. 2. 2. 3. 0. 2. 3. 3. 9. 8. 8. 2. 2. 5. 8. 2. 9. 2. 9. 7. 1. 0. 3. 5.\n",
      " 0. 0. 6. 9. 3. 1. 9. 0. 6. 8. 5. 2. 9. 9. 9. 4. 4. 1. 2. 1. 1. 5. 3. 4.\n",
      " 9. 2. 0. 2.]\n"
     ]
    }
   ],
   "source": [
    "# s라는 배열에 data의 인덱스를 넣고 섞은 뒤 data와 data_label 배열에 대입.(train)\n",
    "s = np.arange(Train_raw.shape[0])\n",
    "np.random.shuffle(s)\n",
    "\n",
    "data_tr = Train_raw[s]\n",
    "data_tr_label = Train_label[s]\n",
    "print(\"===> Display label numbers after data shuffling:\", \"\\n\", data_tr_label[0:100])"
   ]
  },
  {
   "cell_type": "markdown",
   "metadata": {},
   "source": [
    "# Construct Train and Testing dataset\n"
   ]
  },
  {
   "cell_type": "code",
   "execution_count": 22,
   "metadata": {},
   "outputs": [
    {
     "name": "stdout",
     "output_type": "stream",
     "text": [
      "[Info.] Number of training dataset:  44032\n",
      "[Info.] Number of test dataset:  11008\n",
      "(44032, 39)\n",
      "(11008, 39)\n",
      "(44032,)\n",
      "(11008,)\n"
     ]
    }
   ],
   "source": [
    "SPL_RATIO = 0.8 \n",
    "index = round(data_tr.shape[0]*SPL_RATIO)\n",
    "\n",
    "### train 데이터와 test 데이터로 분리\n",
    "train_X, train_Y = data_tr[:index], data_tr_label[:index]\n",
    "test_X, test_Y = data_tr[index:], data_tr_label[index:]\n",
    "print('[Info.] Number of training dataset: ', len(train_X))\n",
    "print('[Info.] Number of test dataset: ', len(test_X))\n",
    "\n",
    "### Save trainind and test datasets and labels\n",
    "dataset_dir = './TrTedata'\n",
    "if os.path.exists(dataset_dir):  # 반복적인 실행을 위해 디렉토리를 삭제\n",
    "    shutil.rmtree(dataset_dir)   \n",
    "os.mkdir(dataset_dir)\n",
    "\n",
    "# training\n",
    "train_X_dir = os.path.join(dataset_dir, 'train_X.npy')\n",
    "np.save(train_X_dir, train_X)\n",
    "\n",
    "train_Y_dir = os.path.join(dataset_dir, 'train_Y.npy')\n",
    "np.save(train_Y_dir, train_Y)\n",
    "\n",
    "# test\n",
    "test_X_dir = os.path.join(dataset_dir, 'test_X.npy')\n",
    "np.save(test_X_dir, test_X)\n",
    "\n",
    "test_Y_dir = os.path.join(dataset_dir, 'test_Y.npy')\n",
    "np.save(test_Y_dir, test_Y)\n",
    "\n",
    "print(train_X.shape)\n",
    "print(test_X.shape)\n",
    "print(train_Y.shape)\n",
    "print(test_Y.shape)"
   ]
  },
  {
   "cell_type": "code",
   "execution_count": 23,
   "metadata": {},
   "outputs": [
    {
     "name": "stdout",
     "output_type": "stream",
     "text": [
      "[Info.] x_train numpy shape:  (44032, 39, 1)\n",
      "[Info.] x_test numpy shape:  (11008, 39, 1)\n",
      "[Info.] y_train numpy shape:  (44032,)\n",
      "[Info.] y_test numpy shape:  (11008,)\n"
     ]
    }
   ],
   "source": [
    "### Training and test datasets\n",
    "x_train = np.reshape(train_X, (len(train_X),train_X.shape[1],1))\n",
    "x_test = np.reshape(test_X, (len(test_X),train_X.shape[1],1))\n",
    "\n",
    "### Training and test labeling\n",
    "y_train = np.asarray(train_Y).astype('float32')\n",
    "y_test = np.asarray(test_Y).astype('float32')\n",
    "\n",
    "print('[Info.] x_train numpy shape: ', x_train.shape)\n",
    "print('[Info.] x_test numpy shape: ', x_test.shape)\n",
    "print('[Info.] y_train numpy shape: ', y_train.shape)\n",
    "print('[Info.] y_test numpy shape: ', y_test.shape)"
   ]
  },
  {
   "cell_type": "code",
   "execution_count": 24,
   "metadata": {
    "scrolled": false
   },
   "outputs": [
    {
     "name": "stdout",
     "output_type": "stream",
     "text": [
      "(44032, 39, 1)\n",
      "(11008, 39, 1)\n",
      "(44032,)\n",
      "(11008,)\n"
     ]
    }
   ],
   "source": [
    "\n",
    "print(x_train.shape)\n",
    "print(x_test.shape)\n",
    "print(y_train.shape)\n",
    "print(y_test.shape)"
   ]
  },
  {
   "cell_type": "code",
   "execution_count": 25,
   "metadata": {},
   "outputs": [
    {
     "name": "stdout",
     "output_type": "stream",
     "text": [
      "(44032, 39, 1)\n",
      "(11008, 39, 1)\n",
      "(44032,)\n",
      "(11008,)\n"
     ]
    }
   ],
   "source": [
    "print(x_train.shape)\n",
    "print(x_test.shape)\n",
    "print(y_train.shape)\n",
    "print(y_test.shape)"
   ]
  },
  {
   "cell_type": "markdown",
   "metadata": {},
   "source": [
    "#  Model"
   ]
  },
  {
   "cell_type": "code",
   "execution_count": 85,
   "metadata": {},
   "outputs": [
    {
     "name": "stdout",
     "output_type": "stream",
     "text": [
      "Model: \"sequential_19\"\n",
      "_________________________________________________________________\n",
      " Layer (type)                Output Shape              Param #   \n",
      "=================================================================\n",
      " dense_48 (Dense)            (None, 32)                1280      \n",
      "                                                                 \n",
      " dense_49 (Dense)            (None, 16)                528       \n",
      "                                                                 \n",
      "=================================================================\n",
      "Total params: 1,808\n",
      "Trainable params: 1,808\n",
      "Non-trainable params: 0\n",
      "_________________________________________________________________\n"
     ]
    }
   ],
   "source": [
    "model = models.Sequential()\n",
    "model.add(layers.Dense(32,  input_shape=(x_train.shape[1],), activation='relu'))\n",
    "model.add(layers.Dense(16, activation='softmax'))\n",
    "model.summary()"
   ]
  },
  {
   "cell_type": "code",
   "execution_count": 86,
   "metadata": {},
   "outputs": [],
   "source": [
    "model.compile(loss='sparse_categorical_crossentropy',\n",
    "              optimizer='adam',\n",
    "              metrics=['accuracy']) # (D)"
   ]
  },
  {
   "cell_type": "code",
   "execution_count": 87,
   "metadata": {},
   "outputs": [
    {
     "name": "stdout",
     "output_type": "stream",
     "text": [
      "Epoch 1/20\n",
      "1468/1468 [==============================] - 2s 1ms/step - loss: 1.6051 - accuracy: 0.5102 - val_loss: 1.0046 - val_accuracy: 0.8562\n",
      "Epoch 2/20\n",
      "1468/1468 [==============================] - 2s 1ms/step - loss: 0.7262 - accuracy: 0.8455 - val_loss: 0.5046 - val_accuracy: 0.8562\n",
      "Epoch 3/20\n",
      "1468/1468 [==============================] - 2s 1ms/step - loss: 0.3820 - accuracy: 0.9145 - val_loss: 0.2730 - val_accuracy: 0.9275\n",
      "Epoch 4/20\n",
      "1468/1468 [==============================] - 2s 1ms/step - loss: 0.2036 - accuracy: 0.9887 - val_loss: 0.1431 - val_accuracy: 1.0000\n",
      "Epoch 5/20\n",
      "1468/1468 [==============================] - 2s 1ms/step - loss: 0.1061 - accuracy: 1.0000 - val_loss: 0.0739 - val_accuracy: 1.0000\n",
      "Epoch 6/20\n",
      "1468/1468 [==============================] - 2s 1ms/step - loss: 0.0548 - accuracy: 1.0000 - val_loss: 0.0374 - val_accuracy: 1.0000\n",
      "Epoch 7/20\n",
      "1468/1468 [==============================] - 2s 1ms/step - loss: 0.0275 - accuracy: 1.0000 - val_loss: 0.0189 - val_accuracy: 1.0000\n",
      "Epoch 8/20\n",
      "1468/1468 [==============================] - 2s 1ms/step - loss: 0.0135 - accuracy: 1.0000 - val_loss: 0.0090 - val_accuracy: 1.0000\n",
      "Epoch 9/20\n",
      "1468/1468 [==============================] - 2s 1ms/step - loss: 0.0065 - accuracy: 1.0000 - val_loss: 0.0044 - val_accuracy: 1.0000\n",
      "Epoch 10/20\n",
      "1468/1468 [==============================] - 2s 1ms/step - loss: 0.0031 - accuracy: 1.0000 - val_loss: 0.0021 - val_accuracy: 1.0000\n",
      "Epoch 11/20\n",
      "1468/1468 [==============================] - 2s 1ms/step - loss: 0.0015 - accuracy: 1.0000 - val_loss: 9.8455e-04 - val_accuracy: 1.0000\n",
      "Epoch 12/20\n",
      "1468/1468 [==============================] - 2s 1ms/step - loss: 7.0748e-04 - accuracy: 1.0000 - val_loss: 4.7392e-04 - val_accuracy: 1.0000\n",
      "Epoch 13/20\n",
      "1468/1468 [==============================] - 2s 1ms/step - loss: 3.3487e-04 - accuracy: 1.0000 - val_loss: 2.2166e-04 - val_accuracy: 1.0000\n",
      "Epoch 14/20\n",
      "1468/1468 [==============================] - 2s 1ms/step - loss: 1.5934e-04 - accuracy: 1.0000 - val_loss: 1.0598e-04 - val_accuracy: 1.0000\n",
      "Epoch 15/20\n",
      "1468/1468 [==============================] - 2s 1ms/step - loss: 7.5269e-05 - accuracy: 1.0000 - val_loss: 5.0571e-05 - val_accuracy: 1.0000\n",
      "Epoch 16/20\n",
      "1468/1468 [==============================] - 2s 1ms/step - loss: 3.5945e-05 - accuracy: 1.0000 - val_loss: 2.4373e-05 - val_accuracy: 1.0000\n",
      "Epoch 17/20\n",
      "1468/1468 [==============================] - 2s 1ms/step - loss: 1.7210e-05 - accuracy: 1.0000 - val_loss: 1.1457e-05 - val_accuracy: 1.0000\n",
      "Epoch 18/20\n",
      "1468/1468 [==============================] - 2s 1ms/step - loss: 8.3206e-06 - accuracy: 1.0000 - val_loss: 5.6338e-06 - val_accuracy: 1.0000\n",
      "Epoch 19/20\n",
      "1468/1468 [==============================] - 2s 1ms/step - loss: 4.0822e-06 - accuracy: 1.0000 - val_loss: 2.8175e-06 - val_accuracy: 1.0000\n",
      "Epoch 20/20\n",
      "1468/1468 [==============================] - 1s 1ms/step - loss: 2.0598e-06 - accuracy: 1.0000 - val_loss: 1.4341e-06 - val_accuracy: 1.0000\n"
     ]
    }
   ],
   "source": [
    "history = model.fit(x_train,\n",
    "                    y_train,\n",
    "                    epochs = 20,\n",
    "                    batch_size = 30,\n",
    "                    validation_data = (x_test, y_test))"
   ]
  },
  {
   "cell_type": "code",
   "execution_count": 88,
   "metadata": {},
   "outputs": [
    {
     "name": "stdout",
     "output_type": "stream",
     "text": [
      "[Info.]Test loss: 1.4341061387312948e-06\n",
      "[Info.]Test accuracy: 1.0\n"
     ]
    }
   ],
   "source": [
    "score = model.evaluate(x_test, y_test, verbose=0)\n",
    "print('[Info.]Test loss:', score[0])\n",
    "print('[Info.]Test accuracy:', score[1])"
   ]
  },
  {
   "cell_type": "code",
   "execution_count": 89,
   "metadata": {},
   "outputs": [
    {
     "data": {
      "image/png": "[encoded data removed]",
      "text/plain": [
       "<Figure size 720x288 with 2 Axes>"
      ]
     },
     "metadata": {
      "needs_background": "light"
     },
     "output_type": "display_data"
    }
   ],
   "source": [
    "plt.figure(1, figsize=(10, 4))\n",
    "plt.subplots_adjust(wspace=0.5)\n",
    "# 학습 및 테스트 데이터에 대한 손실 비교\n",
    "plt.subplot(1, 2, 1)\n",
    "plt.plot(history.history['loss'], label='training', color='black')\n",
    "plt.plot(history.history['val_loss'], label='test',\n",
    "         color='cornflowerblue')\n",
    "plt.ylim(0, 0.8)\n",
    "plt.legend()\n",
    "plt.grid()\n",
    "plt.xlabel('epoch')\n",
    "plt.ylabel('loss')\n",
    "\n",
    "# 학습 및 테스트 데이터에 대한 정확도 비교\n",
    "plt.subplot(1, 2, 2)\n",
    "plt.plot(history.history['accuracy'], label='training', color='black')\n",
    "plt.plot(history.history['val_accuracy'],label='test', color='cornflowerblue')\n",
    "plt.ylim(0.8, 1)\n",
    "plt.legend()\n",
    "plt.grid()\n",
    "plt.xlabel('epoch')\n",
    "plt.ylabel('acc')\n",
    "plt.show()"
   ]
  },
  {
   "cell_type": "code",
   "execution_count": null,
   "metadata": {},
   "outputs": [],
   "source": []
  }
 ],
 "metadata": {
  "kernelspec": {
   "display_name": "Python 3",
   "language": "python",
   "name": "python3"
  },
  "language_info": {
   "codemirror_mode": {
    "name": "ipython",
    "version": 3
   },
   "file_extension": ".py",
   "mimetype": "text/x-python",
   "name": "python",
   "nbconvert_exporter": "python",
   "pygments_lexer": "ipython3",
   "version": "3.8.3"
  }
 },
 "nbformat": 4,
 "nbformat_minor": 4
}

{
 "cells": [
  {
   "cell_type": "markdown",
   "metadata": {},
   "source": [
    "# Import python library"
   ]
  },
  {
   "cell_type": "code",
   "execution_count": 1,
   "metadata": {},
   "outputs": [
    {
     "name": "stdout",
     "output_type": "stream",
     "text": [
      "Installed tensorflow version:  2.7.0\n"
     ]
    }
   ],
   "source": [
    "import os, shutil\n",
    "import time\n",
    "import math\n",
    "import numpy as np\n",
    "import pandas as pd\n",
    "import matplotlib.pyplot as plt\n",
    "%matplotlib inline\n",
    "from scipy import io, signal\n",
    "from scipy.fftpack import fft, fftshift\n",
    "\n",
    "import tensorflow as tf\n",
    "from tensorflow.keras import models, layers, regularizers, optimizers\n",
    "from tensorflow.keras.callbacks import LearningRateScheduler\n",
    "\n",
    "print(\"Installed tensorflow version: \", tf.__version__)"
   ]
  },
  {
   "cell_type": "markdown",
   "metadata": {},
   "source": [
    "# GPU setting"
   ]
  },
  {
   "cell_type": "code",
   "execution_count": 2,
   "metadata": {},
   "outputs": [
    {
     "data": {
      "text/plain": [
       "'float32'"
      ]
     },
     "execution_count": 2,
     "metadata": {},
     "output_type": "execute_result"
    }
   ],
   "source": [
    "os.environ[\"CUDA_DEVICE_ORDER\"] = \"PCI_BUS_ID\"\n",
    "os.environ[\"CUDA_VISIBLE_DEVICES\"] = \"0\" # GPU unit setting\n",
    "tf.keras.backend.floatx()"
   ]
  },
  {
   "cell_type": "markdown",
   "metadata": {},
   "source": [
    "# Parameters Setting for training"
   ]
  },
  {
   "cell_type": "code",
   "execution_count": 3,
   "metadata": {},
   "outputs": [],
   "source": [
    "### data parameters\n",
    "winT = 18000 # one priod\n",
    "\n",
    "\n",
    "### RMSprop optimizer parameters\n",
    "lr_begin = 1e-3\n",
    "RHO = 0.8\n",
    "\n",
    "### Training parameters \n",
    "MAX_EPOCHS = 80\n",
    "BATCH_SIZE = 128\n",
    "EPOCH_1 = math.ceil(MAX_EPOCHS/2)\n",
    "EPOCH_2 = math.ceil(MAX_EPOCHS*3/4)"
   ]
  },
  {
   "cell_type": "markdown",
   "metadata": {},
   "source": [
    "# Load measured datasets"
   ]
  },
  {
   "cell_type": "code",
   "execution_count": 4,
   "metadata": {},
   "outputs": [
    {
     "name": "stdout",
     "output_type": "stream",
     "text": [
      "[Info.] where am I?\n"
     ]
    },
    {
     "data": {
      "text/plain": [
       "'/home/wkchoi/Arc-Fault'"
      ]
     },
     "execution_count": 4,
     "metadata": {},
     "output_type": "execute_result"
    }
   ],
   "source": [
    "print(\"[Info.] where am I?\")\n",
    "%pwd"
   ]
  },
  {
   "cell_type": "code",
   "execution_count": 5,
   "metadata": {},
   "outputs": [],
   "source": [
    "# Define signal plot function\n",
    "def show_signal_subplot(n_show, data, label, YRNG_MIN=-1, YRNG_MAX=1):\n",
    "    plt.figure(2, figsize=(12, 8))\n",
    "    plt.subplots_adjust(wspace=0.5)\n",
    "    for i in range(n_show):\n",
    "        plt.subplot(5, 10, i + 1)\n",
    "        plt.plot(data[i], color='cornflowerblue')\n",
    "        plt.text(int(data.shape[1]/2), 0, \"%d\" % label[i], fontsize=12, color='r')\n",
    "        plt.xlim(0, data.shape[1])\n",
    "        plt.ylim(YRNG_MIN, YRNG_MAX)\n",
    "        \n",
    "def data_shuffle(data):\n",
    "    s = np.arange(data.shape[0])\n",
    "    np.random.shuffle(s)\n",
    "    \n",
    "    return data[s]\n",
    "    \n",
    "    \n",
    "\n",
    "def gen_one_period_data(file_path, winT):\n",
    "    \n",
    "    ##### load raw data\n",
    "    data_raw = pd.read_excel(file_path, index_col=None, header=None, sheet_name='Sheet1')\n",
    "    data = data_raw.to_numpy() # numpy array\n",
    "    \n",
    "    ##### Data Normalization\n",
    "    data_n = np.zeros((data.shape[0],data.shape[1]))\n",
    "    for i in range(data.shape[1]):\n",
    "        data_n[:,i] = data[:,i]/max(abs(data[:,i]))  \n",
    "    \n",
    "    ##### expand one-period dataset\n",
    "    dT = round(winT / 10)\n",
    "    Num = round((data_n.shape[0] - winT)/dT)\n",
    "    \n",
    "    data_tot = np.zeros((winT,Num*data_n.shape[1]))\n",
    "    index = 0\n",
    "    for i in range(data_n.shape[1]):\n",
    "        for j in range(Num):\n",
    "            index = Num*i+j\n",
    "            data_tot[:,index] = data_n[j*dT:winT+j*dT,i]\n",
    "            \n",
    "    print(\"[Info.] Total re-arranged one-period data shape: \", data_tot.shape)\n",
    "    \n",
    "    return data_tot\n",
    "\n",
    "def merge_one_period_data(winT, *file_paths):\n",
    "    \n",
    "    subArrays = []\n",
    "    for file_path in file_paths:\n",
    "        data = gen_one_period_data(file_path, winT)\n",
    "        subArrays.append(data)\n",
    "                \n",
    "    allArrays = np.concatenate(subArrays, axis=1)\n",
    "    \n",
    "    print(\"[Info.] ==========> Total merged one-period data shape: \", allArrays.shape, \"\\n\")\n",
    "        \n",
    "    return allArrays"
   ]
  },
  {
   "cell_type": "code",
   "execution_count": 6,
   "metadata": {},
   "outputs": [],
   "source": [
    "base_dir = \"/home/wkchoi/Arc-Fault\""
   ]
  },
  {
   "cell_type": "markdown",
   "metadata": {},
   "source": [
    "## 1. Fan dataset"
   ]
  },
  {
   "cell_type": "code",
   "execution_count": 7,
   "metadata": {},
   "outputs": [
    {
     "name": "stdout",
     "output_type": "stream",
     "text": [
      "[Info.] Total re-arranged one-period data shape:  (18000, 1480)\n",
      "[Info.] Total re-arranged one-period data shape:  (18000, 1560)\n",
      "[Info.] Total re-arranged one-period data shape:  (18000, 80)\n",
      "[Info.] Total re-arranged one-period data shape:  (18000, 600)\n",
      "[Info.] Total re-arranged one-period data shape:  (18000, 2000)\n",
      "[Info.] Total re-arranged one-period data shape:  (18000, 1880)\n",
      "[Info.] ==========> Total merged one-period data shape:  (18000, 7600) \n",
      "\n",
      "[Info.] Total re-arranged one-period data shape:  (18000, 2000)\n",
      "[Info.] Total re-arranged one-period data shape:  (18000, 2000)\n",
      "[Info.] Total re-arranged one-period data shape:  (18000, 2000)\n",
      "[Info.] Total re-arranged one-period data shape:  (18000, 2160)\n",
      "[Info.] ==========> Total merged one-period data shape:  (18000, 8160) \n",
      "\n"
     ]
    }
   ],
   "source": [
    "### Fan arc raw dataset\n",
    "file_path1 = os.path.join(base_dir, \"Fan/arc/Fan_1_arc_humid_44(c61)_data.xlsx\")\n",
    "file_path2 = os.path.join(base_dir, \"Fan/arc/Fan_2_arc_humid_45_data.xlsx\")\n",
    "file_path3 = os.path.join(base_dir, \"Fan/arc/Fan_1_arc_humid_34(c14)_c2_data.xlsx\")\n",
    "file_path4 = os.path.join(base_dir, \"Fan/arc/Fan_2_arc_humid_34(c23)_c15_data.xlsx\")\n",
    "file_path5 = os.path.join(base_dir, \"Fan/arc/fan_1_arc_data.xlsx\")\n",
    "file_path6 = os.path.join(base_dir, \"Fan/arc/fan_2_arc(c57)_data.xlsx\")\n",
    "file_paths = [file_path1, file_path2, file_path3, file_path4, file_path5, file_path6]\n",
    "fan_arc = merge_one_period_data(winT, *file_paths)\n",
    "\n",
    "##### Fan normal raw dataset\n",
    "file_path1 = os.path.join(base_dir, \"Fan/normal/Fan_1_normal_humid_room_data.xlsx\")\n",
    "file_path2 = os.path.join(base_dir, \"Fan/normal/Fan_2_normal_humid_50_data.xlsx\")\n",
    "file_path3 = os.path.join(base_dir, \"Fan/normal/fan_1_normal_data.xlsx\")\n",
    "file_path4 = os.path.join(base_dir, \"Fan/normal/fan_2_normal(c54)_data.xlsx\")\n",
    "file_paths = [file_path1, file_path2, file_path3, file_path4]\n",
    "fan_normal = merge_one_period_data(winT, *file_paths)\n",
    "\n",
    "#### Fan Data shuffle\n",
    "fan_arc_1 = data_shuffle(fan_arc.T)\n",
    "fan_arc_2 = fan_arc_1.T[:,:]\n",
    "\n",
    "fan_normal_1 = data_shuffle(fan_normal.T)\n",
    "fan_normal_2 = fan_normal_1.T[:,:]"
   ]
  },
  {
   "cell_type": "markdown",
   "metadata": {},
   "source": [
    "## 2. Fluor dataset"
   ]
  },
  {
   "cell_type": "code",
   "execution_count": 8,
   "metadata": {},
   "outputs": [
    {
     "name": "stdout",
     "output_type": "stream",
     "text": [
      "[Info.] Total re-arranged one-period data shape:  (18000, 3160)\n",
      "[Info.] Total re-arranged one-period data shape:  (18000, 360)\n",
      "[Info.] Total re-arranged one-period data shape:  (18000, 2600)\n",
      "[Info.] Total re-arranged one-period data shape:  (18000, 1800)\n",
      "[Info.] ==========> Total merged one-period data shape:  (18000, 7920) \n",
      "\n",
      "[Info.] Total re-arranged one-period data shape:  (18000, 2000)\n",
      "[Info.] Total re-arranged one-period data shape:  (18000, 2000)\n",
      "[Info.] Total re-arranged one-period data shape:  (18000, 1480)\n",
      "[Info.] ==========> Total merged one-period data shape:  (18000, 5480) \n",
      "\n"
     ]
    }
   ],
   "source": [
    "### Fluor arc raw dataset\n",
    "file_path1 = os.path.join(base_dir, \"Fluor/arc/Fluor_1_arc_humid_40(c79)_data.xlsx\")\n",
    "file_path2 = os.path.join(base_dir, \"Fluor/arc/Fluor_1_arc_humid_50(weird)_data.xlsx\")\n",
    "file_path3 = os.path.join(base_dir, \"Fluor/arc/Fluor_2_arc_humid_40(c65)_data.xlsx\")\n",
    "file_path4 = os.path.join(base_dir, \"Fluor/arc/Fluor_2_arc_humid_23(c51)_data(c45).xlsx\")\n",
    "file_paths = [file_path1, file_path2, file_path3, file_path4]\n",
    "fluor_arc = merge_one_period_data(winT, *file_paths)\n",
    "\n",
    "##### Fluor normal raw dataset\n",
    "file_path1 = os.path.join(base_dir, \"Fluor/normal/Fluor_1_normal_humid_room_data.xlsx\")\n",
    "file_path2 = os.path.join(base_dir, \"Fluor/normal/Fluor_2_normal_humid_34_data.xlsx\")\n",
    "file_path3 = os.path.join(base_dir, \"Fluor/normal/Fluor_2_normal(c37)_data.xlsx\")\n",
    "file_paths = [file_path1, file_path2, file_path3]\n",
    "fluor_normal = merge_one_period_data(winT, *file_paths)\n",
    "\n",
    "#### Fluor Data shuffle\n",
    "fluor_arc_1 = data_shuffle(fluor_arc.T)\n",
    "fluor_arc_2 = fluor_arc_1.T[:,:]\n",
    "\n",
    "fluor_normal_1 = data_shuffle(fluor_normal.T)\n",
    "fluor_normal_2 = fluor_normal_1.T[:,:]"
   ]
  },
  {
   "cell_type": "markdown",
   "metadata": {},
   "source": [
    "## 3. Heat dataset"
   ]
  },
  {
   "cell_type": "code",
   "execution_count": 9,
   "metadata": {},
   "outputs": [
    {
     "name": "stdout",
     "output_type": "stream",
     "text": [
      "[Info.] Total re-arranged one-period data shape:  (18000, 2240)\n",
      "[Info.] Total re-arranged one-period data shape:  (18000, 2000)\n",
      "[Info.] Total re-arranged one-period data shape:  (18000, 2000)\n",
      "[Info.] Total re-arranged one-period data shape:  (18000, 1080)\n",
      "[Info.] ==========> Total merged one-period data shape:  (18000, 7320) \n",
      "\n",
      "[Info.] Total re-arranged one-period data shape:  (18000, 2000)\n",
      "[Info.] Total re-arranged one-period data shape:  (18000, 2000)\n",
      "[Info.] ==========> Total merged one-period data shape:  (18000, 4000) \n",
      "\n"
     ]
    }
   ],
   "source": [
    "### Heat arc raw dataset\n",
    "file_path1 = os.path.join(base_dir, \"Heat/arc/Heat_1_arc_humid_40(c56)_data.xlsx\")\n",
    "file_path2 = os.path.join(base_dir, \"Heat/arc/Heat_1_arc_humid_50_data.xlsx\")\n",
    "file_path3 = os.path.join(base_dir, \"Heat/arc/Heat_2_arc_humid_40_data.xlsx\")\n",
    "file_path4 = os.path.join(base_dir, \"Heat/arc/Heater_2_arc_humid_34(c27)_data.xlsx\")\n",
    "file_paths = [file_path1, file_path2, file_path3, file_path4]\n",
    "heat_arc = merge_one_period_data(winT, *file_paths)\n",
    "\n",
    "##### Heat normal raw dataset\n",
    "file_path1 = os.path.join(base_dir, \"Heat/normal/Heat_1_normal_humid_room_data.xlsx\")\n",
    "file_path2 = os.path.join(base_dir, \"Heat/normal/Heat_2_normal_humid_40_data.xlsx\")\n",
    "file_paths = [file_path1, file_path2]\n",
    "heat_normal = merge_one_period_data(winT, *file_paths)\n",
    "\n",
    "### Heat Data Shuffle\n",
    "heat_arc_1 = data_shuffle(heat_arc.T)\n",
    "heat_arc_2 = heat_arc_1.T[:,:]\n",
    "\n",
    "heat_normal_1 = data_shuffle(heat_normal.T)\n",
    "heat_normal_2 = heat_normal_1.T[:,:]"
   ]
  },
  {
   "cell_type": "markdown",
   "metadata": {},
   "source": [
    "## 4. Incan dataset"
   ]
  },
  {
   "cell_type": "code",
   "execution_count": 10,
   "metadata": {},
   "outputs": [
    {
     "name": "stdout",
     "output_type": "stream",
     "text": [
      "[Info.] Total re-arranged one-period data shape:  (18000, 1880)\n",
      "[Info.] Total re-arranged one-period data shape:  (18000, 2000)\n",
      "[Info.] Total re-arranged one-period data shape:  (18000, 2400)\n",
      "[Info.] Total re-arranged one-period data shape:  (18000, 2400)\n",
      "[Info.] Total re-arranged one-period data shape:  (18000, 1640)\n",
      "[Info.] Total re-arranged one-period data shape:  (18000, 2400)\n",
      "[Info.] Total re-arranged one-period data shape:  (18000, 880)\n",
      "[Info.] Total re-arranged one-period data shape:  (18000, 2120)\n",
      "[Info.] ==========> Total merged one-period data shape:  (18000, 15720) \n",
      "\n",
      "[Info.] Total re-arranged one-period data shape:  (18000, 2000)\n",
      "[Info.] Total re-arranged one-period data shape:  (18000, 2000)\n",
      "[Info.] ==========> Total merged one-period data shape:  (18000, 4000) \n",
      "\n"
     ]
    }
   ],
   "source": [
    "### Incan arc raw dataset\n",
    "file_path1 = os.path.join(base_dir, \"incan/arc/incan_1_arc_humid_room_data.xlsx\")\n",
    "file_path2 = os.path.join(base_dir, \"incan/arc/incan_2_arc_44_data.xlsx\")\n",
    "file_path3 = os.path.join(base_dir, \"incan/arc/Incan_2_arc_humid_40(c60)_data.xlsx\")\n",
    "file_path4 = os.path.join(base_dir, \"incan/arc/Incan_2_arc_humid_40(c61-c120)_data.xlsx\")\n",
    "file_path5 = os.path.join(base_dir, \"incan/arc/Incan_2_arc_humid_40(c121-c161)_data.xlsx\")\n",
    "file_path6 = os.path.join(base_dir, \"incan/arc/Incan_2_arc_humid_95(c60)_data.xlsx\")\n",
    "file_path7 = os.path.join(base_dir, \"incan/arc/Incan_2_arc_humid_95(c61-c82)_data.xlsx\")\n",
    "file_path8 = os.path.join(base_dir, \"incan/arc/Incan_2_arc_humid_room(after humid95)(c53)_data.xlsx\")\n",
    "file_paths = [file_path1, file_path2, file_path3, file_path4, file_path5, file_path6,\n",
    "             file_path7, file_path8]\n",
    "incan_arc = merge_one_period_data(winT, *file_paths)\n",
    "\n",
    "##### Incan normal raw dataset\n",
    "file_path1 = os.path.join(base_dir, \"incan/normal/incan_1_normal_humid_room_data.xlsx\")\n",
    "file_path2 = os.path.join(base_dir, \"incan/normal/incan_2_normal_humid_room_data.xlsx\")\n",
    "file_paths = [file_path1, file_path2]\n",
    "incan_normal = merge_one_period_data(winT, *file_paths)\n",
    "\n",
    "### Incan Data Shuffle\n",
    "incan_arc_1 = data_shuffle(incan_arc.T)\n",
    "incan_arc_2 = incan_arc_1.T[:,:]\n",
    "\n",
    "incan_normal_1 = data_shuffle(incan_normal.T)\n",
    "incan_normal_2 = incan_normal_1.T[:,:]"
   ]
  },
  {
   "cell_type": "markdown",
   "metadata": {},
   "source": [
    "## 5. Led dataset"
   ]
  },
  {
   "cell_type": "code",
   "execution_count": 11,
   "metadata": {},
   "outputs": [
    {
     "name": "stdout",
     "output_type": "stream",
     "text": [
      "[Info.] Total re-arranged one-period data shape:  (18000, 1160)\n",
      "[Info.] Total re-arranged one-period data shape:  (18000, 760)\n",
      "[Info.] Total re-arranged one-period data shape:  (18000, 1360)\n",
      "[Info.] Total re-arranged one-period data shape:  (18000, 1600)\n",
      "[Info.] Total re-arranged one-period data shape:  (18000, 1800)\n",
      "[Info.] Total re-arranged one-period data shape:  (18000, 1920)\n",
      "[Info.] ==========> Total merged one-period data shape:  (18000, 8600) \n",
      "\n",
      "[Info.] Total re-arranged one-period data shape:  (18000, 1440)\n",
      "[Info.] Total re-arranged one-period data shape:  (18000, 2000)\n",
      "[Info.] Total re-arranged one-period data shape:  (18000, 1280)\n",
      "[Info.] Total re-arranged one-period data shape:  (18000, 1600)\n",
      "[Info.] Total re-arranged one-period data shape:  (18000, 120)\n",
      "[Info.] ==========> Total merged one-period data shape:  (18000, 6440) \n",
      "\n"
     ]
    }
   ],
   "source": [
    "### LED arc raw dataset\n",
    "file_path1 = os.path.join(base_dir, \"Led/arc/led_1_arc_humid_23_c(30)_data(c29).xlsx\")\n",
    "file_path2 = os.path.join(base_dir, \"Led/arc/LED_1_arc(c19)_data.xlsx\")\n",
    "file_path3 = os.path.join(base_dir, \"Led/arc/LED_2_arc(c34)_data.xlsx\")\n",
    "file_path4 = os.path.join(base_dir, \"Led/arc/led_1_arc(c43)_data.xlsx\")\n",
    "file_path5 = os.path.join(base_dir, \"Led/arc/led_1_arc(c50)_data.xlsx\")\n",
    "file_path6 = os.path.join(base_dir, \"Led/arc/led_2_arc(c56)_data.xlsx\")\n",
    "file_paths = [file_path1, file_path2, file_path3, file_path4, file_path5, file_path6]\n",
    "led_arc = merge_one_period_data(winT, *file_paths)\n",
    "\n",
    "##### LED normal raw dataset\n",
    "file_path1 = os.path.join(base_dir, \"Led/normal/led_1_normal_c(36)_data.xlsx\")\n",
    "file_path2 = os.path.join(base_dir, \"Led/normal/led_1_normal_humid_room_data.xlsx\")\n",
    "file_path3 = os.path.join(base_dir, \"Led/normal/led_2_normal_c(32)_data.xlsx\")\n",
    "file_path4 = os.path.join(base_dir, \"Led/normal/LED_2_normal(c40)_data.xlsx\")\n",
    "file_path5 = os.path.join(base_dir, \"Led/normal/led_1_normal(c3)_data.xlsx\")\n",
    "file_paths = [file_path1, file_path2, file_path3, file_path4, file_path5]\n",
    "led_normal = merge_one_period_data(winT, *file_paths)\n",
    "\n",
    "### LED Data Shuffle\n",
    "led_arc_1 = data_shuffle(led_arc.T)\n",
    "led_arc_2 = led_arc_1.T[:,:]\n",
    "\n",
    "led_normal_1 = data_shuffle(led_normal.T)\n",
    "led_normal_2 = led_normal_1.T[:,:]"
   ]
  },
  {
   "cell_type": "code",
   "execution_count": 12,
   "metadata": {},
   "outputs": [
    {
     "name": "stdout",
     "output_type": "stream",
     "text": [
      "------Fan------\n",
      "(18000, 7600)\n",
      "(18000, 8160)\n",
      "(18000, 7600)\n",
      "(18000, 7600)\n",
      "------Fluor------\n",
      "(18000, 7920)\n",
      "(18000, 5480)\n",
      "(18000, 5480)\n",
      "(18000, 5480)\n",
      "------Heat------\n",
      "(18000, 7320)\n",
      "(18000, 4000)\n",
      "(18000, 4000)\n",
      "(18000, 4000)\n",
      "------Incan------\n",
      "(18000, 15720)\n",
      "(18000, 4000)\n",
      "(18000, 4000)\n",
      "(18000, 4000)\n",
      "------Led------\n",
      "(18000, 8600)\n",
      "(18000, 6440)\n",
      "(18000, 6440)\n",
      "(18000, 6440)\n"
     ]
    }
   ],
   "source": [
    "# 데이터 불균형으로 데이터를 자름 (oversampling 또는 다른 방법 필요)\n",
    "print('------Fan------')\n",
    "print(fan_arc_2.shape)\n",
    "print(fan_normal_2.shape)\n",
    "fan_normal_2 = fan_normal_1.T[:,:7600]\n",
    "print(fan_arc_2.shape)\n",
    "print(fan_normal_2.shape)\n",
    "\n",
    "print('------Fluor------')\n",
    "print(fluor_arc_2.shape)\n",
    "print(fluor_normal_2.shape)\n",
    "fluor_arc_2 = fluor_arc_1.T[:,:5480]\n",
    "print(fluor_arc_2.shape)\n",
    "print(fluor_normal_2.shape)\n",
    "\n",
    "print('------Heat------')\n",
    "print(heat_arc_2.shape)\n",
    "print(heat_normal_2.shape)\n",
    "heat_arc_2 = heat_arc_1.T[:,:4000]\n",
    "print(heat_arc_2.shape)\n",
    "print(heat_normal_2.shape)\n",
    "\n",
    "print('------Incan------')\n",
    "print(incan_arc_2.shape)\n",
    "print(incan_normal_2.shape)\n",
    "incan_arc_2 = incan_arc_1.T[:,:4000]\n",
    "print(incan_arc_2.shape)\n",
    "print(incan_normal_2.shape)\n",
    "\n",
    "print('------Led------')\n",
    "print(led_arc_2.shape)\n",
    "print(led_normal_2.shape)\n",
    "led_arc_2 = led_arc_1.T[:,:6440]\n",
    "print(led_arc_2.shape)\n",
    "print(led_normal_2.shape)"
   ]
  },
  {
   "cell_type": "code",
   "execution_count": 13,
   "metadata": {},
   "outputs": [
    {
     "name": "stdout",
     "output_type": "stream",
     "text": [
      "(18000, 27520)\n",
      "(18000, 27520)\n"
     ]
    }
   ],
   "source": [
    "# 5종류 Arc / Normal 데이터 합침.\n",
    "arc = np.concatenate((fan_arc_2, fluor_arc_2,\n",
    "                      heat_arc_2, incan_arc_2, led_arc_2), axis =1)\n",
    "normal = np.concatenate((fan_normal_2, fluor_normal_2,\n",
    "                         heat_normal_2, incan_normal_2, led_normal_2), axis =1)\n",
    "print(arc.shape)\n",
    "print(normal.shape)\n"
   ]
  },
  {
   "cell_type": "markdown",
   "metadata": {},
   "source": [
    "# Feature Extraction"
   ]
  },
  {
   "cell_type": "code",
   "execution_count": 14,
   "metadata": {},
   "outputs": [],
   "source": [
    "# 특성추출을 위한 함수 작성 ( 변수이름, 데이터 크기)\n",
    "def create_feature(x, y):\n",
    "    feature = np.zeros(shape=(39,y))\n",
    "    mean_val = np.zeros((10, y))\n",
    "    std_val = np.zeros((10, y))\n",
    "    Pole_diff = np.zeros((10, y))\n",
    "    Avg_diff = np.zeros((9, y))\n",
    "\n",
    "    for i in range(y):\n",
    "        sig = x[:, i]\n",
    "        win = round(x.shape[0]/10)\n",
    "        for j in range(10):\n",
    "            tmp = x[int(j * win) : int((j + 1) * win)]\n",
    "            mean_val[j] = np.mean(tmp[j],axis=0)\n",
    "            std_val[j] = np.std(tmp[j])\n",
    "            Pole_diff[j] = np.max(tmp[j]) - np.min(tmp[j])\n",
    "        for z in range(9):\n",
    "            Avg_diff[z] = np.mean(tmp[z], axis=0) - np.mean(tmp[z+1],axis=0)\n",
    "        \n",
    "    feature = np.concatenate((mean_val, std_val, Pole_diff, Avg_diff), axis =0)\n",
    "    return feature"
   ]
  },
  {
   "cell_type": "code",
   "execution_count": 15,
   "metadata": {},
   "outputs": [],
   "source": [
    "# 5종류 Arc / Normal 특성추출\n",
    "fan_arc = create_feature(fan_arc_2, 7600)\n",
    "fan_normal = create_feature(fan_normal_2, 7600)\n",
    "fluor_arc = create_feature(fluor_arc_2, 5480)\n",
    "fluor_normal = create_feature(fluor_normal_2, 5480)\n",
    "heat_arc = create_feature(heat_arc_2, 4000)\n",
    "heat_normal = create_feature(heat_normal_2, 4000)\n",
    "incan_arc = create_feature(incan_arc_2, 4000)\n",
    "incan_normal = create_feature(incan_normal_2, 4000)\n",
    "led_arc = create_feature(led_arc_2, 6440)\n",
    "led_normal = create_feature(led_normal_2, 6440)\n"
   ]
  },
  {
   "cell_type": "code",
   "execution_count": 16,
   "metadata": {
    "scrolled": true
   },
   "outputs": [
    {
     "name": "stdout",
     "output_type": "stream",
     "text": [
      "------Fan------\n",
      "(39, 7600)\n",
      "(39, 7600)\n",
      "------Fluor------\n",
      "(39, 5480)\n",
      "(39, 5480)\n",
      "------Heat------\n",
      "(39, 4000)\n",
      "(39, 4000)\n",
      "------Incan------\n",
      "(39, 4000)\n",
      "(39, 4000)\n",
      "------Led------\n",
      "(39, 6440)\n",
      "(39, 6440)\n"
     ]
    }
   ],
   "source": [
    "# 특성추출한 데이터 크기 확인\n",
    "print('------Fan------')\n",
    "print(fan_arc.shape)\n",
    "print(fan_normal.shape)\n",
    "\n",
    "print('------Fluor------')\n",
    "print(fluor_arc.shape)\n",
    "print(fluor_normal.shape)\n",
    "\n",
    "print('------Heat------')\n",
    "print(heat_arc.shape)\n",
    "print(heat_normal.shape)\n",
    "\n",
    "\n",
    "print('------Incan------')\n",
    "print(incan_arc.shape)\n",
    "print(incan_normal.shape)\n",
    "\n",
    "print('------Led------')\n",
    "print(led_arc.shape)\n",
    "print(led_normal.shape)\n"
   ]
  },
  {
   "cell_type": "code",
   "execution_count": 17,
   "metadata": {},
   "outputs": [
    {
     "name": "stdout",
     "output_type": "stream",
     "text": [
      "(39, 27520)\n",
      "(39, 27520)\n"
     ]
    }
   ],
   "source": [
    "# 5종류 Arc / Normal 데이터 합침.\n",
    "arc_tot = np.concatenate((fan_arc, fluor_arc, heat_arc, incan_arc, led_arc), axis = 1)\n",
    "normal_tot = np.concatenate((fan_normal, fluor_normal, heat_normal, incan_normal, led_normal), axis = 1)\n",
    "print(arc_tot.shape)\n",
    "print(normal_tot.shape)"
   ]
  },
  {
   "cell_type": "code",
   "execution_count": 18,
   "metadata": {
    "scrolled": false
   },
   "outputs": [
    {
     "name": "stdout",
     "output_type": "stream",
     "text": [
      "(27520, 39)\n",
      "(27520, 39)\n"
     ]
    }
   ],
   "source": [
    "arc_tot = arc_tot.T\n",
    "normal_tot = normal_tot.T\n",
    "print(arc_tot.shape)\n",
    "print(normal_tot.shape)"
   ]
  },
  {
   "cell_type": "markdown",
   "metadata": {},
   "source": [
    "# Data Shuffling"
   ]
  },
  {
   "cell_type": "code",
   "execution_count": 19,
   "metadata": {},
   "outputs": [],
   "source": [
    "##### Labeling\n",
    "norm_label = np.zeros(normal_tot.shape[1]) # label 0\n",
    "arc_label = np.ones(arc_tot.shape[1])  # label 1"
   ]
  },
  {
   "cell_type": "code",
   "execution_count": 20,
   "metadata": {},
   "outputs": [
    {
     "name": "stdout",
     "output_type": "stream",
     "text": [
      "[Info.] Total dataset shape:  (78, 27520)\n"
     ]
    }
   ],
   "source": [
    "##### Prepare full datasets for training\n",
    "\n",
    "Train_raw = np.concatenate((normal_tot.T, arc_tot.T), axis=0)\n",
    "Train_label = np.concatenate((norm_label, arc_label))\n",
    "print('[Info.] Total dataset shape: ', Train_raw.shape)"
   ]
  },
  {
   "cell_type": "code",
   "execution_count": 21,
   "metadata": {},
   "outputs": [
    {
     "data": {
      "text/plain": [
       "array([0., 0., 0., 0., 0., 0., 0., 0., 0., 0., 0., 0., 0., 0., 0., 0., 0.,\n",
       "       0., 0., 0., 0., 0., 0., 0., 0., 0., 0., 0., 0., 0., 0., 0., 0., 0.,\n",
       "       0., 0., 0., 0., 0., 1., 1., 1., 1., 1., 1., 1., 1., 1., 1., 1., 1.,\n",
       "       1., 1., 1., 1., 1., 1., 1., 1., 1., 1., 1., 1., 1., 1., 1., 1., 1.,\n",
       "       1., 1., 1., 1., 1., 1., 1., 1., 1., 1.])"
      ]
     },
     "execution_count": 21,
     "metadata": {},
     "output_type": "execute_result"
    }
   ],
   "source": [
    "Train_label"
   ]
  },
  {
   "cell_type": "code",
   "execution_count": 22,
   "metadata": {},
   "outputs": [
    {
     "name": "stdout",
     "output_type": "stream",
     "text": [
      "===> Display label numbers after data shuffling: \n",
      " [1. 1. 0. 1. 0. 0. 1. 1. 0. 0. 0. 0. 0. 1. 0. 1. 1. 0. 0. 0. 0. 1. 0. 0.\n",
      " 1. 0. 1. 1. 0. 0. 0. 1. 0. 1. 0. 0. 1. 1. 0. 0. 0. 1. 0. 1. 1. 1. 0. 1.\n",
      " 0. 1. 1. 0. 1. 0. 1. 1. 1. 0. 1. 1. 1. 1. 1. 0. 1. 1. 0. 0. 1. 1. 0. 0.\n",
      " 0. 1. 1. 0. 1. 0.]\n"
     ]
    }
   ],
   "source": [
    "# s라는 배열에 data의 인덱스를 넣고 섞은 뒤 data와 data_label 배열에 대입.(train)\n",
    "s = np.arange(Train_raw.shape[0])\n",
    "np.random.shuffle(s)\n",
    "\n",
    "data_tr = Train_raw[s]\n",
    "data_tr_label = Train_label[s]\n",
    "print(\"===> Display label numbers after data shuffling:\", \"\\n\", data_tr_label[0:78])"
   ]
  },
  {
   "cell_type": "code",
   "execution_count": 23,
   "metadata": {},
   "outputs": [
    {
     "name": "stdout",
     "output_type": "stream",
     "text": [
      "[Info.] Number of training dataset:  62\n",
      "[Info.] Number of test dataset:  16\n"
     ]
    }
   ],
   "source": [
    "SPL_RATIO = 0.8 \n",
    "index = round(data_tr.shape[0]*SPL_RATIO)\n",
    "\n",
    "### train 데이터와 test 데이터로 분리\n",
    "train_X, train_Y = data_tr[:index], data_tr_label[:index]\n",
    "test_X, test_Y = data_tr[index:], data_tr_label[index:]\n",
    "print('[Info.] Number of training dataset: ', len(train_X))\n",
    "print('[Info.] Number of test dataset: ', len(test_X))\n",
    "\n",
    "### Save trainind and test datasets and labels\n",
    "dataset_dir = './TrTedata'\n",
    "if os.path.exists(dataset_dir):  # 반복적인 실행을 위해 디렉토리를 삭제\n",
    "    shutil.rmtree(dataset_dir)   \n",
    "os.mkdir(dataset_dir)\n",
    "\n",
    "# training\n",
    "train_X_dir = os.path.join(dataset_dir, 'train_X.npy')\n",
    "np.save(train_X_dir, train_X)\n",
    "\n",
    "train_Y_dir = os.path.join(dataset_dir, 'train_Y.npy')\n",
    "np.save(train_Y_dir, train_Y)\n",
    "\n",
    "# test\n",
    "test_X_dir = os.path.join(dataset_dir, 'test_X.npy')\n",
    "np.save(test_X_dir, test_X)\n",
    "\n",
    "test_Y_dir = os.path.join(dataset_dir, 'test_Y.npy')\n",
    "np.save(test_Y_dir, test_Y)"
   ]
  },
  {
   "cell_type": "code",
   "execution_count": 24,
   "metadata": {
    "scrolled": false
   },
   "outputs": [
    {
     "name": "stdout",
     "output_type": "stream",
     "text": [
      "[Info.] x_train numpy shape:  (62, 27520, 1)\n",
      "[Info.] x_test numpy shape:  (16, 27520, 1)\n",
      "[Info.] y_train numpy shape:  (62,)\n",
      "[Info.] y_test numpy shape:  (16,)\n"
     ]
    }
   ],
   "source": [
    "### Training and test datasets\n",
    "x_train = np.reshape(train_X, (len(train_X),train_X.shape[1],1))\n",
    "x_test = np.reshape(test_X, (len(test_X),train_X.shape[1],1))\n",
    "\n",
    "### Training and test labeling\n",
    "y_train = np.asarray(train_Y).astype('float32')\n",
    "y_test = np.asarray(test_Y).astype('float32')\n",
    "\n",
    "print('[Info.] x_train numpy shape: ', x_train.shape)\n",
    "print('[Info.] x_test numpy shape: ', x_test.shape)\n",
    "print('[Info.] y_train numpy shape: ', y_train.shape)\n",
    "print('[Info.] y_test numpy shape: ', y_test.shape)"
   ]
  },
  {
   "cell_type": "code",
   "execution_count": 25,
   "metadata": {
    "scrolled": true
   },
   "outputs": [
    {
     "name": "stdout",
     "output_type": "stream",
     "text": [
      "(62, 27520)\n",
      "(16, 27520)\n"
     ]
    }
   ],
   "source": [
    "### SVM 적용위해 3차원 데이터 2차원으로 변경\n",
    "x_train = x_train.reshape(62, 27520)\n",
    "x_test = x_test.reshape(16, 27520)\n",
    "print(x_train.shape)\n",
    "print(x_test.shape)"
   ]
  },
  {
   "cell_type": "markdown",
   "metadata": {},
   "source": [
    "# SVM 적용"
   ]
  },
  {
   "cell_type": "code",
   "execution_count": 26,
   "metadata": {},
   "outputs": [],
   "source": [
    "features = x_train\n",
    "target = y_train"
   ]
  },
  {
   "cell_type": "code",
   "execution_count": 27,
   "metadata": {},
   "outputs": [],
   "source": [
    "from sklearn.svm import SVC\n",
    "from sklearn import svm, metrics\n",
    "import numpy as np\n",
    "import matplotlib.pyplot as plt\n",
    "\n",
    "svc = SVC(kernel = 'linear', C = 1)"
   ]
  },
  {
   "cell_type": "code",
   "execution_count": 28,
   "metadata": {},
   "outputs": [
    {
     "data": {
      "text/plain": [
       "SVC(C=1, kernel='linear')"
      ]
     },
     "execution_count": 28,
     "metadata": {},
     "output_type": "execute_result"
    }
   ],
   "source": [
    "svc.fit(features, target)"
   ]
  },
  {
   "cell_type": "code",
   "execution_count": 29,
   "metadata": {},
   "outputs": [
    {
     "name": "stdout",
     "output_type": "stream",
     "text": [
      "학습용 데이터로 측정한 정확도 = 0.87\n",
      "시험용 데이터로 측정한 정확도 = 0.88\n"
     ]
    }
   ],
   "source": [
    "# 정확도 계산.\n",
    "print('학습용 데이터로 측정한 정확도 = %.2f' % svc.score(x_train, y_train))\n",
    "print('시험용 데이터로 측정한 정확도 = %.2f' % svc.score(x_test, y_test))"
   ]
  },
  {
   "cell_type": "code",
   "execution_count": 30,
   "metadata": {
    "scrolled": true
   },
   "outputs": [
    {
     "data": {
      "text/plain": [
       "array([[31,  0],\n",
       "       [ 8, 23]])"
      ]
     },
     "execution_count": 30,
     "metadata": {},
     "output_type": "execute_result"
    }
   ],
   "source": [
    "from sklearn.metrics import confusion_matrix\n",
    "y_pred = svc.predict(features)\n",
    "confusion_matrix(target, y_pred)"
   ]
  },
  {
   "cell_type": "code",
   "execution_count": 31,
   "metadata": {},
   "outputs": [
    {
     "name": "stdout",
     "output_type": "stream",
     "text": [
      "정답률 =  0.875\n",
      "리포트 =\n",
      "               precision    recall  f1-score   support\n",
      "\n",
      "         0.0       0.88      0.88      0.88         8\n",
      "         1.0       0.88      0.88      0.88         8\n",
      "\n",
      "    accuracy                           0.88        16\n",
      "   macro avg       0.88      0.88      0.88        16\n",
      "weighted avg       0.88      0.88      0.88        16\n",
      "\n",
      "\n",
      "\n",
      "[[31  0]\n",
      " [ 8 23]]\n"
     ]
    }
   ],
   "source": [
    "# 모델 성능\n",
    "\n",
    "pre = svc.predict(x_test)\n",
    "\n",
    "ac_score = metrics.accuracy_score(y_test, pre)\n",
    "cl_report = metrics.classification_report(y_test, pre)\n",
    "print(\"정답률 = \",ac_score)\n",
    "print(\"리포트 =\\n\", cl_report)\n",
    "print('\\n')\n",
    "print(confusion_matrix(target, y_pred))"
   ]
  },
  {
   "cell_type": "code",
   "execution_count": 32,
   "metadata": {},
   "outputs": [],
   "source": [
    "# 필요 라이브러리 import\n",
    "import numpy as np\n",
    "import matplotlib.pyplot as plt\n",
    "from sklearn import svm"
   ]
  },
  {
   "cell_type": "markdown",
   "metadata": {},
   "source": [
    "## kernel SVM 적합 및 비교"
   ]
  },
  {
   "cell_type": "markdown",
   "metadata": {},
   "source": [
    "### LinearSVC"
   ]
  },
  {
   "cell_type": "code",
   "execution_count": 33,
   "metadata": {},
   "outputs": [
    {
     "name": "stderr",
     "output_type": "stream",
     "text": [
      "/home/wkchoi/anaconda3/lib/python3.8/site-packages/sklearn/svm/_base.py:1206: ConvergenceWarning: Liblinear failed to converge, increase the number of iterations.\n",
      "  warnings.warn(\n"
     ]
    },
    {
     "data": {
      "text/plain": [
       "array([[28,  3],\n",
       "       [ 9, 22]])"
      ]
     },
     "execution_count": 33,
     "metadata": {},
     "output_type": "execute_result"
    }
   ],
   "source": [
    "clf = svm.LinearSVC(C = 1)\n",
    "clf.fit(features, target)\n",
    "y_pred = clf.predict(features)\n",
    "confusion_matrix(target, y_pred)"
   ]
  },
  {
   "cell_type": "code",
   "execution_count": 34,
   "metadata": {},
   "outputs": [
    {
     "name": "stdout",
     "output_type": "stream",
     "text": [
      "학습용 데이터로 측정한 정확도 = 0.81\n",
      "시험용 데이터로 측정한 정확도 = 0.81\n"
     ]
    }
   ],
   "source": [
    "# 정확도 계산.\n",
    "print('학습용 데이터로 측정한 정확도 = %.2f' % clf.score(x_train, y_train))\n",
    "print('시험용 데이터로 측정한 정확도 = %.2f' % clf.score(x_test, y_test))"
   ]
  },
  {
   "cell_type": "markdown",
   "metadata": {},
   "source": [
    "### radial basis function (방사 기저 함수)"
   ]
  },
  {
   "cell_type": "code",
   "execution_count": 35,
   "metadata": {},
   "outputs": [
    {
     "data": {
      "text/plain": [
       "array([[31,  0],\n",
       "       [ 8, 23]])"
      ]
     },
     "execution_count": 35,
     "metadata": {},
     "output_type": "execute_result"
    }
   ],
   "source": [
    "# rbf 활용\n",
    "\n",
    "clf_r = svm.SVC(kernel = 'rbf', gamma = 0.7, C=1.0)    \n",
    "#gamma는 sigma^2에 해당하는 scale parameter\n",
    "#학습 반복횟수 10000\n",
    "\n",
    "clf_r.fit(features, target)\n",
    "y_pred = clf_r.predict(features)\n",
    "confusion_matrix(target, y_pred)"
   ]
  },
  {
   "cell_type": "code",
   "execution_count": 36,
   "metadata": {},
   "outputs": [
    {
     "name": "stdout",
     "output_type": "stream",
     "text": [
      "학습용 데이터로 측정한 정확도 = 0.87\n",
      "시험용 데이터로 측정한 정확도 = 0.75\n"
     ]
    }
   ],
   "source": [
    "# 정확도 계산.\n",
    "print('학습용 데이터로 측정한 정확도 = %.2f' % clf_r.score(x_train, y_train))\n",
    "print('시험용 데이터로 측정한 정확도 = %.2f' % clf_r.score(x_test, y_test))"
   ]
  },
  {
   "cell_type": "markdown",
   "metadata": {},
   "source": [
    "### polynomial kernel (다항식)"
   ]
  },
  {
   "cell_type": "code",
   "execution_count": 37,
   "metadata": {},
   "outputs": [
    {
     "data": {
      "text/plain": [
       "array([[ 8, 23],\n",
       "       [ 7, 24]])"
      ]
     },
     "execution_count": 37,
     "metadata": {},
     "output_type": "execute_result"
    }
   ],
   "source": [
    "### poly 커널 적용\n",
    "clf_p = svm.SVC(kernel = 'rbf',degree = 3, C = 0.1,gamma = 'auto')\n",
    "clf_p.fit(features, target)\n",
    "y_pred = clf_p.predict(features)\n",
    "confusion_matrix(target, y_pred)"
   ]
  },
  {
   "cell_type": "code",
   "execution_count": 38,
   "metadata": {},
   "outputs": [
    {
     "name": "stdout",
     "output_type": "stream",
     "text": [
      "학습용 데이터로 측정한 정확도 = 0.52\n",
      "시험용 데이터로 측정한 정확도 = 0.44\n"
     ]
    }
   ],
   "source": [
    "# 정확도 계산.\n",
    "print('학습용 데이터로 측정한 정확도 = %.2f' % clf_p.score(x_train, y_train))\n",
    "print('시험용 데이터로 측정한 정확도 = %.2f' % clf_p.score(x_test, y_test))"
   ]
  },
  {
   "cell_type": "markdown",
   "metadata": {},
   "source": [
    "# Grid Search"
   ]
  },
  {
   "cell_type": "code",
   "execution_count": 39,
   "metadata": {},
   "outputs": [],
   "source": [
    "import timeit\n",
    "import pandas as pd\n",
    "import numpy as np\n",
    "import matplotlib.pyplot as plt\n",
    "%matplotlib inline\n",
    "\n",
    "import tensorflow as tf\n",
    "from tensorflow.keras import models, layers, regularizers, optimizers\n",
    "from tensorflow.keras.callbacks import LearningRateScheduler\n",
    "from tensorflow.keras.models import load_model\n",
    "from tensorflow.keras.utils import to_categorical\n",
    "\n",
    "from sklearn.svm import SVC\n",
    "from sklearn import svm, metrics, model_selection\n",
    "from sklearn.metrics import confusion_matrix\n",
    "from sklearn.model_selection import GridSearchCV, KFold\n",
    "from sklearn.pipeline import Pipeline\n",
    "from sklearn.metrics.pairwise import rbf_kernel"
   ]
  },
  {
   "cell_type": "code",
   "execution_count": 40,
   "metadata": {},
   "outputs": [
    {
     "name": "stdout",
     "output_type": "stream",
     "text": [
      "Fitting 5 folds for each of 90 candidates, totalling 450 fits\n",
      "[CV 1/5] END ..C=1e-05, gamma=1e-05, kernel=rbf;, score=0.462 total time=   0.0s\n",
      "[CV 2/5] END ..C=1e-05, gamma=1e-05, kernel=rbf;, score=0.462 total time=   0.0s\n",
      "[CV 3/5] END ..C=1e-05, gamma=1e-05, kernel=rbf;, score=0.417 total time=   0.0s\n",
      "[CV 4/5] END ..C=1e-05, gamma=1e-05, kernel=rbf;, score=0.333 total time=   0.0s\n",
      "[CV 5/5] END ..C=1e-05, gamma=1e-05, kernel=rbf;, score=0.417 total time=   0.0s\n",
      "[CV 1/5] END .C=1e-05, gamma=0.0001, kernel=rbf;, score=0.462 total time=   0.0s\n",
      "[CV 2/5] END .C=1e-05, gamma=0.0001, kernel=rbf;, score=0.462 total time=   0.0s\n",
      "[CV 3/5] END .C=1e-05, gamma=0.0001, kernel=rbf;, score=0.417 total time=   0.0s\n",
      "[CV 4/5] END .C=1e-05, gamma=0.0001, kernel=rbf;, score=0.333 total time=   0.0s\n",
      "[CV 5/5] END .C=1e-05, gamma=0.0001, kernel=rbf;, score=0.417 total time=   0.0s\n",
      "[CV 1/5] END ..C=1e-05, gamma=0.001, kernel=rbf;, score=0.462 total time=   0.0s\n",
      "[CV 2/5] END ..C=1e-05, gamma=0.001, kernel=rbf;, score=0.462 total time=   0.0s\n",
      "[CV 3/5] END ..C=1e-05, gamma=0.001, kernel=rbf;, score=0.417 total time=   0.0s\n",
      "[CV 4/5] END ..C=1e-05, gamma=0.001, kernel=rbf;, score=0.333 total time=   0.0s\n",
      "[CV 5/5] END ..C=1e-05, gamma=0.001, kernel=rbf;, score=0.417 total time=   0.0s\n",
      "[CV 1/5] END ...C=1e-05, gamma=0.01, kernel=rbf;, score=0.462 total time=   0.0s\n",
      "[CV 2/5] END ...C=1e-05, gamma=0.01, kernel=rbf;, score=0.462 total time=   0.0s\n",
      "[CV 3/5] END ...C=1e-05, gamma=0.01, kernel=rbf;, score=0.417 total time=   0.0s\n",
      "[CV 4/5] END ...C=1e-05, gamma=0.01, kernel=rbf;, score=0.333 total time=   0.0s\n",
      "[CV 5/5] END ...C=1e-05, gamma=0.01, kernel=rbf;, score=0.417 total time=   0.0s\n",
      "[CV 1/5] END ....C=1e-05, gamma=0.1, kernel=rbf;, score=0.462 total time=   0.0s\n",
      "[CV 2/5] END ....C=1e-05, gamma=0.1, kernel=rbf;, score=0.462 total time=   0.0s\n",
      "[CV 3/5] END ....C=1e-05, gamma=0.1, kernel=rbf;, score=0.417 total time=   0.0s\n",
      "[CV 4/5] END ....C=1e-05, gamma=0.1, kernel=rbf;, score=0.333 total time=   0.0s\n",
      "[CV 5/5] END ....C=1e-05, gamma=0.1, kernel=rbf;, score=0.417 total time=   0.0s\n",
      "[CV 1/5] END ......C=1e-05, gamma=1, kernel=rbf;, score=0.462 total time=   0.0s\n",
      "[CV 2/5] END ......C=1e-05, gamma=1, kernel=rbf;, score=0.462 total time=   0.0s\n",
      "[CV 3/5] END ......C=1e-05, gamma=1, kernel=rbf;, score=0.417 total time=   0.0s\n",
      "[CV 4/5] END ......C=1e-05, gamma=1, kernel=rbf;, score=0.333 total time=   0.0s\n",
      "[CV 5/5] END ......C=1e-05, gamma=1, kernel=rbf;, score=0.417 total time=   0.0s\n",
      "[CV 1/5] END .....C=1e-05, gamma=10, kernel=rbf;, score=0.462 total time=   0.0s\n",
      "[CV 2/5] END .....C=1e-05, gamma=10, kernel=rbf;, score=0.462 total time=   0.0s\n",
      "[CV 3/5] END .....C=1e-05, gamma=10, kernel=rbf;, score=0.417 total time=   0.0s\n",
      "[CV 4/5] END .....C=1e-05, gamma=10, kernel=rbf;, score=0.333 total time=   0.0s\n",
      "[CV 5/5] END .....C=1e-05, gamma=10, kernel=rbf;, score=0.417 total time=   0.0s\n",
      "[CV 1/5] END ....C=1e-05, gamma=100, kernel=rbf;, score=0.462 total time=   0.0s\n",
      "[CV 2/5] END ....C=1e-05, gamma=100, kernel=rbf;, score=0.462 total time=   0.0s\n",
      "[CV 3/5] END ....C=1e-05, gamma=100, kernel=rbf;, score=0.417 total time=   0.0s\n",
      "[CV 4/5] END ....C=1e-05, gamma=100, kernel=rbf;, score=0.333 total time=   0.0s\n",
      "[CV 5/5] END ....C=1e-05, gamma=100, kernel=rbf;, score=0.417 total time=   0.0s\n",
      "[CV 1/5] END ...C=1e-05, gamma=1000, kernel=rbf;, score=0.462 total time=   0.0s\n",
      "[CV 2/5] END ...C=1e-05, gamma=1000, kernel=rbf;, score=0.462 total time=   0.0s\n",
      "[CV 3/5] END ...C=1e-05, gamma=1000, kernel=rbf;, score=0.417 total time=   0.0s\n",
      "[CV 4/5] END ...C=1e-05, gamma=1000, kernel=rbf;, score=0.333 total time=   0.0s\n",
      "[CV 5/5] END ...C=1e-05, gamma=1000, kernel=rbf;, score=0.417 total time=   0.0s\n",
      "[CV 1/5] END .C=0.0001, gamma=1e-05, kernel=rbf;, score=0.462 total time=   0.0s\n",
      "[CV 2/5] END .C=0.0001, gamma=1e-05, kernel=rbf;, score=0.462 total time=   0.0s\n",
      "[CV 3/5] END .C=0.0001, gamma=1e-05, kernel=rbf;, score=0.417 total time=   0.0s\n",
      "[CV 4/5] END .C=0.0001, gamma=1e-05, kernel=rbf;, score=0.333 total time=   0.0s\n",
      "[CV 5/5] END .C=0.0001, gamma=1e-05, kernel=rbf;, score=0.417 total time=   0.0s\n",
      "[CV 1/5] END C=0.0001, gamma=0.0001, kernel=rbf;, score=0.462 total time=   0.0s\n",
      "[CV 2/5] END C=0.0001, gamma=0.0001, kernel=rbf;, score=0.462 total time=   0.0s\n",
      "[CV 3/5] END C=0.0001, gamma=0.0001, kernel=rbf;, score=0.417 total time=   0.0s\n",
      "[CV 4/5] END C=0.0001, gamma=0.0001, kernel=rbf;, score=0.333 total time=   0.0s\n",
      "[CV 5/5] END C=0.0001, gamma=0.0001, kernel=rbf;, score=0.417 total time=   0.0s\n",
      "[CV 1/5] END .C=0.0001, gamma=0.001, kernel=rbf;, score=0.462 total time=   0.0s\n",
      "[CV 2/5] END .C=0.0001, gamma=0.001, kernel=rbf;, score=0.462 total time=   0.0s\n",
      "[CV 3/5] END .C=0.0001, gamma=0.001, kernel=rbf;, score=0.417 total time=   0.0s\n",
      "[CV 4/5] END .C=0.0001, gamma=0.001, kernel=rbf;, score=0.333 total time=   0.0s\n",
      "[CV 5/5] END .C=0.0001, gamma=0.001, kernel=rbf;, score=0.417 total time=   0.0s\n",
      "[CV 1/5] END ..C=0.0001, gamma=0.01, kernel=rbf;, score=0.462 total time=   0.0s\n",
      "[CV 2/5] END ..C=0.0001, gamma=0.01, kernel=rbf;, score=0.462 total time=   0.0s\n",
      "[CV 3/5] END ..C=0.0001, gamma=0.01, kernel=rbf;, score=0.417 total time=   0.0s\n",
      "[CV 4/5] END ..C=0.0001, gamma=0.01, kernel=rbf;, score=0.333 total time=   0.0s\n",
      "[CV 5/5] END ..C=0.0001, gamma=0.01, kernel=rbf;, score=0.417 total time=   0.0s\n",
      "[CV 1/5] END ...C=0.0001, gamma=0.1, kernel=rbf;, score=0.462 total time=   0.0s\n",
      "[CV 2/5] END ...C=0.0001, gamma=0.1, kernel=rbf;, score=0.462 total time=   0.0s\n",
      "[CV 3/5] END ...C=0.0001, gamma=0.1, kernel=rbf;, score=0.417 total time=   0.0s\n",
      "[CV 4/5] END ...C=0.0001, gamma=0.1, kernel=rbf;, score=0.333 total time=   0.0s\n",
      "[CV 5/5] END ...C=0.0001, gamma=0.1, kernel=rbf;, score=0.417 total time=   0.0s\n",
      "[CV 1/5] END .....C=0.0001, gamma=1, kernel=rbf;, score=0.462 total time=   0.0s\n",
      "[CV 2/5] END .....C=0.0001, gamma=1, kernel=rbf;, score=0.462 total time=   0.0s\n",
      "[CV 3/5] END .....C=0.0001, gamma=1, kernel=rbf;, score=0.417 total time=   0.0s\n",
      "[CV 4/5] END .....C=0.0001, gamma=1, kernel=rbf;, score=0.333 total time=   0.0s\n",
      "[CV 5/5] END .....C=0.0001, gamma=1, kernel=rbf;, score=0.417 total time=   0.0s\n",
      "[CV 1/5] END ....C=0.0001, gamma=10, kernel=rbf;, score=0.462 total time=   0.0s\n",
      "[CV 2/5] END ....C=0.0001, gamma=10, kernel=rbf;, score=0.462 total time=   0.0s\n",
      "[CV 3/5] END ....C=0.0001, gamma=10, kernel=rbf;, score=0.417 total time=   0.0s\n",
      "[CV 4/5] END ....C=0.0001, gamma=10, kernel=rbf;, score=0.333 total time=   0.0s\n",
      "[CV 5/5] END ....C=0.0001, gamma=10, kernel=rbf;, score=0.417 total time=   0.0s\n",
      "[CV 1/5] END ...C=0.0001, gamma=100, kernel=rbf;, score=0.462 total time=   0.0s\n",
      "[CV 2/5] END ...C=0.0001, gamma=100, kernel=rbf;, score=0.462 total time=   0.0s\n",
      "[CV 3/5] END ...C=0.0001, gamma=100, kernel=rbf;, score=0.417 total time=   0.0s\n",
      "[CV 4/5] END ...C=0.0001, gamma=100, kernel=rbf;, score=0.333 total time=   0.0s\n",
      "[CV 5/5] END ...C=0.0001, gamma=100, kernel=rbf;, score=0.417 total time=   0.0s\n",
      "[CV 1/5] END ..C=0.0001, gamma=1000, kernel=rbf;, score=0.462 total time=   0.0s\n",
      "[CV 2/5] END ..C=0.0001, gamma=1000, kernel=rbf;, score=0.462 total time=   0.0s\n",
      "[CV 3/5] END ..C=0.0001, gamma=1000, kernel=rbf;, score=0.417 total time=   0.0s\n",
      "[CV 4/5] END ..C=0.0001, gamma=1000, kernel=rbf;, score=0.333 total time=   0.0s\n",
      "[CV 5/5] END ..C=0.0001, gamma=1000, kernel=rbf;, score=0.417 total time=   0.0s\n",
      "[CV 1/5] END ..C=0.001, gamma=1e-05, kernel=rbf;, score=0.462 total time=   0.0s\n",
      "[CV 2/5] END ..C=0.001, gamma=1e-05, kernel=rbf;, score=0.462 total time=   0.0s\n",
      "[CV 3/5] END ..C=0.001, gamma=1e-05, kernel=rbf;, score=0.417 total time=   0.0s\n",
      "[CV 4/5] END ..C=0.001, gamma=1e-05, kernel=rbf;, score=0.333 total time=   0.0s\n",
      "[CV 5/5] END ..C=0.001, gamma=1e-05, kernel=rbf;, score=0.417 total time=   0.0s\n",
      "[CV 1/5] END .C=0.001, gamma=0.0001, kernel=rbf;, score=0.462 total time=   0.0s\n",
      "[CV 2/5] END .C=0.001, gamma=0.0001, kernel=rbf;, score=0.462 total time=   0.0s\n",
      "[CV 3/5] END .C=0.001, gamma=0.0001, kernel=rbf;, score=0.417 total time=   0.0s\n",
      "[CV 4/5] END .C=0.001, gamma=0.0001, kernel=rbf;, score=0.333 total time=   0.0s\n",
      "[CV 5/5] END .C=0.001, gamma=0.0001, kernel=rbf;, score=0.417 total time=   0.0s\n",
      "[CV 1/5] END ..C=0.001, gamma=0.001, kernel=rbf;, score=0.462 total time=   0.0s\n",
      "[CV 2/5] END ..C=0.001, gamma=0.001, kernel=rbf;, score=0.462 total time=   0.0s\n",
      "[CV 3/5] END ..C=0.001, gamma=0.001, kernel=rbf;, score=0.417 total time=   0.0s\n",
      "[CV 4/5] END ..C=0.001, gamma=0.001, kernel=rbf;, score=0.333 total time=   0.0s\n",
      "[CV 5/5] END ..C=0.001, gamma=0.001, kernel=rbf;, score=0.417 total time=   0.0s\n",
      "[CV 1/5] END ...C=0.001, gamma=0.01, kernel=rbf;, score=0.462 total time=   0.0s\n",
      "[CV 2/5] END ...C=0.001, gamma=0.01, kernel=rbf;, score=0.462 total time=   0.0s\n"
     ]
    },
    {
     "name": "stdout",
     "output_type": "stream",
     "text": [
      "[CV 3/5] END ...C=0.001, gamma=0.01, kernel=rbf;, score=0.417 total time=   0.0s\n",
      "[CV 4/5] END ...C=0.001, gamma=0.01, kernel=rbf;, score=0.333 total time=   0.0s\n",
      "[CV 5/5] END ...C=0.001, gamma=0.01, kernel=rbf;, score=0.417 total time=   0.0s\n",
      "[CV 1/5] END ....C=0.001, gamma=0.1, kernel=rbf;, score=0.462 total time=   0.0s\n",
      "[CV 2/5] END ....C=0.001, gamma=0.1, kernel=rbf;, score=0.462 total time=   0.0s\n",
      "[CV 3/5] END ....C=0.001, gamma=0.1, kernel=rbf;, score=0.417 total time=   0.0s\n",
      "[CV 4/5] END ....C=0.001, gamma=0.1, kernel=rbf;, score=0.333 total time=   0.0s\n",
      "[CV 5/5] END ....C=0.001, gamma=0.1, kernel=rbf;, score=0.417 total time=   0.0s\n",
      "[CV 1/5] END ......C=0.001, gamma=1, kernel=rbf;, score=0.462 total time=   0.0s\n",
      "[CV 2/5] END ......C=0.001, gamma=1, kernel=rbf;, score=0.462 total time=   0.0s\n",
      "[CV 3/5] END ......C=0.001, gamma=1, kernel=rbf;, score=0.417 total time=   0.0s\n",
      "[CV 4/5] END ......C=0.001, gamma=1, kernel=rbf;, score=0.333 total time=   0.0s\n",
      "[CV 5/5] END ......C=0.001, gamma=1, kernel=rbf;, score=0.417 total time=   0.0s\n",
      "[CV 1/5] END .....C=0.001, gamma=10, kernel=rbf;, score=0.462 total time=   0.0s\n",
      "[CV 2/5] END .....C=0.001, gamma=10, kernel=rbf;, score=0.462 total time=   0.0s\n",
      "[CV 3/5] END .....C=0.001, gamma=10, kernel=rbf;, score=0.417 total time=   0.0s\n",
      "[CV 4/5] END .....C=0.001, gamma=10, kernel=rbf;, score=0.333 total time=   0.0s\n",
      "[CV 5/5] END .....C=0.001, gamma=10, kernel=rbf;, score=0.417 total time=   0.0s\n",
      "[CV 1/5] END ....C=0.001, gamma=100, kernel=rbf;, score=0.462 total time=   0.0s\n",
      "[CV 2/5] END ....C=0.001, gamma=100, kernel=rbf;, score=0.462 total time=   0.0s\n",
      "[CV 3/5] END ....C=0.001, gamma=100, kernel=rbf;, score=0.417 total time=   0.0s\n",
      "[CV 4/5] END ....C=0.001, gamma=100, kernel=rbf;, score=0.333 total time=   0.0s\n",
      "[CV 5/5] END ....C=0.001, gamma=100, kernel=rbf;, score=0.417 total time=   0.0s\n",
      "[CV 1/5] END ...C=0.001, gamma=1000, kernel=rbf;, score=0.462 total time=   0.0s\n",
      "[CV 2/5] END ...C=0.001, gamma=1000, kernel=rbf;, score=0.462 total time=   0.0s\n",
      "[CV 3/5] END ...C=0.001, gamma=1000, kernel=rbf;, score=0.417 total time=   0.0s\n",
      "[CV 4/5] END ...C=0.001, gamma=1000, kernel=rbf;, score=0.333 total time=   0.0s\n",
      "[CV 5/5] END ...C=0.001, gamma=1000, kernel=rbf;, score=0.417 total time=   0.0s\n",
      "[CV 1/5] END ...C=0.01, gamma=1e-05, kernel=rbf;, score=0.462 total time=   0.0s\n",
      "[CV 2/5] END ...C=0.01, gamma=1e-05, kernel=rbf;, score=0.462 total time=   0.0s\n",
      "[CV 3/5] END ...C=0.01, gamma=1e-05, kernel=rbf;, score=0.417 total time=   0.0s\n",
      "[CV 4/5] END ...C=0.01, gamma=1e-05, kernel=rbf;, score=0.333 total time=   0.0s\n",
      "[CV 5/5] END ...C=0.01, gamma=1e-05, kernel=rbf;, score=0.417 total time=   0.0s\n",
      "[CV 1/5] END ..C=0.01, gamma=0.0001, kernel=rbf;, score=0.462 total time=   0.0s\n",
      "[CV 2/5] END ..C=0.01, gamma=0.0001, kernel=rbf;, score=0.462 total time=   0.0s\n",
      "[CV 3/5] END ..C=0.01, gamma=0.0001, kernel=rbf;, score=0.417 total time=   0.0s\n",
      "[CV 4/5] END ..C=0.01, gamma=0.0001, kernel=rbf;, score=0.333 total time=   0.0s\n",
      "[CV 5/5] END ..C=0.01, gamma=0.0001, kernel=rbf;, score=0.417 total time=   0.0s\n",
      "[CV 1/5] END ...C=0.01, gamma=0.001, kernel=rbf;, score=0.462 total time=   0.0s\n",
      "[CV 2/5] END ...C=0.01, gamma=0.001, kernel=rbf;, score=0.462 total time=   0.0s\n",
      "[CV 3/5] END ...C=0.01, gamma=0.001, kernel=rbf;, score=0.417 total time=   0.0s\n",
      "[CV 4/5] END ...C=0.01, gamma=0.001, kernel=rbf;, score=0.333 total time=   0.0s\n",
      "[CV 5/5] END ...C=0.01, gamma=0.001, kernel=rbf;, score=0.417 total time=   0.0s\n",
      "[CV 1/5] END ....C=0.01, gamma=0.01, kernel=rbf;, score=0.462 total time=   0.0s\n",
      "[CV 2/5] END ....C=0.01, gamma=0.01, kernel=rbf;, score=0.462 total time=   0.0s\n",
      "[CV 3/5] END ....C=0.01, gamma=0.01, kernel=rbf;, score=0.417 total time=   0.0s\n",
      "[CV 4/5] END ....C=0.01, gamma=0.01, kernel=rbf;, score=0.333 total time=   0.0s\n",
      "[CV 5/5] END ....C=0.01, gamma=0.01, kernel=rbf;, score=0.417 total time=   0.0s\n",
      "[CV 1/5] END .....C=0.01, gamma=0.1, kernel=rbf;, score=0.462 total time=   0.0s\n",
      "[CV 2/5] END .....C=0.01, gamma=0.1, kernel=rbf;, score=0.462 total time=   0.0s\n",
      "[CV 3/5] END .....C=0.01, gamma=0.1, kernel=rbf;, score=0.417 total time=   0.0s\n",
      "[CV 4/5] END .....C=0.01, gamma=0.1, kernel=rbf;, score=0.333 total time=   0.0s\n",
      "[CV 5/5] END .....C=0.01, gamma=0.1, kernel=rbf;, score=0.417 total time=   0.0s\n",
      "[CV 1/5] END .......C=0.01, gamma=1, kernel=rbf;, score=0.462 total time=   0.0s\n",
      "[CV 2/5] END .......C=0.01, gamma=1, kernel=rbf;, score=0.462 total time=   0.0s\n",
      "[CV 3/5] END .......C=0.01, gamma=1, kernel=rbf;, score=0.417 total time=   0.0s\n",
      "[CV 4/5] END .......C=0.01, gamma=1, kernel=rbf;, score=0.333 total time=   0.0s\n",
      "[CV 5/5] END .......C=0.01, gamma=1, kernel=rbf;, score=0.417 total time=   0.0s\n",
      "[CV 1/5] END ......C=0.01, gamma=10, kernel=rbf;, score=0.462 total time=   0.0s\n",
      "[CV 2/5] END ......C=0.01, gamma=10, kernel=rbf;, score=0.462 total time=   0.0s\n",
      "[CV 3/5] END ......C=0.01, gamma=10, kernel=rbf;, score=0.417 total time=   0.0s\n",
      "[CV 4/5] END ......C=0.01, gamma=10, kernel=rbf;, score=0.333 total time=   0.0s\n",
      "[CV 5/5] END ......C=0.01, gamma=10, kernel=rbf;, score=0.417 total time=   0.0s\n",
      "[CV 1/5] END .....C=0.01, gamma=100, kernel=rbf;, score=0.462 total time=   0.0s\n",
      "[CV 2/5] END .....C=0.01, gamma=100, kernel=rbf;, score=0.462 total time=   0.0s\n",
      "[CV 3/5] END .....C=0.01, gamma=100, kernel=rbf;, score=0.417 total time=   0.0s\n",
      "[CV 4/5] END .....C=0.01, gamma=100, kernel=rbf;, score=0.333 total time=   0.0s\n",
      "[CV 5/5] END .....C=0.01, gamma=100, kernel=rbf;, score=0.417 total time=   0.0s\n",
      "[CV 1/5] END ....C=0.01, gamma=1000, kernel=rbf;, score=0.462 total time=   0.0s\n",
      "[CV 2/5] END ....C=0.01, gamma=1000, kernel=rbf;, score=0.462 total time=   0.0s\n",
      "[CV 3/5] END ....C=0.01, gamma=1000, kernel=rbf;, score=0.417 total time=   0.0s\n",
      "[CV 4/5] END ....C=0.01, gamma=1000, kernel=rbf;, score=0.333 total time=   0.0s\n",
      "[CV 5/5] END ....C=0.01, gamma=1000, kernel=rbf;, score=0.417 total time=   0.0s\n",
      "[CV 1/5] END ....C=0.1, gamma=1e-05, kernel=rbf;, score=0.462 total time=   0.0s\n",
      "[CV 2/5] END ....C=0.1, gamma=1e-05, kernel=rbf;, score=0.462 total time=   0.0s\n",
      "[CV 3/5] END ....C=0.1, gamma=1e-05, kernel=rbf;, score=0.417 total time=   0.0s\n",
      "[CV 4/5] END ....C=0.1, gamma=1e-05, kernel=rbf;, score=0.333 total time=   0.0s\n",
      "[CV 5/5] END ....C=0.1, gamma=1e-05, kernel=rbf;, score=0.417 total time=   0.0s\n",
      "[CV 1/5] END ...C=0.1, gamma=0.0001, kernel=rbf;, score=0.462 total time=   0.0s\n",
      "[CV 2/5] END ...C=0.1, gamma=0.0001, kernel=rbf;, score=0.462 total time=   0.0s\n",
      "[CV 3/5] END ...C=0.1, gamma=0.0001, kernel=rbf;, score=0.417 total time=   0.0s\n",
      "[CV 4/5] END ...C=0.1, gamma=0.0001, kernel=rbf;, score=0.333 total time=   0.0s\n",
      "[CV 5/5] END ...C=0.1, gamma=0.0001, kernel=rbf;, score=0.417 total time=   0.0s\n",
      "[CV 1/5] END ....C=0.1, gamma=0.001, kernel=rbf;, score=0.462 total time=   0.0s\n",
      "[CV 2/5] END ....C=0.1, gamma=0.001, kernel=rbf;, score=0.462 total time=   0.0s\n",
      "[CV 3/5] END ....C=0.1, gamma=0.001, kernel=rbf;, score=0.417 total time=   0.0s\n",
      "[CV 4/5] END ....C=0.1, gamma=0.001, kernel=rbf;, score=0.333 total time=   0.0s\n",
      "[CV 5/5] END ....C=0.1, gamma=0.001, kernel=rbf;, score=0.417 total time=   0.0s\n",
      "[CV 1/5] END .....C=0.1, gamma=0.01, kernel=rbf;, score=0.615 total time=   0.0s\n",
      "[CV 2/5] END .....C=0.1, gamma=0.01, kernel=rbf;, score=0.615 total time=   0.0s\n",
      "[CV 3/5] END .....C=0.1, gamma=0.01, kernel=rbf;, score=0.417 total time=   0.0s\n",
      "[CV 4/5] END .....C=0.1, gamma=0.01, kernel=rbf;, score=0.333 total time=   0.0s\n",
      "[CV 5/5] END .....C=0.1, gamma=0.01, kernel=rbf;, score=0.417 total time=   0.0s\n",
      "[CV 1/5] END ......C=0.1, gamma=0.1, kernel=rbf;, score=0.462 total time=   0.0s\n",
      "[CV 2/5] END ......C=0.1, gamma=0.1, kernel=rbf;, score=0.615 total time=   0.0s\n",
      "[CV 3/5] END ......C=0.1, gamma=0.1, kernel=rbf;, score=0.417 total time=   0.0s\n",
      "[CV 4/5] END ......C=0.1, gamma=0.1, kernel=rbf;, score=0.333 total time=   0.0s\n",
      "[CV 5/5] END ......C=0.1, gamma=0.1, kernel=rbf;, score=0.417 total time=   0.0s\n",
      "[CV 1/5] END ........C=0.1, gamma=1, kernel=rbf;, score=0.462 total time=   0.0s\n",
      "[CV 2/5] END ........C=0.1, gamma=1, kernel=rbf;, score=0.462 total time=   0.0s\n",
      "[CV 3/5] END ........C=0.1, gamma=1, kernel=rbf;, score=0.417 total time=   0.0s\n",
      "[CV 4/5] END ........C=0.1, gamma=1, kernel=rbf;, score=0.333 total time=   0.0s\n"
     ]
    },
    {
     "name": "stdout",
     "output_type": "stream",
     "text": [
      "[CV 5/5] END ........C=0.1, gamma=1, kernel=rbf;, score=0.417 total time=   0.0s\n",
      "[CV 1/5] END .......C=0.1, gamma=10, kernel=rbf;, score=0.462 total time=   0.0s\n",
      "[CV 2/5] END .......C=0.1, gamma=10, kernel=rbf;, score=0.462 total time=   0.0s\n",
      "[CV 3/5] END .......C=0.1, gamma=10, kernel=rbf;, score=0.417 total time=   0.0s\n",
      "[CV 4/5] END .......C=0.1, gamma=10, kernel=rbf;, score=0.333 total time=   0.0s\n",
      "[CV 5/5] END .......C=0.1, gamma=10, kernel=rbf;, score=0.417 total time=   0.0s\n",
      "[CV 1/5] END ......C=0.1, gamma=100, kernel=rbf;, score=0.462 total time=   0.0s\n",
      "[CV 2/5] END ......C=0.1, gamma=100, kernel=rbf;, score=0.462 total time=   0.0s\n",
      "[CV 3/5] END ......C=0.1, gamma=100, kernel=rbf;, score=0.417 total time=   0.0s\n",
      "[CV 4/5] END ......C=0.1, gamma=100, kernel=rbf;, score=0.333 total time=   0.0s\n",
      "[CV 5/5] END ......C=0.1, gamma=100, kernel=rbf;, score=0.417 total time=   0.0s\n",
      "[CV 1/5] END .....C=0.1, gamma=1000, kernel=rbf;, score=0.462 total time=   0.0s\n",
      "[CV 2/5] END .....C=0.1, gamma=1000, kernel=rbf;, score=0.462 total time=   0.0s\n",
      "[CV 3/5] END .....C=0.1, gamma=1000, kernel=rbf;, score=0.417 total time=   0.0s\n",
      "[CV 4/5] END .....C=0.1, gamma=1000, kernel=rbf;, score=0.333 total time=   0.0s\n",
      "[CV 5/5] END .....C=0.1, gamma=1000, kernel=rbf;, score=0.417 total time=   0.0s\n",
      "[CV 1/5] END ......C=1, gamma=1e-05, kernel=rbf;, score=0.462 total time=   0.0s\n",
      "[CV 2/5] END ......C=1, gamma=1e-05, kernel=rbf;, score=0.462 total time=   0.0s\n",
      "[CV 3/5] END ......C=1, gamma=1e-05, kernel=rbf;, score=0.417 total time=   0.0s\n",
      "[CV 4/5] END ......C=1, gamma=1e-05, kernel=rbf;, score=0.333 total time=   0.0s\n",
      "[CV 5/5] END ......C=1, gamma=1e-05, kernel=rbf;, score=0.417 total time=   0.0s\n",
      "[CV 1/5] END .....C=1, gamma=0.0001, kernel=rbf;, score=0.615 total time=   0.0s\n",
      "[CV 2/5] END .....C=1, gamma=0.0001, kernel=rbf;, score=0.462 total time=   0.0s\n",
      "[CV 3/5] END .....C=1, gamma=0.0001, kernel=rbf;, score=0.583 total time=   0.0s\n",
      "[CV 4/5] END .....C=1, gamma=0.0001, kernel=rbf;, score=0.333 total time=   0.0s\n",
      "[CV 5/5] END .....C=1, gamma=0.0001, kernel=rbf;, score=0.500 total time=   0.0s\n",
      "[CV 1/5] END ......C=1, gamma=0.001, kernel=rbf;, score=0.615 total time=   0.0s\n",
      "[CV 2/5] END ......C=1, gamma=0.001, kernel=rbf;, score=0.692 total time=   0.0s\n",
      "[CV 3/5] END ......C=1, gamma=0.001, kernel=rbf;, score=0.750 total time=   0.0s\n",
      "[CV 4/5] END ......C=1, gamma=0.001, kernel=rbf;, score=0.667 total time=   0.0s\n",
      "[CV 5/5] END ......C=1, gamma=0.001, kernel=rbf;, score=0.583 total time=   0.0s\n",
      "[CV 1/5] END .......C=1, gamma=0.01, kernel=rbf;, score=0.615 total time=   0.0s\n",
      "[CV 2/5] END .......C=1, gamma=0.01, kernel=rbf;, score=0.692 total time=   0.0s\n",
      "[CV 3/5] END .......C=1, gamma=0.01, kernel=rbf;, score=0.750 total time=   0.0s\n",
      "[CV 4/5] END .......C=1, gamma=0.01, kernel=rbf;, score=0.667 total time=   0.0s\n",
      "[CV 5/5] END .......C=1, gamma=0.01, kernel=rbf;, score=0.583 total time=   0.0s\n",
      "[CV 1/5] END ........C=1, gamma=0.1, kernel=rbf;, score=0.923 total time=   0.0s\n",
      "[CV 2/5] END ........C=1, gamma=0.1, kernel=rbf;, score=0.923 total time=   0.0s\n",
      "[CV 3/5] END ........C=1, gamma=0.1, kernel=rbf;, score=0.917 total time=   0.0s\n",
      "[CV 4/5] END ........C=1, gamma=0.1, kernel=rbf;, score=0.833 total time=   0.0s\n",
      "[CV 5/5] END ........C=1, gamma=0.1, kernel=rbf;, score=0.750 total time=   0.0s\n",
      "[CV 1/5] END ..........C=1, gamma=1, kernel=rbf;, score=0.846 total time=   0.0s\n",
      "[CV 2/5] END ..........C=1, gamma=1, kernel=rbf;, score=0.769 total time=   0.0s\n",
      "[CV 3/5] END ..........C=1, gamma=1, kernel=rbf;, score=0.750 total time=   0.0s\n",
      "[CV 4/5] END ..........C=1, gamma=1, kernel=rbf;, score=0.833 total time=   0.0s\n",
      "[CV 5/5] END ..........C=1, gamma=1, kernel=rbf;, score=0.583 total time=   0.0s\n",
      "[CV 1/5] END .........C=1, gamma=10, kernel=rbf;, score=0.846 total time=   0.0s\n",
      "[CV 2/5] END .........C=1, gamma=10, kernel=rbf;, score=0.692 total time=   0.0s\n",
      "[CV 3/5] END .........C=1, gamma=10, kernel=rbf;, score=0.583 total time=   0.0s\n",
      "[CV 4/5] END .........C=1, gamma=10, kernel=rbf;, score=0.417 total time=   0.0s\n",
      "[CV 5/5] END .........C=1, gamma=10, kernel=rbf;, score=0.500 total time=   0.0s\n",
      "[CV 1/5] END ........C=1, gamma=100, kernel=rbf;, score=0.462 total time=   0.0s\n",
      "[CV 2/5] END ........C=1, gamma=100, kernel=rbf;, score=0.462 total time=   0.0s\n",
      "[CV 3/5] END ........C=1, gamma=100, kernel=rbf;, score=0.333 total time=   0.0s\n",
      "[CV 4/5] END ........C=1, gamma=100, kernel=rbf;, score=0.333 total time=   0.0s\n",
      "[CV 5/5] END ........C=1, gamma=100, kernel=rbf;, score=0.500 total time=   0.0s\n",
      "[CV 1/5] END .......C=1, gamma=1000, kernel=rbf;, score=0.538 total time=   0.0s\n",
      "[CV 2/5] END .......C=1, gamma=1000, kernel=rbf;, score=0.462 total time=   0.0s\n",
      "[CV 3/5] END .......C=1, gamma=1000, kernel=rbf;, score=0.333 total time=   0.0s\n",
      "[CV 4/5] END .......C=1, gamma=1000, kernel=rbf;, score=0.333 total time=   0.0s\n",
      "[CV 5/5] END .......C=1, gamma=1000, kernel=rbf;, score=0.500 total time=   0.0s\n",
      "[CV 1/5] END .....C=10, gamma=1e-05, kernel=rbf;, score=0.538 total time=   0.0s\n",
      "[CV 2/5] END .....C=10, gamma=1e-05, kernel=rbf;, score=0.462 total time=   0.0s\n",
      "[CV 3/5] END .....C=10, gamma=1e-05, kernel=rbf;, score=0.583 total time=   0.0s\n",
      "[CV 4/5] END .....C=10, gamma=1e-05, kernel=rbf;, score=0.333 total time=   0.0s\n",
      "[CV 5/5] END .....C=10, gamma=1e-05, kernel=rbf;, score=0.500 total time=   0.0s\n",
      "[CV 1/5] END ....C=10, gamma=0.0001, kernel=rbf;, score=0.615 total time=   0.0s\n",
      "[CV 2/5] END ....C=10, gamma=0.0001, kernel=rbf;, score=0.692 total time=   0.0s\n",
      "[CV 3/5] END ....C=10, gamma=0.0001, kernel=rbf;, score=0.750 total time=   0.0s\n",
      "[CV 4/5] END ....C=10, gamma=0.0001, kernel=rbf;, score=0.667 total time=   0.0s\n",
      "[CV 5/5] END ....C=10, gamma=0.0001, kernel=rbf;, score=0.500 total time=   0.0s\n",
      "[CV 1/5] END .....C=10, gamma=0.001, kernel=rbf;, score=0.615 total time=   0.0s\n",
      "[CV 2/5] END .....C=10, gamma=0.001, kernel=rbf;, score=0.692 total time=   0.0s\n",
      "[CV 3/5] END .....C=10, gamma=0.001, kernel=rbf;, score=0.750 total time=   0.0s\n",
      "[CV 4/5] END .....C=10, gamma=0.001, kernel=rbf;, score=0.667 total time=   0.0s\n",
      "[CV 5/5] END .....C=10, gamma=0.001, kernel=rbf;, score=0.583 total time=   0.0s\n",
      "[CV 1/5] END ......C=10, gamma=0.01, kernel=rbf;, score=0.923 total time=   0.0s\n",
      "[CV 2/5] END ......C=10, gamma=0.01, kernel=rbf;, score=0.923 total time=   0.0s\n",
      "[CV 3/5] END ......C=10, gamma=0.01, kernel=rbf;, score=0.917 total time=   0.0s\n",
      "[CV 4/5] END ......C=10, gamma=0.01, kernel=rbf;, score=0.833 total time=   0.0s\n",
      "[CV 5/5] END ......C=10, gamma=0.01, kernel=rbf;, score=0.750 total time=   0.0s\n",
      "[CV 1/5] END .......C=10, gamma=0.1, kernel=rbf;, score=0.923 total time=   0.0s\n",
      "[CV 2/5] END .......C=10, gamma=0.1, kernel=rbf;, score=0.923 total time=   0.0s\n",
      "[CV 3/5] END .......C=10, gamma=0.1, kernel=rbf;, score=0.917 total time=   0.0s\n",
      "[CV 4/5] END .......C=10, gamma=0.1, kernel=rbf;, score=0.833 total time=   0.0s\n",
      "[CV 5/5] END .......C=10, gamma=0.1, kernel=rbf;, score=0.750 total time=   0.0s\n",
      "[CV 1/5] END .........C=10, gamma=1, kernel=rbf;, score=0.846 total time=   0.0s\n",
      "[CV 2/5] END .........C=10, gamma=1, kernel=rbf;, score=0.769 total time=   0.0s\n",
      "[CV 3/5] END .........C=10, gamma=1, kernel=rbf;, score=0.750 total time=   0.0s\n",
      "[CV 4/5] END .........C=10, gamma=1, kernel=rbf;, score=0.833 total time=   0.0s\n",
      "[CV 5/5] END .........C=10, gamma=1, kernel=rbf;, score=0.583 total time=   0.0s\n",
      "[CV 1/5] END ........C=10, gamma=10, kernel=rbf;, score=0.462 total time=   0.0s\n",
      "[CV 2/5] END ........C=10, gamma=10, kernel=rbf;, score=0.692 total time=   0.0s\n",
      "[CV 3/5] END ........C=10, gamma=10, kernel=rbf;, score=0.583 total time=   0.0s\n",
      "[CV 4/5] END ........C=10, gamma=10, kernel=rbf;, score=0.417 total time=   0.0s\n",
      "[CV 5/5] END ........C=10, gamma=10, kernel=rbf;, score=0.417 total time=   0.0s\n",
      "[CV 1/5] END .......C=10, gamma=100, kernel=rbf;, score=0.462 total time=   0.0s\n",
      "[CV 2/5] END .......C=10, gamma=100, kernel=rbf;, score=0.538 total time=   0.0s\n",
      "[CV 3/5] END .......C=10, gamma=100, kernel=rbf;, score=0.583 total time=   0.0s\n",
      "[CV 4/5] END .......C=10, gamma=100, kernel=rbf;, score=0.250 total time=   0.0s\n",
      "[CV 5/5] END .......C=10, gamma=100, kernel=rbf;, score=0.583 total time=   0.0s\n",
      "[CV 1/5] END ......C=10, gamma=1000, kernel=rbf;, score=0.538 total time=   0.0s\n"
     ]
    },
    {
     "name": "stdout",
     "output_type": "stream",
     "text": [
      "[CV 2/5] END ......C=10, gamma=1000, kernel=rbf;, score=0.462 total time=   0.0s\n",
      "[CV 3/5] END ......C=10, gamma=1000, kernel=rbf;, score=0.333 total time=   0.0s\n",
      "[CV 4/5] END ......C=10, gamma=1000, kernel=rbf;, score=0.333 total time=   0.0s\n",
      "[CV 5/5] END ......C=10, gamma=1000, kernel=rbf;, score=0.417 total time=   0.0s\n",
      "[CV 1/5] END ....C=100, gamma=1e-05, kernel=rbf;, score=0.615 total time=   0.0s\n",
      "[CV 2/5] END ....C=100, gamma=1e-05, kernel=rbf;, score=0.462 total time=   0.0s\n",
      "[CV 3/5] END ....C=100, gamma=1e-05, kernel=rbf;, score=0.750 total time=   0.0s\n",
      "[CV 4/5] END ....C=100, gamma=1e-05, kernel=rbf;, score=0.667 total time=   0.0s\n",
      "[CV 5/5] END ....C=100, gamma=1e-05, kernel=rbf;, score=0.500 total time=   0.0s\n",
      "[CV 1/5] END ...C=100, gamma=0.0001, kernel=rbf;, score=0.615 total time=   0.0s\n",
      "[CV 2/5] END ...C=100, gamma=0.0001, kernel=rbf;, score=0.692 total time=   0.0s\n",
      "[CV 3/5] END ...C=100, gamma=0.0001, kernel=rbf;, score=0.750 total time=   0.0s\n",
      "[CV 4/5] END ...C=100, gamma=0.0001, kernel=rbf;, score=0.667 total time=   0.0s\n",
      "[CV 5/5] END ...C=100, gamma=0.0001, kernel=rbf;, score=0.583 total time=   0.0s\n",
      "[CV 1/5] END ....C=100, gamma=0.001, kernel=rbf;, score=0.923 total time=   0.0s\n",
      "[CV 2/5] END ....C=100, gamma=0.001, kernel=rbf;, score=0.846 total time=   0.0s\n",
      "[CV 3/5] END ....C=100, gamma=0.001, kernel=rbf;, score=0.917 total time=   0.0s\n",
      "[CV 4/5] END ....C=100, gamma=0.001, kernel=rbf;, score=0.833 total time=   0.0s\n",
      "[CV 5/5] END ....C=100, gamma=0.001, kernel=rbf;, score=0.750 total time=   0.0s\n",
      "[CV 1/5] END .....C=100, gamma=0.01, kernel=rbf;, score=0.923 total time=   0.0s\n",
      "[CV 2/5] END .....C=100, gamma=0.01, kernel=rbf;, score=0.846 total time=   0.0s\n",
      "[CV 3/5] END .....C=100, gamma=0.01, kernel=rbf;, score=0.917 total time=   0.0s\n",
      "[CV 4/5] END .....C=100, gamma=0.01, kernel=rbf;, score=0.833 total time=   0.0s\n",
      "[CV 5/5] END .....C=100, gamma=0.01, kernel=rbf;, score=0.750 total time=   0.0s\n",
      "[CV 1/5] END ......C=100, gamma=0.1, kernel=rbf;, score=0.923 total time=   0.0s\n",
      "[CV 2/5] END ......C=100, gamma=0.1, kernel=rbf;, score=0.923 total time=   0.0s\n",
      "[CV 3/5] END ......C=100, gamma=0.1, kernel=rbf;, score=0.917 total time=   0.0s\n",
      "[CV 4/5] END ......C=100, gamma=0.1, kernel=rbf;, score=0.833 total time=   0.0s\n",
      "[CV 5/5] END ......C=100, gamma=0.1, kernel=rbf;, score=0.750 total time=   0.0s\n",
      "[CV 1/5] END ........C=100, gamma=1, kernel=rbf;, score=0.846 total time=   0.0s\n",
      "[CV 2/5] END ........C=100, gamma=1, kernel=rbf;, score=0.692 total time=   0.0s\n",
      "[CV 3/5] END ........C=100, gamma=1, kernel=rbf;, score=0.750 total time=   0.0s\n",
      "[CV 4/5] END ........C=100, gamma=1, kernel=rbf;, score=0.833 total time=   0.0s\n",
      "[CV 5/5] END ........C=100, gamma=1, kernel=rbf;, score=0.500 total time=   0.0s\n",
      "[CV 1/5] END .......C=100, gamma=10, kernel=rbf;, score=0.462 total time=   0.0s\n",
      "[CV 2/5] END .......C=100, gamma=10, kernel=rbf;, score=0.538 total time=   0.0s\n",
      "[CV 3/5] END .......C=100, gamma=10, kernel=rbf;, score=0.667 total time=   0.0s\n",
      "[CV 4/5] END .......C=100, gamma=10, kernel=rbf;, score=0.333 total time=   0.0s\n",
      "[CV 5/5] END .......C=100, gamma=10, kernel=rbf;, score=0.500 total time=   0.0s\n",
      "[CV 1/5] END ......C=100, gamma=100, kernel=rbf;, score=0.538 total time=   0.0s\n",
      "[CV 2/5] END ......C=100, gamma=100, kernel=rbf;, score=0.615 total time=   0.0s\n",
      "[CV 3/5] END ......C=100, gamma=100, kernel=rbf;, score=0.583 total time=   0.0s\n",
      "[CV 4/5] END ......C=100, gamma=100, kernel=rbf;, score=0.250 total time=   0.0s\n",
      "[CV 5/5] END ......C=100, gamma=100, kernel=rbf;, score=0.500 total time=   0.0s\n",
      "[CV 1/5] END .....C=100, gamma=1000, kernel=rbf;, score=0.538 total time=   0.0s\n",
      "[CV 2/5] END .....C=100, gamma=1000, kernel=rbf;, score=0.462 total time=   0.0s\n",
      "[CV 3/5] END .....C=100, gamma=1000, kernel=rbf;, score=0.333 total time=   0.0s\n",
      "[CV 4/5] END .....C=100, gamma=1000, kernel=rbf;, score=0.333 total time=   0.0s\n",
      "[CV 5/5] END .....C=100, gamma=1000, kernel=rbf;, score=0.417 total time=   0.0s\n",
      "[CV 1/5] END ...C=1000, gamma=1e-05, kernel=rbf;, score=0.615 total time=   0.0s\n",
      "[CV 2/5] END ...C=1000, gamma=1e-05, kernel=rbf;, score=0.692 total time=   0.0s\n",
      "[CV 3/5] END ...C=1000, gamma=1e-05, kernel=rbf;, score=0.750 total time=   0.0s\n",
      "[CV 4/5] END ...C=1000, gamma=1e-05, kernel=rbf;, score=0.667 total time=   0.0s\n",
      "[CV 5/5] END ...C=1000, gamma=1e-05, kernel=rbf;, score=0.583 total time=   0.0s\n",
      "[CV 1/5] END ..C=1000, gamma=0.0001, kernel=rbf;, score=0.923 total time=   0.0s\n",
      "[CV 2/5] END ..C=1000, gamma=0.0001, kernel=rbf;, score=0.846 total time=   0.0s\n",
      "[CV 3/5] END ..C=1000, gamma=0.0001, kernel=rbf;, score=0.917 total time=   0.0s\n",
      "[CV 4/5] END ..C=1000, gamma=0.0001, kernel=rbf;, score=0.833 total time=   0.0s\n",
      "[CV 5/5] END ..C=1000, gamma=0.0001, kernel=rbf;, score=0.750 total time=   0.0s\n",
      "[CV 1/5] END ...C=1000, gamma=0.001, kernel=rbf;, score=0.923 total time=   0.0s\n",
      "[CV 2/5] END ...C=1000, gamma=0.001, kernel=rbf;, score=0.846 total time=   0.0s\n",
      "[CV 3/5] END ...C=1000, gamma=0.001, kernel=rbf;, score=0.917 total time=   0.0s\n",
      "[CV 4/5] END ...C=1000, gamma=0.001, kernel=rbf;, score=0.833 total time=   0.0s\n",
      "[CV 5/5] END ...C=1000, gamma=0.001, kernel=rbf;, score=0.750 total time=   0.0s\n",
      "[CV 1/5] END ....C=1000, gamma=0.01, kernel=rbf;, score=0.923 total time=   0.0s\n",
      "[CV 2/5] END ....C=1000, gamma=0.01, kernel=rbf;, score=0.846 total time=   0.0s\n",
      "[CV 3/5] END ....C=1000, gamma=0.01, kernel=rbf;, score=0.917 total time=   0.0s\n",
      "[CV 4/5] END ....C=1000, gamma=0.01, kernel=rbf;, score=0.833 total time=   0.0s\n",
      "[CV 5/5] END ....C=1000, gamma=0.01, kernel=rbf;, score=0.750 total time=   0.0s\n",
      "[CV 1/5] END .....C=1000, gamma=0.1, kernel=rbf;, score=0.923 total time=   0.0s\n",
      "[CV 2/5] END .....C=1000, gamma=0.1, kernel=rbf;, score=0.692 total time=   0.0s\n",
      "[CV 3/5] END .....C=1000, gamma=0.1, kernel=rbf;, score=0.833 total time=   0.0s\n",
      "[CV 4/5] END .....C=1000, gamma=0.1, kernel=rbf;, score=0.833 total time=   0.0s\n",
      "[CV 5/5] END .....C=1000, gamma=0.1, kernel=rbf;, score=0.750 total time=   0.0s\n",
      "[CV 1/5] END .......C=1000, gamma=1, kernel=rbf;, score=0.846 total time=   0.0s\n",
      "[CV 2/5] END .......C=1000, gamma=1, kernel=rbf;, score=0.846 total time=   0.0s\n",
      "[CV 3/5] END .......C=1000, gamma=1, kernel=rbf;, score=0.750 total time=   0.0s\n",
      "[CV 4/5] END .......C=1000, gamma=1, kernel=rbf;, score=0.750 total time=   0.0s\n",
      "[CV 5/5] END .......C=1000, gamma=1, kernel=rbf;, score=0.500 total time=   0.0s\n",
      "[CV 1/5] END ......C=1000, gamma=10, kernel=rbf;, score=0.769 total time=   0.0s\n",
      "[CV 2/5] END ......C=1000, gamma=10, kernel=rbf;, score=0.538 total time=   0.0s\n",
      "[CV 3/5] END ......C=1000, gamma=10, kernel=rbf;, score=0.583 total time=   0.0s\n",
      "[CV 4/5] END ......C=1000, gamma=10, kernel=rbf;, score=0.333 total time=   0.0s\n",
      "[CV 5/5] END ......C=1000, gamma=10, kernel=rbf;, score=0.583 total time=   0.0s\n",
      "[CV 1/5] END .....C=1000, gamma=100, kernel=rbf;, score=0.538 total time=   0.0s\n",
      "[CV 2/5] END .....C=1000, gamma=100, kernel=rbf;, score=0.615 total time=   0.0s\n",
      "[CV 3/5] END .....C=1000, gamma=100, kernel=rbf;, score=0.583 total time=   0.0s\n",
      "[CV 4/5] END .....C=1000, gamma=100, kernel=rbf;, score=0.250 total time=   0.0s\n",
      "[CV 5/5] END .....C=1000, gamma=100, kernel=rbf;, score=0.500 total time=   0.0s\n",
      "[CV 1/5] END ....C=1000, gamma=1000, kernel=rbf;, score=0.538 total time=   0.0s\n",
      "[CV 2/5] END ....C=1000, gamma=1000, kernel=rbf;, score=0.462 total time=   0.0s\n",
      "[CV 3/5] END ....C=1000, gamma=1000, kernel=rbf;, score=0.333 total time=   0.0s\n",
      "[CV 4/5] END ....C=1000, gamma=1000, kernel=rbf;, score=0.333 total time=   0.0s\n",
      "[CV 5/5] END ....C=1000, gamma=1000, kernel=rbf;, score=0.417 total time=   0.0s\n",
      "[CV 1/5] END ............C=1e-05, kernel=linear;, score=0.462 total time=   0.0s\n",
      "[CV 2/5] END ............C=1e-05, kernel=linear;, score=0.692 total time=   0.0s\n",
      "[CV 3/5] END ............C=1e-05, kernel=linear;, score=0.417 total time=   0.0s\n",
      "[CV 4/5] END ............C=1e-05, kernel=linear;, score=0.333 total time=   0.0s\n",
      "[CV 5/5] END ............C=1e-05, kernel=linear;, score=0.417 total time=   0.0s\n",
      "[CV 1/5] END ...........C=0.0001, kernel=linear;, score=0.538 total time=   0.0s\n",
      "[CV 2/5] END ...........C=0.0001, kernel=linear;, score=0.462 total time=   0.0s\n",
      "[CV 3/5] END ...........C=0.0001, kernel=linear;, score=0.500 total time=   0.0s\n",
      "[CV 4/5] END ...........C=0.0001, kernel=linear;, score=0.333 total time=   0.0s\n"
     ]
    },
    {
     "name": "stdout",
     "output_type": "stream",
     "text": [
      "[CV 5/5] END ...........C=0.0001, kernel=linear;, score=0.500 total time=   0.0s\n",
      "[CV 1/5] END ............C=0.001, kernel=linear;, score=0.615 total time=   0.0s\n",
      "[CV 2/5] END ............C=0.001, kernel=linear;, score=0.462 total time=   0.0s\n",
      "[CV 3/5] END ............C=0.001, kernel=linear;, score=0.667 total time=   0.0s\n",
      "[CV 4/5] END ............C=0.001, kernel=linear;, score=0.583 total time=   0.0s\n",
      "[CV 5/5] END ............C=0.001, kernel=linear;, score=0.417 total time=   0.0s\n",
      "[CV 1/5] END .............C=0.01, kernel=linear;, score=0.615 total time=   0.0s\n",
      "[CV 2/5] END .............C=0.01, kernel=linear;, score=0.692 total time=   0.0s\n",
      "[CV 3/5] END .............C=0.01, kernel=linear;, score=0.750 total time=   0.0s\n",
      "[CV 4/5] END .............C=0.01, kernel=linear;, score=0.667 total time=   0.0s\n",
      "[CV 5/5] END .............C=0.01, kernel=linear;, score=0.583 total time=   0.0s\n",
      "[CV 1/5] END ..............C=0.1, kernel=linear;, score=0.846 total time=   0.0s\n",
      "[CV 2/5] END ..............C=0.1, kernel=linear;, score=0.846 total time=   0.0s\n",
      "[CV 3/5] END ..............C=0.1, kernel=linear;, score=0.917 total time=   0.0s\n",
      "[CV 4/5] END ..............C=0.1, kernel=linear;, score=0.833 total time=   0.0s\n",
      "[CV 5/5] END ..............C=0.1, kernel=linear;, score=0.750 total time=   0.0s\n",
      "[CV 1/5] END ................C=1, kernel=linear;, score=0.923 total time=   0.0s\n",
      "[CV 2/5] END ................C=1, kernel=linear;, score=0.846 total time=   0.0s\n",
      "[CV 3/5] END ................C=1, kernel=linear;, score=0.917 total time=   0.0s\n",
      "[CV 4/5] END ................C=1, kernel=linear;, score=0.833 total time=   0.0s\n",
      "[CV 5/5] END ................C=1, kernel=linear;, score=0.750 total time=   0.0s\n",
      "[CV 1/5] END ...............C=10, kernel=linear;, score=0.923 total time=   0.0s\n",
      "[CV 2/5] END ...............C=10, kernel=linear;, score=0.846 total time=   0.0s\n",
      "[CV 3/5] END ...............C=10, kernel=linear;, score=0.917 total time=   0.0s\n",
      "[CV 4/5] END ...............C=10, kernel=linear;, score=0.833 total time=   0.0s\n",
      "[CV 5/5] END ...............C=10, kernel=linear;, score=0.750 total time=   0.0s\n",
      "[CV 1/5] END ..............C=100, kernel=linear;, score=0.923 total time=   0.0s\n",
      "[CV 2/5] END ..............C=100, kernel=linear;, score=0.846 total time=   0.0s\n",
      "[CV 3/5] END ..............C=100, kernel=linear;, score=0.917 total time=   0.0s\n",
      "[CV 4/5] END ..............C=100, kernel=linear;, score=0.833 total time=   0.0s\n",
      "[CV 5/5] END ..............C=100, kernel=linear;, score=0.750 total time=   0.0s\n",
      "[CV 1/5] END .............C=1000, kernel=linear;, score=0.923 total time=   0.1s\n",
      "[CV 2/5] END .............C=1000, kernel=linear;, score=0.769 total time=   0.0s\n",
      "[CV 3/5] END .............C=1000, kernel=linear;, score=0.917 total time=   0.0s\n",
      "[CV 4/5] END .............C=1000, kernel=linear;, score=0.833 total time=   0.1s\n",
      "[CV 5/5] END .............C=1000, kernel=linear;, score=0.750 total time=   0.0s\n"
     ]
    },
    {
     "data": {
      "text/plain": [
       "GridSearchCV(cv=KFold(n_splits=5, random_state=None, shuffle=True),\n",
       "             estimator=SVC(),\n",
       "             param_grid=[{'C': [1e-05, 0.0001, 0.001, 0.01, 0.1, 1, 10, 100,\n",
       "                                1000],\n",
       "                          'gamma': [1e-05, 0.0001, 0.001, 0.01, 0.1, 1, 10, 100,\n",
       "                                    1000],\n",
       "                          'kernel': ['rbf']},\n",
       "                         {'C': [1e-05, 0.0001, 0.001, 0.01, 0.1, 1, 10, 100,\n",
       "                                1000],\n",
       "                          'kernel': ['linear']}],\n",
       "             scoring='accuracy', verbose=3)"
      ]
     },
     "execution_count": 40,
     "metadata": {},
     "output_type": "execute_result"
    }
   ],
   "source": [
    "# 그리드 서치\n",
    "values = [0.00001, 0.0001, 0.001, 0.01, 0.1, 1, 10, 100, 1000]\n",
    "param_grid = [{'kernel':['rbf'], 'C':values, 'gamma':values},\n",
    "               {'kernel':['linear'], 'C':values}]\n",
    "gs = GridSearchCV(SVC(), param_grid, cv= KFold(n_splits=5, shuffle=True), scoring='accuracy', verbose = 3)\n",
    "gs.fit(x_train, y_train)"
   ]
  },
  {
   "cell_type": "code",
   "execution_count": 41,
   "metadata": {},
   "outputs": [
    {
     "name": "stdout",
     "output_type": "stream",
     "text": [
      "최적 하이퍼 파라미터:  {'C': 1, 'gamma': 0.1, 'kernel': 'rbf'}\n",
      "최고 예측 정확도: 0.8692\n"
     ]
    }
   ],
   "source": [
    "print(\"최적 하이퍼 파라미터: \", gs.best_params_)\n",
    "print(\"최고 예측 정확도: {:.4f}\".format(gs.best_score_))"
   ]
  },
  {
   "cell_type": "code",
   "execution_count": null,
   "metadata": {},
   "outputs": [],
   "source": []
  }
 ],
 "metadata": {
  "kernelspec": {
   "display_name": "Python 3",
   "language": "python",
   "name": "python3"
  },
  "language_info": {
   "codemirror_mode": {
    "name": "ipython",
    "version": 3
   },
   "file_extension": ".py",
   "mimetype": "text/x-python",
   "name": "python",
   "nbconvert_exporter": "python",
   "pygments_lexer": "ipython3",
   "version": "3.8.3"
  }
 },
 "nbformat": 4,
 "nbformat_minor": 4
}

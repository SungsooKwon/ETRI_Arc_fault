{
 "cells": [
  {
   "cell_type": "markdown",
   "metadata": {},
   "source": [
    "# Import python library"
   ]
  },
  {
   "cell_type": "code",
   "execution_count": 1,
   "metadata": {},
   "outputs": [
    {
     "name": "stdout",
     "output_type": "stream",
     "text": [
      "Installed tensorflow version:  2.7.0\n"
     ]
    }
   ],
   "source": [
    "import os, shutil\n",
    "import time\n",
    "import math\n",
    "import numpy as np\n",
    "import pandas as pd\n",
    "import matplotlib.pyplot as plt\n",
    "%matplotlib inline\n",
    "from scipy import io, signal\n",
    "from scipy.fftpack import fft, fftshift\n",
    "\n",
    "import tensorflow as tf\n",
    "from tensorflow.keras import models, layers, regularizers, optimizers\n",
    "from tensorflow.keras.callbacks import LearningRateScheduler\n",
    "\n",
    "print(\"Installed tensorflow version: \", tf.__version__)"
   ]
  },
  {
   "cell_type": "markdown",
   "metadata": {},
   "source": [
    "# GPU setting"
   ]
  },
  {
   "cell_type": "code",
   "execution_count": 2,
   "metadata": {},
   "outputs": [
    {
     "data": {
      "text/plain": [
       "'float32'"
      ]
     },
     "execution_count": 2,
     "metadata": {},
     "output_type": "execute_result"
    }
   ],
   "source": [
    "os.environ[\"CUDA_DEVICE_ORDER\"] = \"PCI_BUS_ID\"\n",
    "os.environ[\"CUDA_VISIBLE_DEVICES\"] = \"0\" # GPU unit setting\n",
    "tf.keras.backend.floatx()"
   ]
  },
  {
   "cell_type": "markdown",
   "metadata": {},
   "source": [
    "# Parameters Setting for training"
   ]
  },
  {
   "cell_type": "code",
   "execution_count": 3,
   "metadata": {},
   "outputs": [],
   "source": [
    "### data parameters\n",
    "winT = 18000 # one priod\n",
    "\n",
    "\n",
    "### RMSprop optimizer parameters\n",
    "lr_begin = 1e-3\n",
    "RHO = 0.8\n",
    "\n",
    "### Training parameters \n",
    "MAX_EPOCHS = 80\n",
    "BATCH_SIZE = 128\n",
    "EPOCH_1 = math.ceil(MAX_EPOCHS/2)\n",
    "EPOCH_2 = math.ceil(MAX_EPOCHS*3/4)"
   ]
  },
  {
   "cell_type": "markdown",
   "metadata": {},
   "source": [
    "# Load measured datasets"
   ]
  },
  {
   "cell_type": "code",
   "execution_count": 4,
   "metadata": {},
   "outputs": [
    {
     "name": "stdout",
     "output_type": "stream",
     "text": [
      "[Info.] where am I?\n"
     ]
    },
    {
     "data": {
      "text/plain": [
       "'/home/wkchoi/Arc-Fault'"
      ]
     },
     "execution_count": 4,
     "metadata": {},
     "output_type": "execute_result"
    }
   ],
   "source": [
    "print(\"[Info.] where am I?\")\n",
    "%pwd"
   ]
  },
  {
   "cell_type": "code",
   "execution_count": 5,
   "metadata": {},
   "outputs": [],
   "source": [
    "# Define signal plot function\n",
    "def show_signal_subplot(n_show, data, label, YRNG_MIN=-1, YRNG_MAX=1):\n",
    "    plt.figure(2, figsize=(12, 8))\n",
    "    plt.subplots_adjust(wspace=0.5)\n",
    "    for i in range(n_show):\n",
    "        plt.subplot(5, 10, i + 1)\n",
    "        plt.plot(data[i], color='cornflowerblue')\n",
    "        plt.text(int(data.shape[1]/2), 0, \"%d\" % label[i], fontsize=12, color='r')\n",
    "        plt.xlim(0, data.shape[1])\n",
    "        plt.ylim(YRNG_MIN, YRNG_MAX)\n",
    "        \n",
    "def data_shuffle(data):\n",
    "    s = np.arange(data.shape[0])\n",
    "    np.random.shuffle(s)\n",
    "    \n",
    "    return data[s]\n",
    "    \n",
    "    \n",
    "\n",
    "def gen_one_period_data(file_path, winT):\n",
    "    \n",
    "    ##### load raw data\n",
    "    data_raw = pd.read_excel(file_path, index_col=None, header=None, sheet_name='Sheet1')\n",
    "    data = data_raw.to_numpy() # numpy array\n",
    "    \n",
    "    ##### Data Normalization\n",
    "    data_n = np.zeros((data.shape[0],data.shape[1]))\n",
    "    for i in range(data.shape[1]):\n",
    "        data_n[:,i] = data[:,i]/max(abs(data[:,i]))  \n",
    "    \n",
    "    ##### expand one-period dataset\n",
    "    dT = round(winT / 10)\n",
    "    Num = round((data_n.shape[0] - winT)/dT)\n",
    "    \n",
    "    data_tot = np.zeros((winT,Num*data_n.shape[1]))\n",
    "    index = 0\n",
    "    for i in range(data_n.shape[1]):\n",
    "        for j in range(Num):\n",
    "            index = Num*i+j\n",
    "            data_tot[:,index] = data_n[j*dT:winT+j*dT,i]\n",
    "            \n",
    "    print(\"[Info.] Total re-arranged one-period data shape: \", data_tot.shape)\n",
    "    \n",
    "    return data_tot\n",
    "\n",
    "def merge_one_period_data(winT, *file_paths):\n",
    "    \n",
    "    subArrays = []\n",
    "    for file_path in file_paths:\n",
    "        data = gen_one_period_data(file_path, winT)\n",
    "        subArrays.append(data)\n",
    "                \n",
    "    allArrays = np.concatenate(subArrays, axis=1)\n",
    "    \n",
    "    print(\"[Info.] ==========> Total merged one-period data shape: \", allArrays.shape, \"\\n\")\n",
    "        \n",
    "    return allArrays"
   ]
  },
  {
   "cell_type": "code",
   "execution_count": 6,
   "metadata": {},
   "outputs": [],
   "source": [
    "base_dir = \"/home/wkchoi/Arc-Fault\""
   ]
  },
  {
   "cell_type": "markdown",
   "metadata": {},
   "source": [
    "## 1. Fan dataset"
   ]
  },
  {
   "cell_type": "code",
   "execution_count": 7,
   "metadata": {},
   "outputs": [
    {
     "name": "stdout",
     "output_type": "stream",
     "text": [
      "[Info.] Total re-arranged one-period data shape:  (18000, 1480)\n",
      "[Info.] Total re-arranged one-period data shape:  (18000, 1560)\n",
      "[Info.] Total re-arranged one-period data shape:  (18000, 80)\n",
      "[Info.] Total re-arranged one-period data shape:  (18000, 600)\n",
      "[Info.] Total re-arranged one-period data shape:  (18000, 2000)\n",
      "[Info.] Total re-arranged one-period data shape:  (18000, 1880)\n",
      "[Info.] ==========> Total merged one-period data shape:  (18000, 7600) \n",
      "\n",
      "[Info.] Total re-arranged one-period data shape:  (18000, 2000)\n",
      "[Info.] Total re-arranged one-period data shape:  (18000, 2000)\n",
      "[Info.] Total re-arranged one-period data shape:  (18000, 2000)\n",
      "[Info.] Total re-arranged one-period data shape:  (18000, 2160)\n",
      "[Info.] ==========> Total merged one-period data shape:  (18000, 8160) \n",
      "\n"
     ]
    }
   ],
   "source": [
    "### Fan arc raw dataset\n",
    "file_path1 = os.path.join(base_dir, \"Fan/arc/Fan_1_arc_humid_44(c61)_data.xlsx\")\n",
    "file_path2 = os.path.join(base_dir, \"Fan/arc/Fan_2_arc_humid_45_data.xlsx\")\n",
    "file_path3 = os.path.join(base_dir, \"Fan/arc/Fan_1_arc_humid_34(c14)_c2_data.xlsx\")\n",
    "file_path4 = os.path.join(base_dir, \"Fan/arc/Fan_2_arc_humid_34(c23)_c15_data.xlsx\")\n",
    "file_path5 = os.path.join(base_dir, \"Fan/arc/fan_1_arc_data.xlsx\")\n",
    "file_path6 = os.path.join(base_dir, \"Fan/arc/fan_2_arc(c57)_data.xlsx\")\n",
    "file_paths = [file_path1, file_path2, file_path3, file_path4, file_path5, file_path6]\n",
    "fan_arc = merge_one_period_data(winT, *file_paths)\n",
    "\n",
    "##### Fan normal raw dataset\n",
    "file_path1 = os.path.join(base_dir, \"Fan/normal/Fan_1_normal_humid_room_data.xlsx\")\n",
    "file_path2 = os.path.join(base_dir, \"Fan/normal/Fan_2_normal_humid_50_data.xlsx\")\n",
    "file_path3 = os.path.join(base_dir, \"Fan/normal/fan_1_normal_data.xlsx\")\n",
    "file_path4 = os.path.join(base_dir, \"Fan/normal/fan_2_normal(c54)_data.xlsx\")\n",
    "file_paths = [file_path1, file_path2, file_path3, file_path4]\n",
    "fan_normal = merge_one_period_data(winT, *file_paths)\n"
   ]
  },
  {
   "cell_type": "code",
   "execution_count": 59,
   "metadata": {},
   "outputs": [],
   "source": [
    "\n",
    "#### Fan Data shuffle\n",
    "fan_arc_1 = data_shuffle(fan_arc.T)\n",
    "fan_arc_2 = fan_arc_1.T[:,:]\n",
    "\n",
    "fan_normal_1 = data_shuffle(fan_normal.T)\n",
    "fan_normal_2 = fan_normal_1.T[:,:7600]"
   ]
  },
  {
   "cell_type": "code",
   "execution_count": 60,
   "metadata": {
    "scrolled": true
   },
   "outputs": [
    {
     "name": "stdout",
     "output_type": "stream",
     "text": [
      "(18000, 7600)\n",
      "(18000, 7600)\n"
     ]
    }
   ],
   "source": [
    "print(fan_arc_2.shape)\n",
    "print(fan_normal_2.shape)\n"
   ]
  },
  {
   "cell_type": "code",
   "execution_count": 61,
   "metadata": {},
   "outputs": [
    {
     "name": "stdout",
     "output_type": "stream",
     "text": [
      "(18000, 7600)\n",
      "(18000, 7600)\n"
     ]
    }
   ],
   "source": [
    "print(fan_arc_2.shape)\n",
    "print(fan_normal_2.shape)\n"
   ]
  },
  {
   "cell_type": "markdown",
   "metadata": {},
   "source": [
    "# Feature Extraction"
   ]
  },
  {
   "cell_type": "code",
   "execution_count": 62,
   "metadata": {},
   "outputs": [],
   "source": [
    "# 특성추출을 위한 함수 작성 ( 변수이름, 데이터 크기)\n",
    "def create_feature(x, y):\n",
    "    feature = np.zeros(shape=(39,y))\n",
    "    mean_val = np.zeros((10, y))\n",
    "    std_val = np.zeros((10, y))\n",
    "    Pole_diff = np.zeros((10, y))\n",
    "    Avg_diff = np.zeros((9, y))\n",
    "\n",
    "    for i in range(y):\n",
    "        sig = x[:, i]\n",
    "        win = round(x.shape[0]/10)\n",
    "        for j in range(10):\n",
    "            tmp = x[int(j * win) : int((j + 1) * win)]\n",
    "            mean_val[j] = np.mean(tmp[j],axis=0)\n",
    "            std_val[j] = np.std(tmp[j])\n",
    "            Pole_diff[j] = np.max(tmp[j]) - np.min(tmp[j])\n",
    "        for z in range(9):\n",
    "            Avg_diff[z] = np.mean(tmp[z], axis=0) - np.mean(tmp[z+1],axis=0)\n",
    "        \n",
    "    feature = np.concatenate((mean_val, std_val, Pole_diff, Avg_diff), axis =0)\n",
    "    return feature"
   ]
  },
  {
   "cell_type": "code",
   "execution_count": 63,
   "metadata": {},
   "outputs": [],
   "source": [
    "fan_feature_arc = create_feature(fan_arc_2, 7600)\n",
    "fan_feature_norm = create_feature(fan_normal_2, 7600)"
   ]
  },
  {
   "cell_type": "markdown",
   "metadata": {},
   "source": [
    "### Arc_Total 특성 추출"
   ]
  },
  {
   "cell_type": "code",
   "execution_count": 64,
   "metadata": {
    "scrolled": false
   },
   "outputs": [
    {
     "name": "stdout",
     "output_type": "stream",
     "text": [
      "(39, 7600)\n",
      "(39, 7600)\n",
      "(7600, 39)\n",
      "(7600, 39)\n"
     ]
    }
   ],
   "source": [
    "print(fan_feature_norm.shape)\n",
    "print(fan_feature_arc.shape)\n",
    "print(fan_feature_norm.T.shape)\n",
    "print(fan_feature_arc.T.shape)\n",
    "FFN = fan_feature_norm.T\n",
    "FFA = fan_feature_arc.T"
   ]
  },
  {
   "cell_type": "markdown",
   "metadata": {},
   "source": [
    "# Data Shuffling"
   ]
  },
  {
   "cell_type": "code",
   "execution_count": 65,
   "metadata": {},
   "outputs": [],
   "source": [
    "##### Fan Labeling\n",
    "norm_fan_label = np.zeros(FFN.shape[1]) # label 0\n",
    "arc_fan_label = np.ones(FFA.shape[1])  # label 1"
   ]
  },
  {
   "cell_type": "code",
   "execution_count": 66,
   "metadata": {},
   "outputs": [
    {
     "name": "stdout",
     "output_type": "stream",
     "text": [
      "[Info.] Total dataset shape:  (78, 7600)\n"
     ]
    }
   ],
   "source": [
    "##### Prepare full datasets for training\n",
    "\n",
    "Train_raw = np.concatenate((fan_feature_norm, fan_feature_arc), axis=0)\n",
    "Train_label = np.concatenate((norm_fan_label, arc_fan_label))\n",
    "print('[Info.] Total dataset shape: ', Train_raw.shape)"
   ]
  },
  {
   "cell_type": "code",
   "execution_count": 67,
   "metadata": {},
   "outputs": [
    {
     "data": {
      "text/plain": [
       "array([0., 0., 0., 0., 0., 0., 0., 0., 0., 0., 0., 0., 0., 0., 0., 0., 0.,\n",
       "       0., 0., 0., 0., 0., 0., 0., 0., 0., 0., 0., 0., 0., 0., 0., 0., 0.,\n",
       "       0., 0., 0., 0., 0., 1., 1., 1., 1., 1., 1., 1., 1., 1., 1., 1., 1.,\n",
       "       1., 1., 1., 1., 1., 1., 1., 1., 1., 1., 1., 1., 1., 1., 1., 1., 1.,\n",
       "       1., 1., 1., 1., 1., 1., 1., 1., 1., 1.])"
      ]
     },
     "execution_count": 67,
     "metadata": {},
     "output_type": "execute_result"
    }
   ],
   "source": [
    "Train_label"
   ]
  },
  {
   "cell_type": "code",
   "execution_count": 68,
   "metadata": {},
   "outputs": [
    {
     "name": "stdout",
     "output_type": "stream",
     "text": [
      "===> Display label numbers after data shuffling: \n",
      " [0. 0. 0. 1. 0. 1. 1. 1. 0. 0. 1. 1. 0. 1. 1. 0. 1. 0. 0. 1. 0. 1. 1. 0.\n",
      " 1. 0. 0. 0. 0. 1. 1. 0. 1. 0. 1. 1. 0. 0. 0. 0. 0. 1. 1. 1. 0. 1. 0. 1.\n",
      " 1. 0. 1. 1. 0. 1. 0. 0. 1. 1. 1. 1. 0. 0. 0. 0. 0. 1. 1. 1. 1. 0. 1. 1.\n",
      " 0. 0. 1. 0. 1. 0.]\n"
     ]
    }
   ],
   "source": [
    "# s라는 배열에 data의 인덱스를 넣고 섞은 뒤 data와 data_label 배열에 대입.(train)\n",
    "s = np.arange(Train_raw.shape[0])\n",
    "np.random.shuffle(s)\n",
    "\n",
    "data_tr = Train_raw[s]\n",
    "data_tr_label = Train_label[s]\n",
    "print(\"===> Display label numbers after data shuffling:\", \"\\n\", data_tr_label[0:100])"
   ]
  },
  {
   "cell_type": "code",
   "execution_count": 69,
   "metadata": {},
   "outputs": [
    {
     "name": "stdout",
     "output_type": "stream",
     "text": [
      "[Info.] Number of training dataset:  62\n",
      "[Info.] Number of test dataset:  16\n"
     ]
    }
   ],
   "source": [
    "SPL_RATIO = 0.8 \n",
    "index = round(data_tr.shape[0]*SPL_RATIO)\n",
    "\n",
    "### train 데이터와 test 데이터로 분리\n",
    "train_X, train_Y = data_tr[:index], data_tr_label[:index]\n",
    "test_X, test_Y = data_tr[index:], data_tr_label[index:]\n",
    "print('[Info.] Number of training dataset: ', len(train_X))\n",
    "print('[Info.] Number of test dataset: ', len(test_X))\n",
    "\n",
    "### Save trainind and test datasets and labels\n",
    "dataset_dir = './TrTedata'\n",
    "if os.path.exists(dataset_dir):  # 반복적인 실행을 위해 디렉토리를 삭제\n",
    "    shutil.rmtree(dataset_dir)   \n",
    "os.mkdir(dataset_dir)\n",
    "\n",
    "# training\n",
    "train_X_dir = os.path.join(dataset_dir, 'train_X.npy')\n",
    "np.save(train_X_dir, train_X)\n",
    "\n",
    "train_Y_dir = os.path.join(dataset_dir, 'train_Y.npy')\n",
    "np.save(train_Y_dir, train_Y)\n",
    "\n",
    "# test\n",
    "test_X_dir = os.path.join(dataset_dir, 'test_X.npy')\n",
    "np.save(test_X_dir, test_X)\n",
    "\n",
    "test_Y_dir = os.path.join(dataset_dir, 'test_Y.npy')\n",
    "np.save(test_Y_dir, test_Y)"
   ]
  },
  {
   "cell_type": "code",
   "execution_count": 70,
   "metadata": {
    "scrolled": false
   },
   "outputs": [
    {
     "name": "stdout",
     "output_type": "stream",
     "text": [
      "[Info.] x_train numpy shape:  (62, 7600, 1)\n",
      "[Info.] x_test numpy shape:  (16, 7600, 1)\n",
      "[Info.] y_train numpy shape:  (62,)\n",
      "[Info.] y_test numpy shape:  (16,)\n"
     ]
    }
   ],
   "source": [
    "### Training and test datasets\n",
    "x_train = np.reshape(train_X, (len(train_X),train_X.shape[1],1))\n",
    "x_test = np.reshape(test_X, (len(test_X),train_X.shape[1],1))\n",
    "\n",
    "### Training and test labeling\n",
    "y_train = np.asarray(train_Y).astype('float32')\n",
    "y_test = np.asarray(test_Y).astype('float32')\n",
    "\n",
    "print('[Info.] x_train numpy shape: ', x_train.shape)\n",
    "print('[Info.] x_test numpy shape: ', x_test.shape)\n",
    "print('[Info.] y_train numpy shape: ', y_train.shape)\n",
    "print('[Info.] y_test numpy shape: ', y_test.shape)"
   ]
  },
  {
   "cell_type": "code",
   "execution_count": 71,
   "metadata": {
    "scrolled": true
   },
   "outputs": [
    {
     "name": "stdout",
     "output_type": "stream",
     "text": [
      "(62, 7600)\n",
      "(16, 7600)\n"
     ]
    }
   ],
   "source": [
    "### SVM 적용위해 3차원 데이터 2차원으로 변경\n",
    "x_train = x_train.reshape(62, 7600)\n",
    "x_test = x_test.reshape(16, 7600)\n",
    "print(x_train.shape)\n",
    "print(x_test.shape)"
   ]
  },
  {
   "cell_type": "markdown",
   "metadata": {},
   "source": [
    "# SVM 적용"
   ]
  },
  {
   "cell_type": "code",
   "execution_count": 72,
   "metadata": {},
   "outputs": [],
   "source": [
    "features = x_train\n",
    "target = y_train"
   ]
  },
  {
   "cell_type": "code",
   "execution_count": 73,
   "metadata": {},
   "outputs": [],
   "source": [
    "from sklearn.svm import SVC\n",
    "from sklearn import svm, metrics\n",
    "import numpy as np\n",
    "import matplotlib.pyplot as plt\n",
    "\n",
    "svc = SVC(kernel = 'linear', C = 10)"
   ]
  },
  {
   "cell_type": "code",
   "execution_count": 74,
   "metadata": {},
   "outputs": [],
   "source": [
    "model = svc.fit(features, target)"
   ]
  },
  {
   "cell_type": "code",
   "execution_count": 75,
   "metadata": {},
   "outputs": [
    {
     "name": "stdout",
     "output_type": "stream",
     "text": [
      "학습용 데이터로 측정한 정확도 = 0.52\n",
      "시험용 데이터로 측정한 정확도 = 0.44\n"
     ]
    }
   ],
   "source": [
    "# 정확도 계산.\n",
    "print('학습용 데이터로 측정한 정확도 = %.2f' % svc.score(x_train, y_train))\n",
    "print('시험용 데이터로 측정한 정확도 = %.2f' % svc.score(x_test, y_test))"
   ]
  },
  {
   "cell_type": "code",
   "execution_count": 76,
   "metadata": {
    "scrolled": true
   },
   "outputs": [
    {
     "data": {
      "text/plain": [
       "array([[ 8, 23],\n",
       "       [ 7, 24]])"
      ]
     },
     "execution_count": 76,
     "metadata": {},
     "output_type": "execute_result"
    }
   ],
   "source": [
    "from sklearn.metrics import confusion_matrix\n",
    "y_pred = svc.predict(features)\n",
    "confusion_matrix(target, y_pred)"
   ]
  },
  {
   "cell_type": "markdown",
   "metadata": {},
   "source": [
    "## kernel SVM 적합 및 비교"
   ]
  },
  {
   "cell_type": "markdown",
   "metadata": {},
   "source": [
    "### LinearSVC"
   ]
  },
  {
   "cell_type": "code",
   "execution_count": 77,
   "metadata": {},
   "outputs": [
    {
     "name": "stderr",
     "output_type": "stream",
     "text": [
      "/home/wkchoi/anaconda3/lib/python3.8/site-packages/sklearn/svm/_base.py:1206: ConvergenceWarning: Liblinear failed to converge, increase the number of iterations.\n",
      "  warnings.warn(\n"
     ]
    },
    {
     "data": {
      "text/plain": [
       "array([[ 0, 31],\n",
       "       [ 0, 31]])"
      ]
     },
     "execution_count": 77,
     "metadata": {},
     "output_type": "execute_result"
    }
   ],
   "source": [
    "clf = svm.LinearSVC(C = 10)\n",
    "clf.fit(features, target)\n",
    "y_pred = clf.predict(features)\n",
    "confusion_matrix(target, y_pred)"
   ]
  },
  {
   "cell_type": "markdown",
   "metadata": {},
   "source": [
    "### radial basis function (방사 기저 함수)"
   ]
  },
  {
   "cell_type": "code",
   "execution_count": 78,
   "metadata": {},
   "outputs": [
    {
     "data": {
      "text/plain": [
       "array([[30,  1],\n",
       "       [ 4, 27]])"
      ]
     },
     "execution_count": 78,
     "metadata": {},
     "output_type": "execute_result"
    }
   ],
   "source": [
    "clf_r = svm.SVC(kernel = 'rbf', C=100, gamma =100)\n",
    "clf_r.fit(features, target)\n",
    "y_pred = clf_r.predict(features)\n",
    "confusion_matrix(target, y_pred)"
   ]
  },
  {
   "cell_type": "code",
   "execution_count": 79,
   "metadata": {},
   "outputs": [
    {
     "name": "stdout",
     "output_type": "stream",
     "text": [
      "학습용 데이터로 측정한 정확도 = 0.92\n",
      "시험용 데이터로 측정한 정확도 = 0.62\n"
     ]
    }
   ],
   "source": [
    "# 정확도 계산.\n",
    "print('학습용 데이터로 측정한 정확도 = %.2f' % clf_r.score(x_train, y_train))\n",
    "print('시험용 데이터로 측정한 정확도 = %.2f' % clf_r.score(x_test, y_test))"
   ]
  },
  {
   "cell_type": "markdown",
   "metadata": {},
   "source": [
    "### polynomial kernel (다항식)"
   ]
  },
  {
   "cell_type": "code",
   "execution_count": 80,
   "metadata": {},
   "outputs": [
    {
     "data": {
      "text/plain": [
       "array([[17, 14],\n",
       "       [ 7, 24]])"
      ]
     },
     "execution_count": 80,
     "metadata": {},
     "output_type": "execute_result"
    }
   ],
   "source": [
    "clf_p = svm.SVC(kernel = 'rbf',degree = 3, C = 0.1,gamma = 'auto')\n",
    "clf_p.fit(features, target)\n",
    "y_pred = clf_p.predict(features)\n",
    "confusion_matrix(target, y_pred)"
   ]
  },
  {
   "cell_type": "code",
   "execution_count": 81,
   "metadata": {},
   "outputs": [
    {
     "name": "stdout",
     "output_type": "stream",
     "text": [
      "학습용 데이터로 측정한 정확도 = 0.66\n",
      "시험용 데이터로 측정한 정확도 = 0.50\n"
     ]
    }
   ],
   "source": [
    "# 정확도 계산.\n",
    "print('학습용 데이터로 측정한 정확도 = %.2f' % clf_p.score(x_train, y_train))\n",
    "print('시험용 데이터로 측정한 정확도 = %.2f' % clf_p.score(x_test, y_test))"
   ]
  },
  {
   "cell_type": "markdown",
   "metadata": {},
   "source": [
    "# Model Evaluation"
   ]
  },
  {
   "cell_type": "code",
   "execution_count": 82,
   "metadata": {},
   "outputs": [
    {
     "name": "stdout",
     "output_type": "stream",
     "text": [
      "정답률 =  0.625\n",
      "리포트 =\n",
      "               precision    recall  f1-score   support\n",
      "\n",
      "         0.0       0.67      0.50      0.57         8\n",
      "         1.0       0.60      0.75      0.67         8\n",
      "\n",
      "    accuracy                           0.62        16\n",
      "   macro avg       0.63      0.62      0.62        16\n",
      "weighted avg       0.63      0.62      0.62        16\n",
      "\n"
     ]
    }
   ],
   "source": [
    "# 모델 성능\n",
    "### rbf 커널 적용 시\n",
    "pre = clf_r.predict(x_test)\n",
    "\n",
    "ac_score = metrics.accuracy_score(y_test, pre)\n",
    "cl_report = metrics.classification_report(y_test, pre)\n",
    "print(\"정답률 = \",ac_score)\n",
    "print(\"리포트 =\\n\", cl_report)"
   ]
  },
  {
   "cell_type": "markdown",
   "metadata": {},
   "source": [
    "# Grid Search"
   ]
  },
  {
   "cell_type": "code",
   "execution_count": 83,
   "metadata": {},
   "outputs": [],
   "source": [
    "import timeit\n",
    "import pandas as pd\n",
    "import numpy as np\n",
    "import matplotlib.pyplot as plt\n",
    "%matplotlib inline\n",
    "\n",
    "import tensorflow as tf\n",
    "from tensorflow.keras import models, layers, regularizers, optimizers\n",
    "from tensorflow.keras.callbacks import LearningRateScheduler\n",
    "from tensorflow.keras.models import load_model\n",
    "from tensorflow.keras.utils import to_categorical\n",
    "\n",
    "from sklearn.svm import SVC\n",
    "from sklearn import svm, metrics, model_selection\n",
    "from sklearn.metrics import confusion_matrix\n",
    "from sklearn.model_selection import GridSearchCV, KFold\n",
    "from sklearn.pipeline import Pipeline\n",
    "from sklearn.metrics.pairwise import rbf_kernel"
   ]
  },
  {
   "cell_type": "code",
   "execution_count": 90,
   "metadata": {},
   "outputs": [
    {
     "name": "stdout",
     "output_type": "stream",
     "text": [
      "Fitting 5 folds for each of 110 candidates, totalling 550 fits\n",
      "[CV 1/5] END ..C=1e-05, gamma=1e-05, kernel=rbf;, score=0.385 total time=   0.0s\n",
      "[CV 2/5] END ..C=1e-05, gamma=1e-05, kernel=rbf;, score=0.385 total time=   0.0s\n",
      "[CV 3/5] END ..C=1e-05, gamma=1e-05, kernel=rbf;, score=0.333 total time=   0.0s\n",
      "[CV 4/5] END ..C=1e-05, gamma=1e-05, kernel=rbf;, score=0.417 total time=   0.0s\n",
      "[CV 5/5] END ..C=1e-05, gamma=1e-05, kernel=rbf;, score=0.417 total time=   0.0s\n",
      "[CV 1/5] END .C=1e-05, gamma=0.0001, kernel=rbf;, score=0.385 total time=   0.0s\n",
      "[CV 2/5] END .C=1e-05, gamma=0.0001, kernel=rbf;, score=0.385 total time=   0.0s\n",
      "[CV 3/5] END .C=1e-05, gamma=0.0001, kernel=rbf;, score=0.333 total time=   0.0s\n",
      "[CV 4/5] END .C=1e-05, gamma=0.0001, kernel=rbf;, score=0.417 total time=   0.0s\n",
      "[CV 5/5] END .C=1e-05, gamma=0.0001, kernel=rbf;, score=0.417 total time=   0.0s\n",
      "[CV 1/5] END ..C=1e-05, gamma=0.001, kernel=rbf;, score=0.385 total time=   0.0s\n",
      "[CV 2/5] END ..C=1e-05, gamma=0.001, kernel=rbf;, score=0.385 total time=   0.0s\n",
      "[CV 3/5] END ..C=1e-05, gamma=0.001, kernel=rbf;, score=0.333 total time=   0.0s\n",
      "[CV 4/5] END ..C=1e-05, gamma=0.001, kernel=rbf;, score=0.417 total time=   0.0s\n",
      "[CV 5/5] END ..C=1e-05, gamma=0.001, kernel=rbf;, score=0.417 total time=   0.0s\n",
      "[CV 1/5] END ...C=1e-05, gamma=0.01, kernel=rbf;, score=0.385 total time=   0.0s\n",
      "[CV 2/5] END ...C=1e-05, gamma=0.01, kernel=rbf;, score=0.385 total time=   0.0s\n",
      "[CV 3/5] END ...C=1e-05, gamma=0.01, kernel=rbf;, score=0.333 total time=   0.0s\n",
      "[CV 4/5] END ...C=1e-05, gamma=0.01, kernel=rbf;, score=0.417 total time=   0.0s\n",
      "[CV 5/5] END ...C=1e-05, gamma=0.01, kernel=rbf;, score=0.417 total time=   0.0s\n",
      "[CV 1/5] END ....C=1e-05, gamma=0.1, kernel=rbf;, score=0.385 total time=   0.0s\n",
      "[CV 2/5] END ....C=1e-05, gamma=0.1, kernel=rbf;, score=0.385 total time=   0.0s\n",
      "[CV 3/5] END ....C=1e-05, gamma=0.1, kernel=rbf;, score=0.333 total time=   0.0s\n",
      "[CV 4/5] END ....C=1e-05, gamma=0.1, kernel=rbf;, score=0.417 total time=   0.0s\n",
      "[CV 5/5] END ....C=1e-05, gamma=0.1, kernel=rbf;, score=0.417 total time=   0.0s\n",
      "[CV 1/5] END ......C=1e-05, gamma=1, kernel=rbf;, score=0.385 total time=   0.0s\n",
      "[CV 2/5] END ......C=1e-05, gamma=1, kernel=rbf;, score=0.385 total time=   0.0s\n",
      "[CV 3/5] END ......C=1e-05, gamma=1, kernel=rbf;, score=0.333 total time=   0.0s\n",
      "[CV 4/5] END ......C=1e-05, gamma=1, kernel=rbf;, score=0.417 total time=   0.0s\n",
      "[CV 5/5] END ......C=1e-05, gamma=1, kernel=rbf;, score=0.417 total time=   0.0s\n",
      "[CV 1/5] END .....C=1e-05, gamma=10, kernel=rbf;, score=0.385 total time=   0.0s\n",
      "[CV 2/5] END .....C=1e-05, gamma=10, kernel=rbf;, score=0.385 total time=   0.0s\n",
      "[CV 3/5] END .....C=1e-05, gamma=10, kernel=rbf;, score=0.333 total time=   0.0s\n",
      "[CV 4/5] END .....C=1e-05, gamma=10, kernel=rbf;, score=0.417 total time=   0.0s\n",
      "[CV 5/5] END .....C=1e-05, gamma=10, kernel=rbf;, score=0.417 total time=   0.0s\n",
      "[CV 1/5] END ....C=1e-05, gamma=100, kernel=rbf;, score=0.385 total time=   0.0s\n",
      "[CV 2/5] END ....C=1e-05, gamma=100, kernel=rbf;, score=0.385 total time=   0.0s\n",
      "[CV 3/5] END ....C=1e-05, gamma=100, kernel=rbf;, score=0.333 total time=   0.0s\n",
      "[CV 4/5] END ....C=1e-05, gamma=100, kernel=rbf;, score=0.417 total time=   0.0s\n",
      "[CV 5/5] END ....C=1e-05, gamma=100, kernel=rbf;, score=0.417 total time=   0.0s\n",
      "[CV 1/5] END ...C=1e-05, gamma=1000, kernel=rbf;, score=0.385 total time=   0.0s\n",
      "[CV 2/5] END ...C=1e-05, gamma=1000, kernel=rbf;, score=0.385 total time=   0.0s\n",
      "[CV 3/5] END ...C=1e-05, gamma=1000, kernel=rbf;, score=0.333 total time=   0.0s\n",
      "[CV 4/5] END ...C=1e-05, gamma=1000, kernel=rbf;, score=0.417 total time=   0.0s\n",
      "[CV 5/5] END ...C=1e-05, gamma=1000, kernel=rbf;, score=0.417 total time=   0.0s\n",
      "[CV 1/5] END ..C=1e-05, gamma=10000, kernel=rbf;, score=0.385 total time=   0.0s\n",
      "[CV 2/5] END ..C=1e-05, gamma=10000, kernel=rbf;, score=0.385 total time=   0.0s\n",
      "[CV 3/5] END ..C=1e-05, gamma=10000, kernel=rbf;, score=0.333 total time=   0.0s\n",
      "[CV 4/5] END ..C=1e-05, gamma=10000, kernel=rbf;, score=0.417 total time=   0.0s\n",
      "[CV 5/5] END ..C=1e-05, gamma=10000, kernel=rbf;, score=0.417 total time=   0.0s\n",
      "[CV 1/5] END .C=0.0001, gamma=1e-05, kernel=rbf;, score=0.385 total time=   0.0s\n",
      "[CV 2/5] END .C=0.0001, gamma=1e-05, kernel=rbf;, score=0.385 total time=   0.0s\n",
      "[CV 3/5] END .C=0.0001, gamma=1e-05, kernel=rbf;, score=0.333 total time=   0.0s\n",
      "[CV 4/5] END .C=0.0001, gamma=1e-05, kernel=rbf;, score=0.417 total time=   0.0s\n",
      "[CV 5/5] END .C=0.0001, gamma=1e-05, kernel=rbf;, score=0.417 total time=   0.0s\n",
      "[CV 1/5] END C=0.0001, gamma=0.0001, kernel=rbf;, score=0.385 total time=   0.0s\n",
      "[CV 2/5] END C=0.0001, gamma=0.0001, kernel=rbf;, score=0.385 total time=   0.0s\n",
      "[CV 3/5] END C=0.0001, gamma=0.0001, kernel=rbf;, score=0.333 total time=   0.0s\n",
      "[CV 4/5] END C=0.0001, gamma=0.0001, kernel=rbf;, score=0.417 total time=   0.0s\n",
      "[CV 5/5] END C=0.0001, gamma=0.0001, kernel=rbf;, score=0.417 total time=   0.0s\n",
      "[CV 1/5] END .C=0.0001, gamma=0.001, kernel=rbf;, score=0.385 total time=   0.0s\n",
      "[CV 2/5] END .C=0.0001, gamma=0.001, kernel=rbf;, score=0.385 total time=   0.0s\n",
      "[CV 3/5] END .C=0.0001, gamma=0.001, kernel=rbf;, score=0.333 total time=   0.0s\n",
      "[CV 4/5] END .C=0.0001, gamma=0.001, kernel=rbf;, score=0.417 total time=   0.0s\n",
      "[CV 5/5] END .C=0.0001, gamma=0.001, kernel=rbf;, score=0.417 total time=   0.0s\n",
      "[CV 1/5] END ..C=0.0001, gamma=0.01, kernel=rbf;, score=0.385 total time=   0.0s\n",
      "[CV 2/5] END ..C=0.0001, gamma=0.01, kernel=rbf;, score=0.385 total time=   0.0s\n",
      "[CV 3/5] END ..C=0.0001, gamma=0.01, kernel=rbf;, score=0.333 total time=   0.0s\n",
      "[CV 4/5] END ..C=0.0001, gamma=0.01, kernel=rbf;, score=0.417 total time=   0.0s\n",
      "[CV 5/5] END ..C=0.0001, gamma=0.01, kernel=rbf;, score=0.417 total time=   0.0s\n",
      "[CV 1/5] END ...C=0.0001, gamma=0.1, kernel=rbf;, score=0.385 total time=   0.0s\n",
      "[CV 2/5] END ...C=0.0001, gamma=0.1, kernel=rbf;, score=0.385 total time=   0.0s\n",
      "[CV 3/5] END ...C=0.0001, gamma=0.1, kernel=rbf;, score=0.333 total time=   0.0s\n",
      "[CV 4/5] END ...C=0.0001, gamma=0.1, kernel=rbf;, score=0.417 total time=   0.0s\n",
      "[CV 5/5] END ...C=0.0001, gamma=0.1, kernel=rbf;, score=0.417 total time=   0.0s\n",
      "[CV 1/5] END .....C=0.0001, gamma=1, kernel=rbf;, score=0.385 total time=   0.0s\n",
      "[CV 2/5] END .....C=0.0001, gamma=1, kernel=rbf;, score=0.385 total time=   0.0s\n",
      "[CV 3/5] END .....C=0.0001, gamma=1, kernel=rbf;, score=0.333 total time=   0.0s\n",
      "[CV 4/5] END .....C=0.0001, gamma=1, kernel=rbf;, score=0.417 total time=   0.0s\n",
      "[CV 5/5] END .....C=0.0001, gamma=1, kernel=rbf;, score=0.417 total time=   0.0s\n",
      "[CV 1/5] END ....C=0.0001, gamma=10, kernel=rbf;, score=0.385 total time=   0.0s\n",
      "[CV 2/5] END ....C=0.0001, gamma=10, kernel=rbf;, score=0.385 total time=   0.0s\n",
      "[CV 3/5] END ....C=0.0001, gamma=10, kernel=rbf;, score=0.333 total time=   0.0s\n",
      "[CV 4/5] END ....C=0.0001, gamma=10, kernel=rbf;, score=0.417 total time=   0.0s\n",
      "[CV 5/5] END ....C=0.0001, gamma=10, kernel=rbf;, score=0.417 total time=   0.0s\n",
      "[CV 1/5] END ...C=0.0001, gamma=100, kernel=rbf;, score=0.385 total time=   0.0s\n",
      "[CV 2/5] END ...C=0.0001, gamma=100, kernel=rbf;, score=0.385 total time=   0.0s\n",
      "[CV 3/5] END ...C=0.0001, gamma=100, kernel=rbf;, score=0.333 total time=   0.0s\n",
      "[CV 4/5] END ...C=0.0001, gamma=100, kernel=rbf;, score=0.417 total time=   0.0s\n",
      "[CV 5/5] END ...C=0.0001, gamma=100, kernel=rbf;, score=0.417 total time=   0.0s\n",
      "[CV 1/5] END ..C=0.0001, gamma=1000, kernel=rbf;, score=0.385 total time=   0.0s\n",
      "[CV 2/5] END ..C=0.0001, gamma=1000, kernel=rbf;, score=0.385 total time=   0.0s\n",
      "[CV 3/5] END ..C=0.0001, gamma=1000, kernel=rbf;, score=0.333 total time=   0.0s\n",
      "[CV 4/5] END ..C=0.0001, gamma=1000, kernel=rbf;, score=0.417 total time=   0.0s\n",
      "[CV 5/5] END ..C=0.0001, gamma=1000, kernel=rbf;, score=0.417 total time=   0.0s\n",
      "[CV 1/5] END .C=0.0001, gamma=10000, kernel=rbf;, score=0.385 total time=   0.0s\n",
      "[CV 2/5] END .C=0.0001, gamma=10000, kernel=rbf;, score=0.385 total time=   0.0s\n",
      "[CV 3/5] END .C=0.0001, gamma=10000, kernel=rbf;, score=0.333 total time=   0.0s\n",
      "[CV 4/5] END .C=0.0001, gamma=10000, kernel=rbf;, score=0.417 total time=   0.0s\n",
      "[CV 5/5] END .C=0.0001, gamma=10000, kernel=rbf;, score=0.417 total time=   0.0s\n",
      "[CV 1/5] END ..C=0.001, gamma=1e-05, kernel=rbf;, score=0.385 total time=   0.0s\n",
      "[CV 2/5] END ..C=0.001, gamma=1e-05, kernel=rbf;, score=0.385 total time=   0.0s\n",
      "[CV 3/5] END ..C=0.001, gamma=1e-05, kernel=rbf;, score=0.333 total time=   0.0s\n",
      "[CV 4/5] END ..C=0.001, gamma=1e-05, kernel=rbf;, score=0.417 total time=   0.0s\n",
      "[CV 5/5] END ..C=0.001, gamma=1e-05, kernel=rbf;, score=0.417 total time=   0.0s\n",
      "[CV 1/5] END .C=0.001, gamma=0.0001, kernel=rbf;, score=0.385 total time=   0.0s\n",
      "[CV 2/5] END .C=0.001, gamma=0.0001, kernel=rbf;, score=0.385 total time=   0.0s\n",
      "[CV 3/5] END .C=0.001, gamma=0.0001, kernel=rbf;, score=0.333 total time=   0.0s\n",
      "[CV 4/5] END .C=0.001, gamma=0.0001, kernel=rbf;, score=0.417 total time=   0.0s\n",
      "[CV 5/5] END .C=0.001, gamma=0.0001, kernel=rbf;, score=0.417 total time=   0.0s\n",
      "[CV 1/5] END ..C=0.001, gamma=0.001, kernel=rbf;, score=0.385 total time=   0.0s\n",
      "[CV 2/5] END ..C=0.001, gamma=0.001, kernel=rbf;, score=0.385 total time=   0.0s\n",
      "[CV 3/5] END ..C=0.001, gamma=0.001, kernel=rbf;, score=0.333 total time=   0.0s\n",
      "[CV 4/5] END ..C=0.001, gamma=0.001, kernel=rbf;, score=0.417 total time=   0.0s\n",
      "[CV 5/5] END ..C=0.001, gamma=0.001, kernel=rbf;, score=0.417 total time=   0.0s\n",
      "[CV 1/5] END ...C=0.001, gamma=0.01, kernel=rbf;, score=0.385 total time=   0.0s\n",
      "[CV 2/5] END ...C=0.001, gamma=0.01, kernel=rbf;, score=0.385 total time=   0.0s\n",
      "[CV 3/5] END ...C=0.001, gamma=0.01, kernel=rbf;, score=0.333 total time=   0.0s\n"
     ]
    },
    {
     "name": "stdout",
     "output_type": "stream",
     "text": [
      "[CV 4/5] END ...C=0.001, gamma=0.01, kernel=rbf;, score=0.417 total time=   0.0s\n",
      "[CV 5/5] END ...C=0.001, gamma=0.01, kernel=rbf;, score=0.417 total time=   0.0s\n",
      "[CV 1/5] END ....C=0.001, gamma=0.1, kernel=rbf;, score=0.385 total time=   0.0s\n",
      "[CV 2/5] END ....C=0.001, gamma=0.1, kernel=rbf;, score=0.385 total time=   0.0s\n",
      "[CV 3/5] END ....C=0.001, gamma=0.1, kernel=rbf;, score=0.333 total time=   0.0s\n",
      "[CV 4/5] END ....C=0.001, gamma=0.1, kernel=rbf;, score=0.417 total time=   0.0s\n",
      "[CV 5/5] END ....C=0.001, gamma=0.1, kernel=rbf;, score=0.417 total time=   0.0s\n",
      "[CV 1/5] END ......C=0.001, gamma=1, kernel=rbf;, score=0.385 total time=   0.0s\n",
      "[CV 2/5] END ......C=0.001, gamma=1, kernel=rbf;, score=0.385 total time=   0.0s\n",
      "[CV 3/5] END ......C=0.001, gamma=1, kernel=rbf;, score=0.333 total time=   0.0s\n",
      "[CV 4/5] END ......C=0.001, gamma=1, kernel=rbf;, score=0.417 total time=   0.0s\n",
      "[CV 5/5] END ......C=0.001, gamma=1, kernel=rbf;, score=0.417 total time=   0.0s\n",
      "[CV 1/5] END .....C=0.001, gamma=10, kernel=rbf;, score=0.385 total time=   0.0s\n",
      "[CV 2/5] END .....C=0.001, gamma=10, kernel=rbf;, score=0.385 total time=   0.0s\n",
      "[CV 3/5] END .....C=0.001, gamma=10, kernel=rbf;, score=0.333 total time=   0.0s\n",
      "[CV 4/5] END .....C=0.001, gamma=10, kernel=rbf;, score=0.417 total time=   0.0s\n",
      "[CV 5/5] END .....C=0.001, gamma=10, kernel=rbf;, score=0.417 total time=   0.0s\n",
      "[CV 1/5] END ....C=0.001, gamma=100, kernel=rbf;, score=0.385 total time=   0.0s\n",
      "[CV 2/5] END ....C=0.001, gamma=100, kernel=rbf;, score=0.385 total time=   0.0s\n",
      "[CV 3/5] END ....C=0.001, gamma=100, kernel=rbf;, score=0.333 total time=   0.0s\n",
      "[CV 4/5] END ....C=0.001, gamma=100, kernel=rbf;, score=0.417 total time=   0.0s\n",
      "[CV 5/5] END ....C=0.001, gamma=100, kernel=rbf;, score=0.417 total time=   0.0s\n",
      "[CV 1/5] END ...C=0.001, gamma=1000, kernel=rbf;, score=0.385 total time=   0.0s\n",
      "[CV 2/5] END ...C=0.001, gamma=1000, kernel=rbf;, score=0.385 total time=   0.0s\n",
      "[CV 3/5] END ...C=0.001, gamma=1000, kernel=rbf;, score=0.333 total time=   0.0s\n",
      "[CV 4/5] END ...C=0.001, gamma=1000, kernel=rbf;, score=0.417 total time=   0.0s\n",
      "[CV 5/5] END ...C=0.001, gamma=1000, kernel=rbf;, score=0.417 total time=   0.0s\n",
      "[CV 1/5] END ..C=0.001, gamma=10000, kernel=rbf;, score=0.385 total time=   0.0s\n",
      "[CV 2/5] END ..C=0.001, gamma=10000, kernel=rbf;, score=0.385 total time=   0.0s\n",
      "[CV 3/5] END ..C=0.001, gamma=10000, kernel=rbf;, score=0.333 total time=   0.0s\n",
      "[CV 4/5] END ..C=0.001, gamma=10000, kernel=rbf;, score=0.417 total time=   0.0s\n",
      "[CV 5/5] END ..C=0.001, gamma=10000, kernel=rbf;, score=0.417 total time=   0.0s\n",
      "[CV 1/5] END ...C=0.01, gamma=1e-05, kernel=rbf;, score=0.385 total time=   0.0s\n",
      "[CV 2/5] END ...C=0.01, gamma=1e-05, kernel=rbf;, score=0.385 total time=   0.0s\n",
      "[CV 3/5] END ...C=0.01, gamma=1e-05, kernel=rbf;, score=0.333 total time=   0.0s\n",
      "[CV 4/5] END ...C=0.01, gamma=1e-05, kernel=rbf;, score=0.417 total time=   0.0s\n",
      "[CV 5/5] END ...C=0.01, gamma=1e-05, kernel=rbf;, score=0.417 total time=   0.0s\n",
      "[CV 1/5] END ..C=0.01, gamma=0.0001, kernel=rbf;, score=0.385 total time=   0.0s\n",
      "[CV 2/5] END ..C=0.01, gamma=0.0001, kernel=rbf;, score=0.385 total time=   0.0s\n",
      "[CV 3/5] END ..C=0.01, gamma=0.0001, kernel=rbf;, score=0.333 total time=   0.0s\n",
      "[CV 4/5] END ..C=0.01, gamma=0.0001, kernel=rbf;, score=0.417 total time=   0.0s\n",
      "[CV 5/5] END ..C=0.01, gamma=0.0001, kernel=rbf;, score=0.417 total time=   0.0s\n",
      "[CV 1/5] END ...C=0.01, gamma=0.001, kernel=rbf;, score=0.385 total time=   0.0s\n",
      "[CV 2/5] END ...C=0.01, gamma=0.001, kernel=rbf;, score=0.385 total time=   0.0s\n",
      "[CV 3/5] END ...C=0.01, gamma=0.001, kernel=rbf;, score=0.333 total time=   0.0s\n",
      "[CV 4/5] END ...C=0.01, gamma=0.001, kernel=rbf;, score=0.417 total time=   0.0s\n",
      "[CV 5/5] END ...C=0.01, gamma=0.001, kernel=rbf;, score=0.417 total time=   0.0s\n",
      "[CV 1/5] END ....C=0.01, gamma=0.01, kernel=rbf;, score=0.385 total time=   0.0s\n",
      "[CV 2/5] END ....C=0.01, gamma=0.01, kernel=rbf;, score=0.385 total time=   0.0s\n",
      "[CV 3/5] END ....C=0.01, gamma=0.01, kernel=rbf;, score=0.333 total time=   0.0s\n",
      "[CV 4/5] END ....C=0.01, gamma=0.01, kernel=rbf;, score=0.417 total time=   0.0s\n",
      "[CV 5/5] END ....C=0.01, gamma=0.01, kernel=rbf;, score=0.417 total time=   0.0s\n",
      "[CV 1/5] END .....C=0.01, gamma=0.1, kernel=rbf;, score=0.385 total time=   0.0s\n",
      "[CV 2/5] END .....C=0.01, gamma=0.1, kernel=rbf;, score=0.385 total time=   0.0s\n",
      "[CV 3/5] END .....C=0.01, gamma=0.1, kernel=rbf;, score=0.333 total time=   0.0s\n",
      "[CV 4/5] END .....C=0.01, gamma=0.1, kernel=rbf;, score=0.417 total time=   0.0s\n",
      "[CV 5/5] END .....C=0.01, gamma=0.1, kernel=rbf;, score=0.417 total time=   0.0s\n",
      "[CV 1/5] END .......C=0.01, gamma=1, kernel=rbf;, score=0.385 total time=   0.0s\n",
      "[CV 2/5] END .......C=0.01, gamma=1, kernel=rbf;, score=0.385 total time=   0.0s\n",
      "[CV 3/5] END .......C=0.01, gamma=1, kernel=rbf;, score=0.333 total time=   0.0s\n",
      "[CV 4/5] END .......C=0.01, gamma=1, kernel=rbf;, score=0.417 total time=   0.0s\n",
      "[CV 5/5] END .......C=0.01, gamma=1, kernel=rbf;, score=0.417 total time=   0.0s\n",
      "[CV 1/5] END ......C=0.01, gamma=10, kernel=rbf;, score=0.385 total time=   0.0s\n",
      "[CV 2/5] END ......C=0.01, gamma=10, kernel=rbf;, score=0.385 total time=   0.0s\n",
      "[CV 3/5] END ......C=0.01, gamma=10, kernel=rbf;, score=0.333 total time=   0.0s\n",
      "[CV 4/5] END ......C=0.01, gamma=10, kernel=rbf;, score=0.417 total time=   0.0s\n",
      "[CV 5/5] END ......C=0.01, gamma=10, kernel=rbf;, score=0.417 total time=   0.0s\n",
      "[CV 1/5] END .....C=0.01, gamma=100, kernel=rbf;, score=0.385 total time=   0.0s\n",
      "[CV 2/5] END .....C=0.01, gamma=100, kernel=rbf;, score=0.385 total time=   0.0s\n",
      "[CV 3/5] END .....C=0.01, gamma=100, kernel=rbf;, score=0.333 total time=   0.0s\n",
      "[CV 4/5] END .....C=0.01, gamma=100, kernel=rbf;, score=0.417 total time=   0.0s\n",
      "[CV 5/5] END .....C=0.01, gamma=100, kernel=rbf;, score=0.417 total time=   0.0s\n",
      "[CV 1/5] END ....C=0.01, gamma=1000, kernel=rbf;, score=0.385 total time=   0.0s\n",
      "[CV 2/5] END ....C=0.01, gamma=1000, kernel=rbf;, score=0.385 total time=   0.0s\n",
      "[CV 3/5] END ....C=0.01, gamma=1000, kernel=rbf;, score=0.333 total time=   0.0s\n",
      "[CV 4/5] END ....C=0.01, gamma=1000, kernel=rbf;, score=0.417 total time=   0.0s\n",
      "[CV 5/5] END ....C=0.01, gamma=1000, kernel=rbf;, score=0.417 total time=   0.0s\n",
      "[CV 1/5] END ...C=0.01, gamma=10000, kernel=rbf;, score=0.385 total time=   0.0s\n",
      "[CV 2/5] END ...C=0.01, gamma=10000, kernel=rbf;, score=0.385 total time=   0.0s\n",
      "[CV 3/5] END ...C=0.01, gamma=10000, kernel=rbf;, score=0.333 total time=   0.0s\n",
      "[CV 4/5] END ...C=0.01, gamma=10000, kernel=rbf;, score=0.417 total time=   0.0s\n",
      "[CV 5/5] END ...C=0.01, gamma=10000, kernel=rbf;, score=0.417 total time=   0.0s\n",
      "[CV 1/5] END ....C=0.1, gamma=1e-05, kernel=rbf;, score=0.385 total time=   0.0s\n",
      "[CV 2/5] END ....C=0.1, gamma=1e-05, kernel=rbf;, score=0.385 total time=   0.0s\n",
      "[CV 3/5] END ....C=0.1, gamma=1e-05, kernel=rbf;, score=0.333 total time=   0.0s\n",
      "[CV 4/5] END ....C=0.1, gamma=1e-05, kernel=rbf;, score=0.417 total time=   0.0s\n",
      "[CV 5/5] END ....C=0.1, gamma=1e-05, kernel=rbf;, score=0.417 total time=   0.0s\n",
      "[CV 1/5] END ...C=0.1, gamma=0.0001, kernel=rbf;, score=0.385 total time=   0.0s\n",
      "[CV 2/5] END ...C=0.1, gamma=0.0001, kernel=rbf;, score=0.385 total time=   0.0s\n",
      "[CV 3/5] END ...C=0.1, gamma=0.0001, kernel=rbf;, score=0.333 total time=   0.0s\n",
      "[CV 4/5] END ...C=0.1, gamma=0.0001, kernel=rbf;, score=0.417 total time=   0.0s\n",
      "[CV 5/5] END ...C=0.1, gamma=0.0001, kernel=rbf;, score=0.417 total time=   0.0s\n",
      "[CV 1/5] END ....C=0.1, gamma=0.001, kernel=rbf;, score=0.385 total time=   0.0s\n",
      "[CV 2/5] END ....C=0.1, gamma=0.001, kernel=rbf;, score=0.385 total time=   0.0s\n",
      "[CV 3/5] END ....C=0.1, gamma=0.001, kernel=rbf;, score=0.333 total time=   0.0s\n",
      "[CV 4/5] END ....C=0.1, gamma=0.001, kernel=rbf;, score=0.417 total time=   0.0s\n",
      "[CV 5/5] END ....C=0.1, gamma=0.001, kernel=rbf;, score=0.417 total time=   0.0s\n",
      "[CV 1/5] END .....C=0.1, gamma=0.01, kernel=rbf;, score=0.538 total time=   0.0s\n",
      "[CV 2/5] END .....C=0.1, gamma=0.01, kernel=rbf;, score=0.462 total time=   0.0s\n",
      "[CV 3/5] END .....C=0.1, gamma=0.01, kernel=rbf;, score=0.333 total time=   0.0s\n",
      "[CV 4/5] END .....C=0.1, gamma=0.01, kernel=rbf;, score=0.583 total time=   0.0s\n",
      "[CV 5/5] END .....C=0.1, gamma=0.01, kernel=rbf;, score=0.583 total time=   0.0s\n",
      "[CV 1/5] END ......C=0.1, gamma=0.1, kernel=rbf;, score=0.538 total time=   0.0s\n",
      "[CV 2/5] END ......C=0.1, gamma=0.1, kernel=rbf;, score=0.462 total time=   0.0s\n",
      "[CV 3/5] END ......C=0.1, gamma=0.1, kernel=rbf;, score=0.333 total time=   0.0s\n",
      "[CV 4/5] END ......C=0.1, gamma=0.1, kernel=rbf;, score=0.583 total time=   0.0s\n",
      "[CV 5/5] END ......C=0.1, gamma=0.1, kernel=rbf;, score=0.583 total time=   0.0s\n",
      "[CV 1/5] END ........C=0.1, gamma=1, kernel=rbf;, score=0.538 total time=   0.0s\n",
      "[CV 2/5] END ........C=0.1, gamma=1, kernel=rbf;, score=0.462 total time=   0.0s\n",
      "[CV 3/5] END ........C=0.1, gamma=1, kernel=rbf;, score=0.333 total time=   0.0s\n",
      "[CV 4/5] END ........C=0.1, gamma=1, kernel=rbf;, score=0.583 total time=   0.0s\n",
      "[CV 5/5] END ........C=0.1, gamma=1, kernel=rbf;, score=0.583 total time=   0.0s\n",
      "[CV 1/5] END .......C=0.1, gamma=10, kernel=rbf;, score=0.385 total time=   0.0s\n",
      "[CV 2/5] END .......C=0.1, gamma=10, kernel=rbf;, score=0.385 total time=   0.0s\n",
      "[CV 3/5] END .......C=0.1, gamma=10, kernel=rbf;, score=0.333 total time=   0.0s\n",
      "[CV 4/5] END .......C=0.1, gamma=10, kernel=rbf;, score=0.417 total time=   0.0s\n",
      "[CV 5/5] END .......C=0.1, gamma=10, kernel=rbf;, score=0.417 total time=   0.0s\n",
      "[CV 1/5] END ......C=0.1, gamma=100, kernel=rbf;, score=0.385 total time=   0.0s\n"
     ]
    },
    {
     "name": "stdout",
     "output_type": "stream",
     "text": [
      "[CV 2/5] END ......C=0.1, gamma=100, kernel=rbf;, score=0.385 total time=   0.0s\n",
      "[CV 3/5] END ......C=0.1, gamma=100, kernel=rbf;, score=0.333 total time=   0.0s\n",
      "[CV 4/5] END ......C=0.1, gamma=100, kernel=rbf;, score=0.417 total time=   0.0s\n",
      "[CV 5/5] END ......C=0.1, gamma=100, kernel=rbf;, score=0.417 total time=   0.0s\n",
      "[CV 1/5] END .....C=0.1, gamma=1000, kernel=rbf;, score=0.385 total time=   0.0s\n",
      "[CV 2/5] END .....C=0.1, gamma=1000, kernel=rbf;, score=0.385 total time=   0.0s\n",
      "[CV 3/5] END .....C=0.1, gamma=1000, kernel=rbf;, score=0.333 total time=   0.0s\n",
      "[CV 4/5] END .....C=0.1, gamma=1000, kernel=rbf;, score=0.417 total time=   0.0s\n",
      "[CV 5/5] END .....C=0.1, gamma=1000, kernel=rbf;, score=0.417 total time=   0.0s\n",
      "[CV 1/5] END ....C=0.1, gamma=10000, kernel=rbf;, score=0.385 total time=   0.0s\n",
      "[CV 2/5] END ....C=0.1, gamma=10000, kernel=rbf;, score=0.385 total time=   0.0s\n",
      "[CV 3/5] END ....C=0.1, gamma=10000, kernel=rbf;, score=0.333 total time=   0.0s\n",
      "[CV 4/5] END ....C=0.1, gamma=10000, kernel=rbf;, score=0.417 total time=   0.0s\n",
      "[CV 5/5] END ....C=0.1, gamma=10000, kernel=rbf;, score=0.417 total time=   0.0s\n",
      "[CV 1/5] END ......C=1, gamma=1e-05, kernel=rbf;, score=0.385 total time=   0.0s\n",
      "[CV 2/5] END ......C=1, gamma=1e-05, kernel=rbf;, score=0.385 total time=   0.0s\n",
      "[CV 3/5] END ......C=1, gamma=1e-05, kernel=rbf;, score=0.333 total time=   0.0s\n",
      "[CV 4/5] END ......C=1, gamma=1e-05, kernel=rbf;, score=0.333 total time=   0.0s\n",
      "[CV 5/5] END ......C=1, gamma=1e-05, kernel=rbf;, score=0.417 total time=   0.0s\n",
      "[CV 1/5] END .....C=1, gamma=0.0001, kernel=rbf;, score=0.538 total time=   0.0s\n",
      "[CV 2/5] END .....C=1, gamma=0.0001, kernel=rbf;, score=0.385 total time=   0.0s\n",
      "[CV 3/5] END .....C=1, gamma=0.0001, kernel=rbf;, score=0.333 total time=   0.0s\n",
      "[CV 4/5] END .....C=1, gamma=0.0001, kernel=rbf;, score=0.333 total time=   0.0s\n",
      "[CV 5/5] END .....C=1, gamma=0.0001, kernel=rbf;, score=0.500 total time=   0.0s\n",
      "[CV 1/5] END ......C=1, gamma=0.001, kernel=rbf;, score=0.538 total time=   0.0s\n",
      "[CV 2/5] END ......C=1, gamma=0.001, kernel=rbf;, score=0.462 total time=   0.0s\n",
      "[CV 3/5] END ......C=1, gamma=0.001, kernel=rbf;, score=0.583 total time=   0.0s\n",
      "[CV 4/5] END ......C=1, gamma=0.001, kernel=rbf;, score=0.500 total time=   0.0s\n",
      "[CV 5/5] END ......C=1, gamma=0.001, kernel=rbf;, score=0.667 total time=   0.0s\n",
      "[CV 1/5] END .......C=1, gamma=0.01, kernel=rbf;, score=0.538 total time=   0.0s\n",
      "[CV 2/5] END .......C=1, gamma=0.01, kernel=rbf;, score=0.462 total time=   0.0s\n",
      "[CV 3/5] END .......C=1, gamma=0.01, kernel=rbf;, score=0.583 total time=   0.0s\n",
      "[CV 4/5] END .......C=1, gamma=0.01, kernel=rbf;, score=0.500 total time=   0.0s\n",
      "[CV 5/5] END .......C=1, gamma=0.01, kernel=rbf;, score=0.583 total time=   0.0s\n",
      "[CV 1/5] END ........C=1, gamma=0.1, kernel=rbf;, score=0.538 total time=   0.0s\n",
      "[CV 2/5] END ........C=1, gamma=0.1, kernel=rbf;, score=0.462 total time=   0.0s\n",
      "[CV 3/5] END ........C=1, gamma=0.1, kernel=rbf;, score=0.583 total time=   0.0s\n",
      "[CV 4/5] END ........C=1, gamma=0.1, kernel=rbf;, score=0.583 total time=   0.0s\n",
      "[CV 5/5] END ........C=1, gamma=0.1, kernel=rbf;, score=0.667 total time=   0.0s\n",
      "[CV 1/5] END ..........C=1, gamma=1, kernel=rbf;, score=0.538 total time=   0.0s\n",
      "[CV 2/5] END ..........C=1, gamma=1, kernel=rbf;, score=0.538 total time=   0.0s\n",
      "[CV 3/5] END ..........C=1, gamma=1, kernel=rbf;, score=0.667 total time=   0.0s\n",
      "[CV 4/5] END ..........C=1, gamma=1, kernel=rbf;, score=0.583 total time=   0.0s\n",
      "[CV 5/5] END ..........C=1, gamma=1, kernel=rbf;, score=0.667 total time=   0.0s\n",
      "[CV 1/5] END .........C=1, gamma=10, kernel=rbf;, score=0.538 total time=   0.0s\n",
      "[CV 2/5] END .........C=1, gamma=10, kernel=rbf;, score=0.615 total time=   0.0s\n",
      "[CV 3/5] END .........C=1, gamma=10, kernel=rbf;, score=0.667 total time=   0.0s\n",
      "[CV 4/5] END .........C=1, gamma=10, kernel=rbf;, score=0.667 total time=   0.0s\n",
      "[CV 5/5] END .........C=1, gamma=10, kernel=rbf;, score=0.750 total time=   0.0s\n",
      "[CV 1/5] END ........C=1, gamma=100, kernel=rbf;, score=0.538 total time=   0.0s\n",
      "[CV 2/5] END ........C=1, gamma=100, kernel=rbf;, score=0.462 total time=   0.0s\n",
      "[CV 3/5] END ........C=1, gamma=100, kernel=rbf;, score=0.667 total time=   0.0s\n",
      "[CV 4/5] END ........C=1, gamma=100, kernel=rbf;, score=0.667 total time=   0.0s\n",
      "[CV 5/5] END ........C=1, gamma=100, kernel=rbf;, score=0.750 total time=   0.0s\n",
      "[CV 1/5] END .......C=1, gamma=1000, kernel=rbf;, score=0.385 total time=   0.0s\n",
      "[CV 2/5] END .......C=1, gamma=1000, kernel=rbf;, score=0.462 total time=   0.0s\n",
      "[CV 3/5] END .......C=1, gamma=1000, kernel=rbf;, score=0.583 total time=   0.0s\n",
      "[CV 4/5] END .......C=1, gamma=1000, kernel=rbf;, score=0.750 total time=   0.0s\n",
      "[CV 5/5] END .......C=1, gamma=1000, kernel=rbf;, score=0.667 total time=   0.0s\n",
      "[CV 1/5] END ......C=1, gamma=10000, kernel=rbf;, score=0.385 total time=   0.0s\n",
      "[CV 2/5] END ......C=1, gamma=10000, kernel=rbf;, score=0.385 total time=   0.0s\n",
      "[CV 3/5] END ......C=1, gamma=10000, kernel=rbf;, score=0.333 total time=   0.0s\n",
      "[CV 4/5] END ......C=1, gamma=10000, kernel=rbf;, score=0.417 total time=   0.0s\n",
      "[CV 5/5] END ......C=1, gamma=10000, kernel=rbf;, score=0.500 total time=   0.0s\n",
      "[CV 1/5] END .....C=10, gamma=1e-05, kernel=rbf;, score=0.385 total time=   0.0s\n",
      "[CV 2/5] END .....C=10, gamma=1e-05, kernel=rbf;, score=0.385 total time=   0.0s\n",
      "[CV 3/5] END .....C=10, gamma=1e-05, kernel=rbf;, score=0.333 total time=   0.0s\n",
      "[CV 4/5] END .....C=10, gamma=1e-05, kernel=rbf;, score=0.417 total time=   0.0s\n",
      "[CV 5/5] END .....C=10, gamma=1e-05, kernel=rbf;, score=0.500 total time=   0.0s\n",
      "[CV 1/5] END ....C=10, gamma=0.0001, kernel=rbf;, score=0.538 total time=   0.0s\n",
      "[CV 2/5] END ....C=10, gamma=0.0001, kernel=rbf;, score=0.385 total time=   0.0s\n",
      "[CV 3/5] END ....C=10, gamma=0.0001, kernel=rbf;, score=0.417 total time=   0.0s\n",
      "[CV 4/5] END ....C=10, gamma=0.0001, kernel=rbf;, score=0.500 total time=   0.0s\n",
      "[CV 5/5] END ....C=10, gamma=0.0001, kernel=rbf;, score=0.667 total time=   0.0s\n",
      "[CV 1/5] END .....C=10, gamma=0.001, kernel=rbf;, score=0.538 total time=   0.0s\n",
      "[CV 2/5] END .....C=10, gamma=0.001, kernel=rbf;, score=0.462 total time=   0.0s\n",
      "[CV 3/5] END .....C=10, gamma=0.001, kernel=rbf;, score=0.583 total time=   0.0s\n",
      "[CV 4/5] END .....C=10, gamma=0.001, kernel=rbf;, score=0.500 total time=   0.0s\n",
      "[CV 5/5] END .....C=10, gamma=0.001, kernel=rbf;, score=0.667 total time=   0.0s\n",
      "[CV 1/5] END ......C=10, gamma=0.01, kernel=rbf;, score=0.538 total time=   0.0s\n",
      "[CV 2/5] END ......C=10, gamma=0.01, kernel=rbf;, score=0.462 total time=   0.0s\n",
      "[CV 3/5] END ......C=10, gamma=0.01, kernel=rbf;, score=0.583 total time=   0.0s\n",
      "[CV 4/5] END ......C=10, gamma=0.01, kernel=rbf;, score=0.500 total time=   0.0s\n",
      "[CV 5/5] END ......C=10, gamma=0.01, kernel=rbf;, score=0.667 total time=   0.0s\n",
      "[CV 1/5] END .......C=10, gamma=0.1, kernel=rbf;, score=0.538 total time=   0.0s\n",
      "[CV 2/5] END .......C=10, gamma=0.1, kernel=rbf;, score=0.769 total time=   0.0s\n",
      "[CV 3/5] END .......C=10, gamma=0.1, kernel=rbf;, score=0.667 total time=   0.0s\n",
      "[CV 4/5] END .......C=10, gamma=0.1, kernel=rbf;, score=0.583 total time=   0.0s\n",
      "[CV 5/5] END .......C=10, gamma=0.1, kernel=rbf;, score=0.750 total time=   0.0s\n",
      "[CV 1/5] END .........C=10, gamma=1, kernel=rbf;, score=0.615 total time=   0.0s\n",
      "[CV 2/5] END .........C=10, gamma=1, kernel=rbf;, score=0.615 total time=   0.0s\n",
      "[CV 3/5] END .........C=10, gamma=1, kernel=rbf;, score=0.583 total time=   0.0s\n",
      "[CV 4/5] END .........C=10, gamma=1, kernel=rbf;, score=0.500 total time=   0.0s\n",
      "[CV 5/5] END .........C=10, gamma=1, kernel=rbf;, score=0.583 total time=   0.0s\n",
      "[CV 1/5] END ........C=10, gamma=10, kernel=rbf;, score=0.615 total time=   0.0s\n",
      "[CV 2/5] END ........C=10, gamma=10, kernel=rbf;, score=0.692 total time=   0.0s\n",
      "[CV 3/5] END ........C=10, gamma=10, kernel=rbf;, score=0.583 total time=   0.0s\n",
      "[CV 4/5] END ........C=10, gamma=10, kernel=rbf;, score=0.750 total time=   0.0s\n",
      "[CV 5/5] END ........C=10, gamma=10, kernel=rbf;, score=0.833 total time=   0.0s\n",
      "[CV 1/5] END .......C=10, gamma=100, kernel=rbf;, score=0.538 total time=   0.0s\n",
      "[CV 2/5] END .......C=10, gamma=100, kernel=rbf;, score=0.538 total time=   0.0s\n",
      "[CV 3/5] END .......C=10, gamma=100, kernel=rbf;, score=0.667 total time=   0.0s\n",
      "[CV 4/5] END .......C=10, gamma=100, kernel=rbf;, score=0.667 total time=   0.0s\n",
      "[CV 5/5] END .......C=10, gamma=100, kernel=rbf;, score=0.833 total time=   0.0s\n",
      "[CV 1/5] END ......C=10, gamma=1000, kernel=rbf;, score=0.385 total time=   0.0s\n",
      "[CV 2/5] END ......C=10, gamma=1000, kernel=rbf;, score=0.538 total time=   0.0s\n",
      "[CV 3/5] END ......C=10, gamma=1000, kernel=rbf;, score=0.583 total time=   0.0s\n",
      "[CV 4/5] END ......C=10, gamma=1000, kernel=rbf;, score=0.750 total time=   0.0s\n",
      "[CV 5/5] END ......C=10, gamma=1000, kernel=rbf;, score=0.667 total time=   0.0s\n",
      "[CV 1/5] END .....C=10, gamma=10000, kernel=rbf;, score=0.385 total time=   0.0s\n",
      "[CV 2/5] END .....C=10, gamma=10000, kernel=rbf;, score=0.385 total time=   0.0s\n",
      "[CV 3/5] END .....C=10, gamma=10000, kernel=rbf;, score=0.417 total time=   0.0s\n",
      "[CV 4/5] END .....C=10, gamma=10000, kernel=rbf;, score=0.417 total time=   0.0s\n",
      "[CV 5/5] END .....C=10, gamma=10000, kernel=rbf;, score=0.500 total time=   0.0s\n",
      "[CV 1/5] END ....C=100, gamma=1e-05, kernel=rbf;, score=0.385 total time=   0.0s\n",
      "[CV 2/5] END ....C=100, gamma=1e-05, kernel=rbf;, score=0.385 total time=   0.0s\n",
      "[CV 3/5] END ....C=100, gamma=1e-05, kernel=rbf;, score=0.333 total time=   0.0s\n",
      "[CV 4/5] END ....C=100, gamma=1e-05, kernel=rbf;, score=0.333 total time=   0.0s\n",
      "[CV 5/5] END ....C=100, gamma=1e-05, kernel=rbf;, score=0.500 total time=   0.0s\n",
      "[CV 1/5] END ...C=100, gamma=0.0001, kernel=rbf;, score=0.538 total time=   0.0s\n",
      "[CV 2/5] END ...C=100, gamma=0.0001, kernel=rbf;, score=0.462 total time=   0.0s\n",
      "[CV 3/5] END ...C=100, gamma=0.0001, kernel=rbf;, score=0.583 total time=   0.0s\n",
      "[CV 4/5] END ...C=100, gamma=0.0001, kernel=rbf;, score=0.500 total time=   0.0s\n",
      "[CV 5/5] END ...C=100, gamma=0.0001, kernel=rbf;, score=0.667 total time=   0.0s\n",
      "[CV 1/5] END ....C=100, gamma=0.001, kernel=rbf;, score=0.538 total time=   0.0s\n",
      "[CV 2/5] END ....C=100, gamma=0.001, kernel=rbf;, score=0.462 total time=   0.0s\n",
      "[CV 3/5] END ....C=100, gamma=0.001, kernel=rbf;, score=0.583 total time=   0.0s\n",
      "[CV 4/5] END ....C=100, gamma=0.001, kernel=rbf;, score=0.500 total time=   0.0s\n"
     ]
    },
    {
     "name": "stdout",
     "output_type": "stream",
     "text": [
      "[CV 5/5] END ....C=100, gamma=0.001, kernel=rbf;, score=0.667 total time=   0.0s\n",
      "[CV 1/5] END .....C=100, gamma=0.01, kernel=rbf;, score=0.538 total time=   0.0s\n",
      "[CV 2/5] END .....C=100, gamma=0.01, kernel=rbf;, score=0.462 total time=   0.0s\n",
      "[CV 3/5] END .....C=100, gamma=0.01, kernel=rbf;, score=0.667 total time=   0.0s\n",
      "[CV 4/5] END .....C=100, gamma=0.01, kernel=rbf;, score=0.583 total time=   0.0s\n",
      "[CV 5/5] END .....C=100, gamma=0.01, kernel=rbf;, score=0.750 total time=   0.0s\n",
      "[CV 1/5] END ......C=100, gamma=0.1, kernel=rbf;, score=0.538 total time=   0.0s\n",
      "[CV 2/5] END ......C=100, gamma=0.1, kernel=rbf;, score=0.538 total time=   0.0s\n",
      "[CV 3/5] END ......C=100, gamma=0.1, kernel=rbf;, score=0.667 total time=   0.0s\n",
      "[CV 4/5] END ......C=100, gamma=0.1, kernel=rbf;, score=0.500 total time=   0.0s\n",
      "[CV 5/5] END ......C=100, gamma=0.1, kernel=rbf;, score=0.667 total time=   0.0s\n",
      "[CV 1/5] END ........C=100, gamma=1, kernel=rbf;, score=0.615 total time=   0.0s\n",
      "[CV 2/5] END ........C=100, gamma=1, kernel=rbf;, score=0.615 total time=   0.0s\n",
      "[CV 3/5] END ........C=100, gamma=1, kernel=rbf;, score=0.583 total time=   0.0s\n",
      "[CV 4/5] END ........C=100, gamma=1, kernel=rbf;, score=0.667 total time=   0.0s\n",
      "[CV 5/5] END ........C=100, gamma=1, kernel=rbf;, score=0.833 total time=   0.0s\n",
      "[CV 1/5] END .......C=100, gamma=10, kernel=rbf;, score=0.615 total time=   0.0s\n",
      "[CV 2/5] END .......C=100, gamma=10, kernel=rbf;, score=0.615 total time=   0.0s\n",
      "[CV 3/5] END .......C=100, gamma=10, kernel=rbf;, score=0.750 total time=   0.0s\n",
      "[CV 4/5] END .......C=100, gamma=10, kernel=rbf;, score=0.667 total time=   0.0s\n",
      "[CV 5/5] END .......C=100, gamma=10, kernel=rbf;, score=0.833 total time=   0.0s\n",
      "[CV 1/5] END ......C=100, gamma=100, kernel=rbf;, score=0.615 total time=   0.0s\n",
      "[CV 2/5] END ......C=100, gamma=100, kernel=rbf;, score=0.538 total time=   0.0s\n",
      "[CV 3/5] END ......C=100, gamma=100, kernel=rbf;, score=0.667 total time=   0.0s\n",
      "[CV 4/5] END ......C=100, gamma=100, kernel=rbf;, score=0.667 total time=   0.0s\n",
      "[CV 5/5] END ......C=100, gamma=100, kernel=rbf;, score=0.583 total time=   0.0s\n",
      "[CV 1/5] END .....C=100, gamma=1000, kernel=rbf;, score=0.538 total time=   0.0s\n",
      "[CV 2/5] END .....C=100, gamma=1000, kernel=rbf;, score=0.538 total time=   0.0s\n",
      "[CV 3/5] END .....C=100, gamma=1000, kernel=rbf;, score=0.583 total time=   0.0s\n",
      "[CV 4/5] END .....C=100, gamma=1000, kernel=rbf;, score=0.667 total time=   0.0s\n",
      "[CV 5/5] END .....C=100, gamma=1000, kernel=rbf;, score=0.667 total time=   0.0s\n",
      "[CV 1/5] END ....C=100, gamma=10000, kernel=rbf;, score=0.308 total time=   0.0s\n",
      "[CV 2/5] END ....C=100, gamma=10000, kernel=rbf;, score=0.385 total time=   0.0s\n",
      "[CV 3/5] END ....C=100, gamma=10000, kernel=rbf;, score=0.583 total time=   0.0s\n",
      "[CV 4/5] END ....C=100, gamma=10000, kernel=rbf;, score=0.417 total time=   0.0s\n",
      "[CV 5/5] END ....C=100, gamma=10000, kernel=rbf;, score=0.417 total time=   0.0s\n",
      "[CV 1/5] END ...C=1000, gamma=1e-05, kernel=rbf;, score=0.385 total time=   0.0s\n",
      "[CV 2/5] END ...C=1000, gamma=1e-05, kernel=rbf;, score=0.385 total time=   0.0s\n",
      "[CV 3/5] END ...C=1000, gamma=1e-05, kernel=rbf;, score=0.417 total time=   0.0s\n",
      "[CV 4/5] END ...C=1000, gamma=1e-05, kernel=rbf;, score=0.333 total time=   0.0s\n",
      "[CV 5/5] END ...C=1000, gamma=1e-05, kernel=rbf;, score=0.500 total time=   0.0s\n",
      "[CV 1/5] END ..C=1000, gamma=0.0001, kernel=rbf;, score=0.538 total time=   0.0s\n",
      "[CV 2/5] END ..C=1000, gamma=0.0001, kernel=rbf;, score=0.462 total time=   0.0s\n",
      "[CV 3/5] END ..C=1000, gamma=0.0001, kernel=rbf;, score=0.583 total time=   0.0s\n",
      "[CV 4/5] END ..C=1000, gamma=0.0001, kernel=rbf;, score=0.500 total time=   0.0s\n",
      "[CV 5/5] END ..C=1000, gamma=0.0001, kernel=rbf;, score=0.667 total time=   0.0s\n",
      "[CV 1/5] END ...C=1000, gamma=0.001, kernel=rbf;, score=0.462 total time=   0.0s\n",
      "[CV 2/5] END ...C=1000, gamma=0.001, kernel=rbf;, score=0.462 total time=   0.0s\n",
      "[CV 3/5] END ...C=1000, gamma=0.001, kernel=rbf;, score=0.583 total time=   0.0s\n",
      "[CV 4/5] END ...C=1000, gamma=0.001, kernel=rbf;, score=0.500 total time=   0.0s\n",
      "[CV 5/5] END ...C=1000, gamma=0.001, kernel=rbf;, score=0.583 total time=   0.0s\n",
      "[CV 1/5] END ....C=1000, gamma=0.01, kernel=rbf;, score=0.462 total time=   0.0s\n",
      "[CV 2/5] END ....C=1000, gamma=0.01, kernel=rbf;, score=0.692 total time=   0.0s\n",
      "[CV 3/5] END ....C=1000, gamma=0.01, kernel=rbf;, score=0.667 total time=   0.0s\n",
      "[CV 4/5] END ....C=1000, gamma=0.01, kernel=rbf;, score=0.583 total time=   0.0s\n",
      "[CV 5/5] END ....C=1000, gamma=0.01, kernel=rbf;, score=0.667 total time=   0.0s\n",
      "[CV 1/5] END .....C=1000, gamma=0.1, kernel=rbf;, score=0.615 total time=   0.0s\n",
      "[CV 2/5] END .....C=1000, gamma=0.1, kernel=rbf;, score=0.615 total time=   0.0s\n",
      "[CV 3/5] END .....C=1000, gamma=0.1, kernel=rbf;, score=0.583 total time=   0.0s\n",
      "[CV 4/5] END .....C=1000, gamma=0.1, kernel=rbf;, score=0.583 total time=   0.0s\n",
      "[CV 5/5] END .....C=1000, gamma=0.1, kernel=rbf;, score=0.667 total time=   0.0s\n",
      "[CV 1/5] END .......C=1000, gamma=1, kernel=rbf;, score=0.615 total time=   0.0s\n",
      "[CV 2/5] END .......C=1000, gamma=1, kernel=rbf;, score=0.692 total time=   0.0s\n",
      "[CV 3/5] END .......C=1000, gamma=1, kernel=rbf;, score=0.583 total time=   0.0s\n",
      "[CV 4/5] END .......C=1000, gamma=1, kernel=rbf;, score=0.667 total time=   0.0s\n",
      "[CV 5/5] END .......C=1000, gamma=1, kernel=rbf;, score=0.833 total time=   0.0s\n",
      "[CV 1/5] END ......C=1000, gamma=10, kernel=rbf;, score=0.615 total time=   0.0s\n",
      "[CV 2/5] END ......C=1000, gamma=10, kernel=rbf;, score=0.615 total time=   0.0s\n",
      "[CV 3/5] END ......C=1000, gamma=10, kernel=rbf;, score=0.667 total time=   0.0s\n",
      "[CV 4/5] END ......C=1000, gamma=10, kernel=rbf;, score=0.750 total time=   0.0s\n",
      "[CV 5/5] END ......C=1000, gamma=10, kernel=rbf;, score=0.750 total time=   0.0s\n",
      "[CV 1/5] END .....C=1000, gamma=100, kernel=rbf;, score=0.538 total time=   0.0s\n",
      "[CV 2/5] END .....C=1000, gamma=100, kernel=rbf;, score=0.769 total time=   0.0s\n",
      "[CV 3/5] END .....C=1000, gamma=100, kernel=rbf;, score=0.667 total time=   0.0s\n",
      "[CV 4/5] END .....C=1000, gamma=100, kernel=rbf;, score=0.667 total time=   0.0s\n",
      "[CV 5/5] END .....C=1000, gamma=100, kernel=rbf;, score=0.583 total time=   0.0s\n",
      "[CV 1/5] END ....C=1000, gamma=1000, kernel=rbf;, score=0.615 total time=   0.0s\n",
      "[CV 2/5] END ....C=1000, gamma=1000, kernel=rbf;, score=0.462 total time=   0.0s\n",
      "[CV 3/5] END ....C=1000, gamma=1000, kernel=rbf;, score=0.583 total time=   0.0s\n",
      "[CV 4/5] END ....C=1000, gamma=1000, kernel=rbf;, score=0.583 total time=   0.0s\n",
      "[CV 5/5] END ....C=1000, gamma=1000, kernel=rbf;, score=0.667 total time=   0.0s\n",
      "[CV 1/5] END ...C=1000, gamma=10000, kernel=rbf;, score=0.615 total time=   0.0s\n",
      "[CV 2/5] END ...C=1000, gamma=10000, kernel=rbf;, score=0.385 total time=   0.0s\n",
      "[CV 3/5] END ...C=1000, gamma=10000, kernel=rbf;, score=0.583 total time=   0.0s\n",
      "[CV 4/5] END ...C=1000, gamma=10000, kernel=rbf;, score=0.417 total time=   0.0s\n",
      "[CV 5/5] END ...C=1000, gamma=10000, kernel=rbf;, score=0.417 total time=   0.0s\n",
      "[CV 1/5] END ..C=10000, gamma=1e-05, kernel=rbf;, score=0.538 total time=   0.0s\n",
      "[CV 2/5] END ..C=10000, gamma=1e-05, kernel=rbf;, score=0.385 total time=   0.0s\n",
      "[CV 3/5] END ..C=10000, gamma=1e-05, kernel=rbf;, score=0.583 total time=   0.0s\n",
      "[CV 4/5] END ..C=10000, gamma=1e-05, kernel=rbf;, score=0.500 total time=   0.0s\n",
      "[CV 5/5] END ..C=10000, gamma=1e-05, kernel=rbf;, score=0.667 total time=   0.0s\n",
      "[CV 1/5] END .C=10000, gamma=0.0001, kernel=rbf;, score=0.538 total time=   0.0s\n",
      "[CV 2/5] END .C=10000, gamma=0.0001, kernel=rbf;, score=0.462 total time=   0.0s\n",
      "[CV 3/5] END .C=10000, gamma=0.0001, kernel=rbf;, score=0.583 total time=   0.0s\n",
      "[CV 4/5] END .C=10000, gamma=0.0001, kernel=rbf;, score=0.500 total time=   0.0s\n",
      "[CV 5/5] END .C=10000, gamma=0.0001, kernel=rbf;, score=0.583 total time=   0.0s\n",
      "[CV 1/5] END ..C=10000, gamma=0.001, kernel=rbf;, score=0.538 total time=   0.0s\n",
      "[CV 2/5] END ..C=10000, gamma=0.001, kernel=rbf;, score=0.462 total time=   0.0s\n",
      "[CV 3/5] END ..C=10000, gamma=0.001, kernel=rbf;, score=0.667 total time=   0.0s\n",
      "[CV 4/5] END ..C=10000, gamma=0.001, kernel=rbf;, score=0.583 total time=   0.0s\n",
      "[CV 5/5] END ..C=10000, gamma=0.001, kernel=rbf;, score=0.583 total time=   0.0s\n",
      "[CV 1/5] END ...C=10000, gamma=0.01, kernel=rbf;, score=0.462 total time=   0.0s\n",
      "[CV 2/5] END ...C=10000, gamma=0.01, kernel=rbf;, score=0.692 total time=   0.0s\n",
      "[CV 3/5] END ...C=10000, gamma=0.01, kernel=rbf;, score=0.667 total time=   0.0s\n",
      "[CV 4/5] END ...C=10000, gamma=0.01, kernel=rbf;, score=0.583 total time=   0.0s\n",
      "[CV 5/5] END ...C=10000, gamma=0.01, kernel=rbf;, score=0.667 total time=   0.0s\n",
      "[CV 1/5] END ....C=10000, gamma=0.1, kernel=rbf;, score=0.615 total time=   0.0s\n",
      "[CV 2/5] END ....C=10000, gamma=0.1, kernel=rbf;, score=0.692 total time=   0.0s\n",
      "[CV 3/5] END ....C=10000, gamma=0.1, kernel=rbf;, score=0.667 total time=   0.0s\n",
      "[CV 4/5] END ....C=10000, gamma=0.1, kernel=rbf;, score=0.750 total time=   0.0s\n",
      "[CV 5/5] END ....C=10000, gamma=0.1, kernel=rbf;, score=0.833 total time=   0.0s\n",
      "[CV 1/5] END ......C=10000, gamma=1, kernel=rbf;, score=0.615 total time=   0.0s\n",
      "[CV 2/5] END ......C=10000, gamma=1, kernel=rbf;, score=0.615 total time=   0.0s\n",
      "[CV 3/5] END ......C=10000, gamma=1, kernel=rbf;, score=0.500 total time=   0.0s\n",
      "[CV 4/5] END ......C=10000, gamma=1, kernel=rbf;, score=0.667 total time=   0.0s\n",
      "[CV 5/5] END ......C=10000, gamma=1, kernel=rbf;, score=0.833 total time=   0.0s\n",
      "[CV 1/5] END .....C=10000, gamma=10, kernel=rbf;, score=0.615 total time=   0.0s\n",
      "[CV 2/5] END .....C=10000, gamma=10, kernel=rbf;, score=0.692 total time=   0.0s\n",
      "[CV 3/5] END .....C=10000, gamma=10, kernel=rbf;, score=0.750 total time=   0.0s\n",
      "[CV 4/5] END .....C=10000, gamma=10, kernel=rbf;, score=0.750 total time=   0.0s\n",
      "[CV 5/5] END .....C=10000, gamma=10, kernel=rbf;, score=0.667 total time=   0.0s\n",
      "[CV 1/5] END ....C=10000, gamma=100, kernel=rbf;, score=0.538 total time=   0.0s\n",
      "[CV 2/5] END ....C=10000, gamma=100, kernel=rbf;, score=0.769 total time=   0.0s\n",
      "[CV 3/5] END ....C=10000, gamma=100, kernel=rbf;, score=0.667 total time=   0.0s\n",
      "[CV 4/5] END ....C=10000, gamma=100, kernel=rbf;, score=0.667 total time=   0.0s\n",
      "[CV 5/5] END ....C=10000, gamma=100, kernel=rbf;, score=0.750 total time=   0.0s\n",
      "[CV 1/5] END ...C=10000, gamma=1000, kernel=rbf;, score=0.615 total time=   0.0s\n",
      "[CV 2/5] END ...C=10000, gamma=1000, kernel=rbf;, score=0.462 total time=   0.0s\n",
      "[CV 3/5] END ...C=10000, gamma=1000, kernel=rbf;, score=0.500 total time=   0.0s\n",
      "[CV 4/5] END ...C=10000, gamma=1000, kernel=rbf;, score=0.500 total time=   0.0s\n",
      "[CV 5/5] END ...C=10000, gamma=1000, kernel=rbf;, score=0.583 total time=   0.0s\n",
      "[CV 1/5] END ..C=10000, gamma=10000, kernel=rbf;, score=0.615 total time=   0.0s\n"
     ]
    },
    {
     "name": "stdout",
     "output_type": "stream",
     "text": [
      "[CV 2/5] END ..C=10000, gamma=10000, kernel=rbf;, score=0.385 total time=   0.0s\n",
      "[CV 3/5] END ..C=10000, gamma=10000, kernel=rbf;, score=0.583 total time=   0.0s\n",
      "[CV 4/5] END ..C=10000, gamma=10000, kernel=rbf;, score=0.417 total time=   0.0s\n",
      "[CV 5/5] END ..C=10000, gamma=10000, kernel=rbf;, score=0.417 total time=   0.0s\n",
      "[CV 1/5] END ............C=1e-05, kernel=linear;, score=0.385 total time=   0.0s\n",
      "[CV 2/5] END ............C=1e-05, kernel=linear;, score=0.385 total time=   0.0s\n",
      "[CV 3/5] END ............C=1e-05, kernel=linear;, score=0.333 total time=   0.0s\n",
      "[CV 4/5] END ............C=1e-05, kernel=linear;, score=0.417 total time=   0.0s\n",
      "[CV 5/5] END ............C=1e-05, kernel=linear;, score=0.417 total time=   0.0s\n",
      "[CV 1/5] END ...........C=0.0001, kernel=linear;, score=0.385 total time=   0.0s\n",
      "[CV 2/5] END ...........C=0.0001, kernel=linear;, score=0.385 total time=   0.0s\n",
      "[CV 3/5] END ...........C=0.0001, kernel=linear;, score=0.333 total time=   0.0s\n",
      "[CV 4/5] END ...........C=0.0001, kernel=linear;, score=0.417 total time=   0.0s\n",
      "[CV 5/5] END ...........C=0.0001, kernel=linear;, score=0.500 total time=   0.0s\n",
      "[CV 1/5] END ............C=0.001, kernel=linear;, score=0.385 total time=   0.0s\n",
      "[CV 2/5] END ............C=0.001, kernel=linear;, score=0.385 total time=   0.0s\n",
      "[CV 3/5] END ............C=0.001, kernel=linear;, score=0.333 total time=   0.0s\n",
      "[CV 4/5] END ............C=0.001, kernel=linear;, score=0.417 total time=   0.0s\n",
      "[CV 5/5] END ............C=0.001, kernel=linear;, score=0.500 total time=   0.0s\n",
      "[CV 1/5] END .............C=0.01, kernel=linear;, score=0.385 total time=   0.0s\n",
      "[CV 2/5] END .............C=0.01, kernel=linear;, score=0.385 total time=   0.0s\n",
      "[CV 3/5] END .............C=0.01, kernel=linear;, score=0.333 total time=   0.0s\n",
      "[CV 4/5] END .............C=0.01, kernel=linear;, score=0.417 total time=   0.0s\n",
      "[CV 5/5] END .............C=0.01, kernel=linear;, score=0.500 total time=   0.0s\n",
      "[CV 1/5] END ..............C=0.1, kernel=linear;, score=0.385 total time=   0.0s\n",
      "[CV 2/5] END ..............C=0.1, kernel=linear;, score=0.385 total time=   0.0s\n",
      "[CV 3/5] END ..............C=0.1, kernel=linear;, score=0.333 total time=   0.0s\n",
      "[CV 4/5] END ..............C=0.1, kernel=linear;, score=0.417 total time=   0.0s\n",
      "[CV 5/5] END ..............C=0.1, kernel=linear;, score=0.500 total time=   0.0s\n",
      "[CV 1/5] END ................C=1, kernel=linear;, score=0.385 total time=   0.0s\n",
      "[CV 2/5] END ................C=1, kernel=linear;, score=0.385 total time=   0.0s\n",
      "[CV 3/5] END ................C=1, kernel=linear;, score=0.333 total time=   0.2s\n",
      "[CV 4/5] END ................C=1, kernel=linear;, score=0.417 total time=   0.0s\n",
      "[CV 5/5] END ................C=1, kernel=linear;, score=0.500 total time=   0.0s\n",
      "[CV 1/5] END ...............C=10, kernel=linear;, score=0.385 total time=   0.0s\n",
      "[CV 2/5] END ...............C=10, kernel=linear;, score=0.385 total time=   0.0s\n",
      "[CV 3/5] END ...............C=10, kernel=linear;, score=0.333 total time=   1.0s\n",
      "[CV 4/5] END ...............C=10, kernel=linear;, score=0.417 total time=   0.0s\n",
      "[CV 5/5] END ...............C=10, kernel=linear;, score=0.500 total time=   0.0s\n",
      "[CV 1/5] END ..............C=100, kernel=linear;, score=0.385 total time=   0.1s\n",
      "[CV 2/5] END ..............C=100, kernel=linear;, score=0.385 total time=   0.1s\n",
      "[CV 3/5] END ..............C=100, kernel=linear;, score=0.333 total time=   0.9s\n",
      "[CV 4/5] END ..............C=100, kernel=linear;, score=0.417 total time=   0.1s\n",
      "[CV 5/5] END ..............C=100, kernel=linear;, score=0.500 total time=   0.1s\n",
      "[CV 1/5] END .............C=1000, kernel=linear;, score=0.385 total time=   2.8s\n",
      "[CV 2/5] END .............C=1000, kernel=linear;, score=0.308 total time=   0.3s\n",
      "[CV 3/5] END .............C=1000, kernel=linear;, score=0.583 total time=   2.0s\n",
      "[CV 4/5] END .............C=1000, kernel=linear;, score=0.500 total time=   2.6s\n",
      "[CV 5/5] END .............C=1000, kernel=linear;, score=0.500 total time=   1.1s\n",
      "[CV 1/5] END ............C=10000, kernel=linear;, score=0.385 total time=  26.6s\n",
      "[CV 2/5] END ............C=10000, kernel=linear;, score=0.231 total time=   2.7s\n",
      "[CV 3/5] END ............C=10000, kernel=linear;, score=0.667 total time=  15.2s\n",
      "[CV 4/5] END ............C=10000, kernel=linear;, score=0.333 total time=  17.0s\n",
      "[CV 5/5] END ............C=10000, kernel=linear;, score=0.500 total time=   0.5s\n"
     ]
    },
    {
     "data": {
      "text/plain": [
       "GridSearchCV(cv=KFold(n_splits=5, random_state=None, shuffle=True),\n",
       "             estimator=SVC(),\n",
       "             param_grid=[{'C': [1e-05, 0.0001, 0.001, 0.01, 0.1, 1, 10, 100,\n",
       "                                1000, 10000],\n",
       "                          'gamma': [1e-05, 0.0001, 0.001, 0.01, 0.1, 1, 10, 100,\n",
       "                                    1000, 10000],\n",
       "                          'kernel': ['rbf']},\n",
       "                         {'C': [1e-05, 0.0001, 0.001, 0.01, 0.1, 1, 10, 100,\n",
       "                                1000, 10000],\n",
       "                          'kernel': ['linear']}],\n",
       "             scoring='accuracy', verbose=3)"
      ]
     },
     "execution_count": 90,
     "metadata": {},
     "output_type": "execute_result"
    }
   ],
   "source": [
    "\n",
    "values = [0.00001, 0.0001, 0.001, 0.01, 0.1, 1, 10, 100, 1000, 10000]\n",
    "param_grid = [{'kernel':['rbf'], 'C':values, 'gamma':values},\n",
    "               {'kernel':['linear'], 'C':values}]\n",
    "gs = GridSearchCV(SVC(), param_grid, cv= KFold(n_splits=5, shuffle=True), scoring='accuracy', verbose = 3)\n",
    "gs.fit(x_train, y_train)"
   ]
  },
  {
   "cell_type": "code",
   "execution_count": 91,
   "metadata": {},
   "outputs": [
    {
     "name": "stdout",
     "output_type": "stream",
     "text": [
      "최적 하이퍼 파라미터:  {'C': 10000, 'gamma': 0.1, 'kernel': 'rbf'}\n",
      "최고 예측 정확도: 0.7115\n"
     ]
    }
   ],
   "source": [
    "print(\"최적 하이퍼 파라미터: \", gs.best_params_)\n",
    "print(\"최고 예측 정확도: {:.4f}\".format(gs.best_score_))"
   ]
  },
  {
   "cell_type": "code",
   "execution_count": null,
   "metadata": {},
   "outputs": [],
   "source": []
  },
  {
   "cell_type": "code",
   "execution_count": null,
   "metadata": {},
   "outputs": [],
   "source": []
  },
  {
   "cell_type": "code",
   "execution_count": null,
   "metadata": {},
   "outputs": [],
   "source": []
  },
  {
   "cell_type": "code",
   "execution_count": null,
   "metadata": {},
   "outputs": [],
   "source": []
  },
  {
   "cell_type": "code",
   "execution_count": null,
   "metadata": {},
   "outputs": [],
   "source": []
  }
 ],
 "metadata": {
  "kernelspec": {
   "display_name": "Python 3",
   "language": "python",
   "name": "python3"
  },
  "language_info": {
   "codemirror_mode": {
    "name": "ipython",
    "version": 3
   },
   "file_extension": ".py",
   "mimetype": "text/x-python",
   "name": "python",
   "nbconvert_exporter": "python",
   "pygments_lexer": "ipython3",
   "version": "3.8.3"
  }
 },
 "nbformat": 4,
 "nbformat_minor": 4
}
